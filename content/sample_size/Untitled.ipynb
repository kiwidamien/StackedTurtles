{
 "cells": [
  {
   "cell_type": "code",
   "execution_count": 2,
   "metadata": {
    "ExecuteTime": {
     "end_time": "2018-12-25T23:32:04.241751Z",
     "start_time": "2018-12-25T23:32:04.232775Z"
    }
   },
   "outputs": [],
   "source": [
    "import pandas as pd\n",
    "import numpy as np\n",
    "import seaborn as sns\n",
    "import matplotlib.pyplot as plt \n",
    "\n",
    "plt.style.use('ggplot')\n",
    "%matplotlib inline"
   ]
  },
  {
   "cell_type": "code",
   "execution_count": 3,
   "metadata": {
    "ExecuteTime": {
     "end_time": "2018-12-25T23:32:04.960806Z",
     "start_time": "2018-12-25T23:32:04.928536Z"
    }
   },
   "outputs": [],
   "source": [
    "df=pd.read_csv('incd.csv', encoding='latin1', skiprows=8)"
   ]
  },
  {
   "cell_type": "code",
   "execution_count": 4,
   "metadata": {
    "ExecuteTime": {
     "end_time": "2018-12-25T23:32:05.467939Z",
     "start_time": "2018-12-25T23:32:05.446073Z"
    }
   },
   "outputs": [
    {
     "data": {
      "text/html": [
       "<div>\n",
       "<style scoped>\n",
       "    .dataframe tbody tr th:only-of-type {\n",
       "        vertical-align: middle;\n",
       "    }\n",
       "\n",
       "    .dataframe tbody tr th {\n",
       "        vertical-align: top;\n",
       "    }\n",
       "\n",
       "    .dataframe thead th {\n",
       "        text-align: right;\n",
       "    }\n",
       "</style>\n",
       "<table border=\"1\" class=\"dataframe\">\n",
       "  <thead>\n",
       "    <tr style=\"text-align: right;\">\n",
       "      <th></th>\n",
       "      <th>County</th>\n",
       "      <th>FIPS</th>\n",
       "      <th>Met Healthy People Objective of ***?</th>\n",
       "      <th>Age-Adjusted Incidence Rate() - cases per 100,000</th>\n",
       "      <th>Lower 95% Confidence Interval</th>\n",
       "      <th>Upper 95% Confidence Interval</th>\n",
       "      <th>Average Annual Count</th>\n",
       "      <th>Recent Trend</th>\n",
       "      <th>Recent 5-Year Trend () in Incidence Rates</th>\n",
       "      <th>Lower 95% Confidence Interval.1</th>\n",
       "      <th>Upper 95% Confidence Interval.1</th>\n",
       "    </tr>\n",
       "  </thead>\n",
       "  <tbody>\n",
       "    <tr>\n",
       "      <th>0</th>\n",
       "      <td>US (SEER+NPCR)(1,10)</td>\n",
       "      <td>0.0</td>\n",
       "      <td>***</td>\n",
       "      <td>16.4</td>\n",
       "      <td>16.3</td>\n",
       "      <td>16.4</td>\n",
       "      <td>58599</td>\n",
       "      <td>rising</td>\n",
       "      <td>0.8</td>\n",
       "      <td>0.6</td>\n",
       "      <td>0.9</td>\n",
       "    </tr>\n",
       "    <tr>\n",
       "      <th>1</th>\n",
       "      <td>Cass County, Illinois(6,10)</td>\n",
       "      <td>17017.0</td>\n",
       "      <td>***</td>\n",
       "      <td>41.1</td>\n",
       "      <td>28</td>\n",
       "      <td>58.5</td>\n",
       "      <td>7</td>\n",
       "      <td>rising</td>\n",
       "      <td>35.1</td>\n",
       "      <td>19.0</td>\n",
       "      <td>53.4</td>\n",
       "    </tr>\n",
       "    <tr>\n",
       "      <th>2</th>\n",
       "      <td>Union County, Florida(6,10)</td>\n",
       "      <td>12125.0</td>\n",
       "      <td>***</td>\n",
       "      <td>38.7</td>\n",
       "      <td>26.6</td>\n",
       "      <td>54.9</td>\n",
       "      <td>7</td>\n",
       "      <td>stable</td>\n",
       "      <td>-16.9</td>\n",
       "      <td>-37.4</td>\n",
       "      <td>10.4</td>\n",
       "    </tr>\n",
       "    <tr>\n",
       "      <th>3</th>\n",
       "      <td>Greene County, Illinois(6,10)</td>\n",
       "      <td>17061.0</td>\n",
       "      <td>***</td>\n",
       "      <td>37.5</td>\n",
       "      <td>24.7</td>\n",
       "      <td>54.9</td>\n",
       "      <td>6</td>\n",
       "      <td>stable</td>\n",
       "      <td>28.7</td>\n",
       "      <td>-19.6</td>\n",
       "      <td>106.1</td>\n",
       "    </tr>\n",
       "    <tr>\n",
       "      <th>4</th>\n",
       "      <td>Benton County, Mississippi(6,10)</td>\n",
       "      <td>28009.0</td>\n",
       "      <td>***</td>\n",
       "      <td>36.6</td>\n",
       "      <td>21.2</td>\n",
       "      <td>59.1</td>\n",
       "      <td>4</td>\n",
       "      <td>stable</td>\n",
       "      <td>23.4</td>\n",
       "      <td>-1.4</td>\n",
       "      <td>54.4</td>\n",
       "    </tr>\n",
       "  </tbody>\n",
       "</table>\n",
       "</div>"
      ],
      "text/plain": [
       "                             County     FIPS  \\\n",
       "0              US (SEER+NPCR)(1,10)      0.0   \n",
       "1       Cass County, Illinois(6,10)  17017.0   \n",
       "2       Union County, Florida(6,10)  12125.0   \n",
       "3     Greene County, Illinois(6,10)  17061.0   \n",
       "4  Benton County, Mississippi(6,10)  28009.0   \n",
       "\n",
       "  Met Healthy People Objective of ***?  \\\n",
       "0                                  ***   \n",
       "1                                  ***   \n",
       "2                                  ***   \n",
       "3                                  ***   \n",
       "4                                  ***   \n",
       "\n",
       "  Age-Adjusted Incidence Rate() - cases per 100,000  \\\n",
       "0                                              16.4    \n",
       "1                                              41.1    \n",
       "2                                              38.7    \n",
       "3                                              37.5    \n",
       "4                                              36.6    \n",
       "\n",
       "  Lower 95% Confidence Interval Upper 95% Confidence Interval  \\\n",
       "0                          16.3                          16.4   \n",
       "1                            28                          58.5   \n",
       "2                          26.6                          54.9   \n",
       "3                          24.7                          54.9   \n",
       "4                          21.2                          59.1   \n",
       "\n",
       "  Average Annual Count Recent Trend  \\\n",
       "0                58599       rising   \n",
       "1                    7       rising   \n",
       "2                    7       stable   \n",
       "3                    6       stable   \n",
       "4                    4       stable   \n",
       "\n",
       "  Recent 5-Year Trend () in Incidence Rates Lower 95% Confidence Interval.1  \\\n",
       "0                                       0.8                              0.6   \n",
       "1                                      35.1                             19.0   \n",
       "2                                     -16.9                            -37.4   \n",
       "3                                      28.7                            -19.6   \n",
       "4                                      23.4                             -1.4   \n",
       "\n",
       "  Upper 95% Confidence Interval.1  \n",
       "0                             0.9  \n",
       "1                            53.4  \n",
       "2                            10.4  \n",
       "3                           106.1  \n",
       "4                            54.4  "
      ]
     },
     "execution_count": 4,
     "metadata": {},
     "output_type": "execute_result"
    }
   ],
   "source": [
    "df.head()"
   ]
  },
  {
   "cell_type": "code",
   "execution_count": 5,
   "metadata": {
    "ExecuteTime": {
     "end_time": "2018-12-25T23:32:06.963054Z",
     "start_time": "2018-12-25T23:32:06.950186Z"
    }
   },
   "outputs": [
    {
     "name": "stdout",
     "output_type": "stream",
     "text": [
      "<class 'pandas.core.frame.DataFrame'>\n",
      "RangeIndex: 3162 entries, 0 to 3161\n",
      "Data columns (total 11 columns):\n",
      "County                                                3162 non-null object\n",
      " FIPS                                                 3142 non-null float64\n",
      "Met Healthy People Objective of ***?                  3142 non-null object\n",
      "Age-Adjusted Incidence Rate() - cases per 100,000    3142 non-null object\n",
      "Lower 95% Confidence Interval                         3142 non-null object\n",
      "Upper 95% Confidence Interval                         3142 non-null object\n",
      "Average Annual Count                                  3142 non-null object\n",
      "Recent Trend                                          3142 non-null object\n",
      "Recent 5-Year Trend () in Incidence Rates            3142 non-null object\n",
      "Lower 95% Confidence Interval.1                       3142 non-null object\n",
      "Upper 95% Confidence Interval.1                       3142 non-null object\n",
      "dtypes: float64(1), object(10)\n",
      "memory usage: 271.8+ KB\n"
     ]
    }
   ],
   "source": [
    "df.info()"
   ]
  },
  {
   "cell_type": "code",
   "execution_count": 6,
   "metadata": {
    "ExecuteTime": {
     "end_time": "2018-12-25T23:32:24.427619Z",
     "start_time": "2018-12-25T23:32:24.383167Z"
    }
   },
   "outputs": [
    {
     "data": {
      "text/html": [
       "<div>\n",
       "<style scoped>\n",
       "    .dataframe tbody tr th:only-of-type {\n",
       "        vertical-align: middle;\n",
       "    }\n",
       "\n",
       "    .dataframe tbody tr th {\n",
       "        vertical-align: top;\n",
       "    }\n",
       "\n",
       "    .dataframe thead th {\n",
       "        text-align: right;\n",
       "    }\n",
       "</style>\n",
       "<table border=\"1\" class=\"dataframe\">\n",
       "  <thead>\n",
       "    <tr style=\"text-align: right;\">\n",
       "      <th></th>\n",
       "      <th>County</th>\n",
       "      <th>FIPS</th>\n",
       "      <th>Met Healthy People Objective of ***?</th>\n",
       "      <th>Age-Adjusted Incidence Rate() - cases per 100,000</th>\n",
       "      <th>Lower 95% Confidence Interval</th>\n",
       "      <th>Upper 95% Confidence Interval</th>\n",
       "      <th>Average Annual Count</th>\n",
       "      <th>Recent Trend</th>\n",
       "      <th>Recent 5-Year Trend () in Incidence Rates</th>\n",
       "      <th>Lower 95% Confidence Interval.1</th>\n",
       "      <th>Upper 95% Confidence Interval.1</th>\n",
       "    </tr>\n",
       "  </thead>\n",
       "  <tbody>\n",
       "    <tr>\n",
       "      <th>25</th>\n",
       "      <td>Osceola County, Michigan(6,10)</td>\n",
       "      <td>26133.0</td>\n",
       "      <td>***</td>\n",
       "      <td>30.7 #</td>\n",
       "      <td>22.3</td>\n",
       "      <td>41.4</td>\n",
       "      <td>10</td>\n",
       "      <td>stable</td>\n",
       "      <td>-6.6</td>\n",
       "      <td>-24.9</td>\n",
       "      <td>16.0</td>\n",
       "    </tr>\n",
       "    <tr>\n",
       "      <th>184</th>\n",
       "      <td>Presque Isle County, Michigan(6,10)</td>\n",
       "      <td>26141.0</td>\n",
       "      <td>***</td>\n",
       "      <td>23.9 #</td>\n",
       "      <td>13.3</td>\n",
       "      <td>40.1</td>\n",
       "      <td>5</td>\n",
       "      <td>stable</td>\n",
       "      <td>-19.0</td>\n",
       "      <td>-66.5</td>\n",
       "      <td>96.1</td>\n",
       "    </tr>\n",
       "    <tr>\n",
       "      <th>330</th>\n",
       "      <td>Roscommon County, Michigan(6,10)</td>\n",
       "      <td>26143.0</td>\n",
       "      <td>***</td>\n",
       "      <td>22.1 #</td>\n",
       "      <td>16</td>\n",
       "      <td>30.5</td>\n",
       "      <td>11</td>\n",
       "      <td>stable</td>\n",
       "      <td>7.4</td>\n",
       "      <td>-20.6</td>\n",
       "      <td>45.2</td>\n",
       "    </tr>\n",
       "    <tr>\n",
       "      <th>454</th>\n",
       "      <td>Van Buren County, Michigan(6,10)</td>\n",
       "      <td>26159.0</td>\n",
       "      <td>***</td>\n",
       "      <td>20.9 #</td>\n",
       "      <td>16.8</td>\n",
       "      <td>25.8</td>\n",
       "      <td>19</td>\n",
       "      <td>stable</td>\n",
       "      <td>-5.6</td>\n",
       "      <td>-20.8</td>\n",
       "      <td>12.4</td>\n",
       "    </tr>\n",
       "    <tr>\n",
       "      <th>630</th>\n",
       "      <td>Bay County, Michigan(6,10)</td>\n",
       "      <td>26017.0</td>\n",
       "      <td>***</td>\n",
       "      <td>19.6 #</td>\n",
       "      <td>16.3</td>\n",
       "      <td>23.5</td>\n",
       "      <td>27</td>\n",
       "      <td>stable</td>\n",
       "      <td>-1.6</td>\n",
       "      <td>-16.9</td>\n",
       "      <td>16.5</td>\n",
       "    </tr>\n",
       "    <tr>\n",
       "      <th>633</th>\n",
       "      <td>Delta County, Michigan(6,10)</td>\n",
       "      <td>26041.0</td>\n",
       "      <td>***</td>\n",
       "      <td>19.6 #</td>\n",
       "      <td>14.4</td>\n",
       "      <td>26.3</td>\n",
       "      <td>11</td>\n",
       "      <td>stable</td>\n",
       "      <td>3.8</td>\n",
       "      <td>-15.1</td>\n",
       "      <td>27.0</td>\n",
       "    </tr>\n",
       "    <tr>\n",
       "      <th>651</th>\n",
       "      <td>Berrien County, Michigan(6,10)</td>\n",
       "      <td>26021.0</td>\n",
       "      <td>***</td>\n",
       "      <td>19.5 #</td>\n",
       "      <td>16.8</td>\n",
       "      <td>22.7</td>\n",
       "      <td>38</td>\n",
       "      <td>stable</td>\n",
       "      <td>2.2</td>\n",
       "      <td>-8.1</td>\n",
       "      <td>13.6</td>\n",
       "    </tr>\n",
       "    <tr>\n",
       "      <th>695</th>\n",
       "      <td>Chippewa County, Michigan(6,10)</td>\n",
       "      <td>26033.0</td>\n",
       "      <td>***</td>\n",
       "      <td>19.3 #</td>\n",
       "      <td>14</td>\n",
       "      <td>26.1</td>\n",
       "      <td>9</td>\n",
       "      <td>stable</td>\n",
       "      <td>8.2</td>\n",
       "      <td>-33.0</td>\n",
       "      <td>74.5</td>\n",
       "    </tr>\n",
       "    <tr>\n",
       "      <th>797</th>\n",
       "      <td>Otsego County, Michigan(6,10)</td>\n",
       "      <td>26137.0</td>\n",
       "      <td>***</td>\n",
       "      <td>18.7 #</td>\n",
       "      <td>12.5</td>\n",
       "      <td>27.3</td>\n",
       "      <td>6</td>\n",
       "      <td>stable</td>\n",
       "      <td>4.4</td>\n",
       "      <td>-31.9</td>\n",
       "      <td>60.2</td>\n",
       "    </tr>\n",
       "    <tr>\n",
       "      <th>816</th>\n",
       "      <td>Ionia County, Michigan(6,10)</td>\n",
       "      <td>26067.0</td>\n",
       "      <td>***</td>\n",
       "      <td>18.6 #</td>\n",
       "      <td>14.3</td>\n",
       "      <td>23.8</td>\n",
       "      <td>13</td>\n",
       "      <td>stable</td>\n",
       "      <td>-6.8</td>\n",
       "      <td>-24.2</td>\n",
       "      <td>14.7</td>\n",
       "    </tr>\n",
       "    <tr>\n",
       "      <th>824</th>\n",
       "      <td>Menominee County, Michigan(6,10)</td>\n",
       "      <td>26109.0</td>\n",
       "      <td>***</td>\n",
       "      <td>18.6 #</td>\n",
       "      <td>12.3</td>\n",
       "      <td>27.3</td>\n",
       "      <td>6</td>\n",
       "      <td>stable</td>\n",
       "      <td>-18.3</td>\n",
       "      <td>-67.0</td>\n",
       "      <td>101.8</td>\n",
       "    </tr>\n",
       "    <tr>\n",
       "      <th>828</th>\n",
       "      <td>Ogemaw County, Michigan(6,10)</td>\n",
       "      <td>26129.0</td>\n",
       "      <td>***</td>\n",
       "      <td>18.5 #</td>\n",
       "      <td>11.6</td>\n",
       "      <td>28.4</td>\n",
       "      <td>5</td>\n",
       "      <td>stable</td>\n",
       "      <td>1.1</td>\n",
       "      <td>-19.0</td>\n",
       "      <td>26.2</td>\n",
       "    </tr>\n",
       "    <tr>\n",
       "      <th>833</th>\n",
       "      <td>Benzie County, Michigan(6,10)</td>\n",
       "      <td>26019.0</td>\n",
       "      <td>***</td>\n",
       "      <td>18.5 #</td>\n",
       "      <td>11.2</td>\n",
       "      <td>29.2</td>\n",
       "      <td>5</td>\n",
       "      <td>stable</td>\n",
       "      <td>12.4</td>\n",
       "      <td>-15.7</td>\n",
       "      <td>49.9</td>\n",
       "    </tr>\n",
       "    <tr>\n",
       "      <th>894</th>\n",
       "      <td>Tuscola County, Michigan(6,10)</td>\n",
       "      <td>26157.0</td>\n",
       "      <td>***</td>\n",
       "      <td>18.2 #</td>\n",
       "      <td>13.8</td>\n",
       "      <td>23.7</td>\n",
       "      <td>13</td>\n",
       "      <td>stable</td>\n",
       "      <td>-7.8</td>\n",
       "      <td>-28.8</td>\n",
       "      <td>19.3</td>\n",
       "    </tr>\n",
       "    <tr>\n",
       "      <th>933</th>\n",
       "      <td>Wexford County, Michigan(6,10)</td>\n",
       "      <td>26165.0</td>\n",
       "      <td>***</td>\n",
       "      <td>18.1 #</td>\n",
       "      <td>12.8</td>\n",
       "      <td>25</td>\n",
       "      <td>8</td>\n",
       "      <td>falling</td>\n",
       "      <td>-22.3</td>\n",
       "      <td>-31.8</td>\n",
       "      <td>-11.4</td>\n",
       "    </tr>\n",
       "    <tr>\n",
       "      <th>943</th>\n",
       "      <td>Cheboygan County, Michigan(6,10)</td>\n",
       "      <td>26031.0</td>\n",
       "      <td>***</td>\n",
       "      <td>18 #</td>\n",
       "      <td>12.3</td>\n",
       "      <td>26</td>\n",
       "      <td>7</td>\n",
       "      <td>stable</td>\n",
       "      <td>4.3</td>\n",
       "      <td>-31.7</td>\n",
       "      <td>59.3</td>\n",
       "    </tr>\n",
       "    <tr>\n",
       "      <th>953</th>\n",
       "      <td>Shiawassee County, Michigan(6,10)</td>\n",
       "      <td>26155.0</td>\n",
       "      <td>***</td>\n",
       "      <td>18 #</td>\n",
       "      <td>14.2</td>\n",
       "      <td>22.6</td>\n",
       "      <td>16</td>\n",
       "      <td>stable</td>\n",
       "      <td>-2.6</td>\n",
       "      <td>-20.8</td>\n",
       "      <td>19.9</td>\n",
       "    </tr>\n",
       "    <tr>\n",
       "      <th>955</th>\n",
       "      <td>Genesee County, Michigan(6,10)</td>\n",
       "      <td>26049.0</td>\n",
       "      <td>***</td>\n",
       "      <td>18 #</td>\n",
       "      <td>16.3</td>\n",
       "      <td>19.8</td>\n",
       "      <td>90</td>\n",
       "      <td>stable</td>\n",
       "      <td>2.0</td>\n",
       "      <td>-9.9</td>\n",
       "      <td>15.5</td>\n",
       "    </tr>\n",
       "    <tr>\n",
       "      <th>1024</th>\n",
       "      <td>Huron County, Michigan(6,10)</td>\n",
       "      <td>26063.0</td>\n",
       "      <td>***</td>\n",
       "      <td>17.7 #</td>\n",
       "      <td>12.1</td>\n",
       "      <td>25.1</td>\n",
       "      <td>8</td>\n",
       "      <td>stable</td>\n",
       "      <td>10.9</td>\n",
       "      <td>-30.1</td>\n",
       "      <td>76.1</td>\n",
       "    </tr>\n",
       "    <tr>\n",
       "      <th>1042</th>\n",
       "      <td>Lenawee County, Michigan(6,10)</td>\n",
       "      <td>26091.0</td>\n",
       "      <td>***</td>\n",
       "      <td>17.6 #</td>\n",
       "      <td>14.4</td>\n",
       "      <td>21.3</td>\n",
       "      <td>23</td>\n",
       "      <td>stable</td>\n",
       "      <td>-8.3</td>\n",
       "      <td>-38.8</td>\n",
       "      <td>37.4</td>\n",
       "    </tr>\n",
       "    <tr>\n",
       "      <th>1044</th>\n",
       "      <td>Arenac County, Michigan(6,10)</td>\n",
       "      <td>26011.0</td>\n",
       "      <td>***</td>\n",
       "      <td>17.6 #</td>\n",
       "      <td>10.2</td>\n",
       "      <td>28.9</td>\n",
       "      <td>4</td>\n",
       "      <td>stable</td>\n",
       "      <td>-19.2</td>\n",
       "      <td>-52.2</td>\n",
       "      <td>36.6</td>\n",
       "    </tr>\n",
       "    <tr>\n",
       "      <th>1125</th>\n",
       "      <td>Gladwin County, Michigan(6,10)</td>\n",
       "      <td>26051.0</td>\n",
       "      <td>***</td>\n",
       "      <td>17.2 #</td>\n",
       "      <td>11.6</td>\n",
       "      <td>25.1</td>\n",
       "      <td>7</td>\n",
       "      <td>stable</td>\n",
       "      <td>-6.1</td>\n",
       "      <td>-33.1</td>\n",
       "      <td>31.8</td>\n",
       "    </tr>\n",
       "    <tr>\n",
       "      <th>1140</th>\n",
       "      <td>Manistee County, Michigan(6,10)</td>\n",
       "      <td>26101.0</td>\n",
       "      <td>***</td>\n",
       "      <td>17.2 #</td>\n",
       "      <td>11.6</td>\n",
       "      <td>24.9</td>\n",
       "      <td>7</td>\n",
       "      <td>stable</td>\n",
       "      <td>-14.4</td>\n",
       "      <td>-53.9</td>\n",
       "      <td>59.2</td>\n",
       "    </tr>\n",
       "    <tr>\n",
       "      <th>1162</th>\n",
       "      <td>Lapeer County, Michigan(6,10)</td>\n",
       "      <td>26087.0</td>\n",
       "      <td>***</td>\n",
       "      <td>17.1 #</td>\n",
       "      <td>13.8</td>\n",
       "      <td>21</td>\n",
       "      <td>20</td>\n",
       "      <td>stable</td>\n",
       "      <td>-3.0</td>\n",
       "      <td>-18.6</td>\n",
       "      <td>15.6</td>\n",
       "    </tr>\n",
       "    <tr>\n",
       "      <th>1166</th>\n",
       "      <td>Ingham County, Michigan(6,10)</td>\n",
       "      <td>26065.0</td>\n",
       "      <td>***</td>\n",
       "      <td>17 #</td>\n",
       "      <td>14.8</td>\n",
       "      <td>19.5</td>\n",
       "      <td>46</td>\n",
       "      <td>stable</td>\n",
       "      <td>-11.7</td>\n",
       "      <td>-24.1</td>\n",
       "      <td>2.7</td>\n",
       "    </tr>\n",
       "    <tr>\n",
       "      <th>1181</th>\n",
       "      <td>Isabella County, Michigan(6,10)</td>\n",
       "      <td>26073.0</td>\n",
       "      <td>***</td>\n",
       "      <td>17 #</td>\n",
       "      <td>12.4</td>\n",
       "      <td>22.6</td>\n",
       "      <td>10</td>\n",
       "      <td>stable</td>\n",
       "      <td>1.4</td>\n",
       "      <td>-16.1</td>\n",
       "      <td>22.7</td>\n",
       "    </tr>\n",
       "    <tr>\n",
       "      <th>1215</th>\n",
       "      <td>Kent County, Michigan(6,10)</td>\n",
       "      <td>26081.0</td>\n",
       "      <td>***</td>\n",
       "      <td>16.8 #</td>\n",
       "      <td>15.4</td>\n",
       "      <td>18.3</td>\n",
       "      <td>107</td>\n",
       "      <td>stable</td>\n",
       "      <td>-2.6</td>\n",
       "      <td>-20.8</td>\n",
       "      <td>19.9</td>\n",
       "    </tr>\n",
       "    <tr>\n",
       "      <th>1251</th>\n",
       "      <td>Lake County, Michigan(6,10)</td>\n",
       "      <td>26085.0</td>\n",
       "      <td>***</td>\n",
       "      <td>16.7 #</td>\n",
       "      <td>9.4</td>\n",
       "      <td>29.2</td>\n",
       "      <td>3</td>\n",
       "      <td>*</td>\n",
       "      <td>*</td>\n",
       "      <td>*</td>\n",
       "      <td>*</td>\n",
       "    </tr>\n",
       "    <tr>\n",
       "      <th>1293</th>\n",
       "      <td>Muskegon County, Michigan(6,10)</td>\n",
       "      <td>26121.0</td>\n",
       "      <td>***</td>\n",
       "      <td>16.5 #</td>\n",
       "      <td>14</td>\n",
       "      <td>19.3</td>\n",
       "      <td>33</td>\n",
       "      <td>stable</td>\n",
       "      <td>5.6</td>\n",
       "      <td>-9.0</td>\n",
       "      <td>22.6</td>\n",
       "    </tr>\n",
       "    <tr>\n",
       "      <th>1346</th>\n",
       "      <td>Antrim County, Michigan(6,10)</td>\n",
       "      <td>26009.0</td>\n",
       "      <td>***</td>\n",
       "      <td>16.3 #</td>\n",
       "      <td>10.6</td>\n",
       "      <td>24.4</td>\n",
       "      <td>6</td>\n",
       "      <td>stable</td>\n",
       "      <td>14.5</td>\n",
       "      <td>-44.7</td>\n",
       "      <td>137.1</td>\n",
       "    </tr>\n",
       "    <tr>\n",
       "      <th>...</th>\n",
       "      <td>...</td>\n",
       "      <td>...</td>\n",
       "      <td>...</td>\n",
       "      <td>...</td>\n",
       "      <td>...</td>\n",
       "      <td>...</td>\n",
       "      <td>...</td>\n",
       "      <td>...</td>\n",
       "      <td>...</td>\n",
       "      <td>...</td>\n",
       "      <td>...</td>\n",
       "    </tr>\n",
       "    <tr>\n",
       "      <th>3132</th>\n",
       "      <td>Humboldt County, Nevada(6)</td>\n",
       "      <td>32013.0</td>\n",
       "      <td>***</td>\n",
       "      <td>¶¶</td>\n",
       "      <td>¶¶</td>\n",
       "      <td>¶¶</td>\n",
       "      <td>¶¶</td>\n",
       "      <td>¶¶</td>\n",
       "      <td>¶¶</td>\n",
       "      <td>¶¶</td>\n",
       "      <td>¶¶</td>\n",
       "    </tr>\n",
       "    <tr>\n",
       "      <th>3133</th>\n",
       "      <td>Lander County, Nevada(6)</td>\n",
       "      <td>32015.0</td>\n",
       "      <td>***</td>\n",
       "      <td>¶¶</td>\n",
       "      <td>¶¶</td>\n",
       "      <td>¶¶</td>\n",
       "      <td>¶¶</td>\n",
       "      <td>¶¶</td>\n",
       "      <td>¶¶</td>\n",
       "      <td>¶¶</td>\n",
       "      <td>¶¶</td>\n",
       "    </tr>\n",
       "    <tr>\n",
       "      <th>3134</th>\n",
       "      <td>Lincoln County, Nevada(6)</td>\n",
       "      <td>32017.0</td>\n",
       "      <td>***</td>\n",
       "      <td>¶¶</td>\n",
       "      <td>¶¶</td>\n",
       "      <td>¶¶</td>\n",
       "      <td>¶¶</td>\n",
       "      <td>¶¶</td>\n",
       "      <td>¶¶</td>\n",
       "      <td>¶¶</td>\n",
       "      <td>¶¶</td>\n",
       "    </tr>\n",
       "    <tr>\n",
       "      <th>3135</th>\n",
       "      <td>Lyon County, Nevada(6)</td>\n",
       "      <td>32019.0</td>\n",
       "      <td>***</td>\n",
       "      <td>¶¶</td>\n",
       "      <td>¶¶</td>\n",
       "      <td>¶¶</td>\n",
       "      <td>¶¶</td>\n",
       "      <td>¶¶</td>\n",
       "      <td>¶¶</td>\n",
       "      <td>¶¶</td>\n",
       "      <td>¶¶</td>\n",
       "    </tr>\n",
       "    <tr>\n",
       "      <th>3136</th>\n",
       "      <td>Mineral County, Nevada(6)</td>\n",
       "      <td>32021.0</td>\n",
       "      <td>***</td>\n",
       "      <td>¶¶</td>\n",
       "      <td>¶¶</td>\n",
       "      <td>¶¶</td>\n",
       "      <td>¶¶</td>\n",
       "      <td>¶¶</td>\n",
       "      <td>¶¶</td>\n",
       "      <td>¶¶</td>\n",
       "      <td>¶¶</td>\n",
       "    </tr>\n",
       "    <tr>\n",
       "      <th>3137</th>\n",
       "      <td>Nye County, Nevada(6)</td>\n",
       "      <td>32023.0</td>\n",
       "      <td>***</td>\n",
       "      <td>¶¶</td>\n",
       "      <td>¶¶</td>\n",
       "      <td>¶¶</td>\n",
       "      <td>¶¶</td>\n",
       "      <td>¶¶</td>\n",
       "      <td>¶¶</td>\n",
       "      <td>¶¶</td>\n",
       "      <td>¶¶</td>\n",
       "    </tr>\n",
       "    <tr>\n",
       "      <th>3138</th>\n",
       "      <td>Pershing County, Nevada(6)</td>\n",
       "      <td>32027.0</td>\n",
       "      <td>***</td>\n",
       "      <td>¶¶</td>\n",
       "      <td>¶¶</td>\n",
       "      <td>¶¶</td>\n",
       "      <td>¶¶</td>\n",
       "      <td>¶¶</td>\n",
       "      <td>¶¶</td>\n",
       "      <td>¶¶</td>\n",
       "      <td>¶¶</td>\n",
       "    </tr>\n",
       "    <tr>\n",
       "      <th>3139</th>\n",
       "      <td>Storey County, Nevada(6)</td>\n",
       "      <td>32029.0</td>\n",
       "      <td>***</td>\n",
       "      <td>¶¶</td>\n",
       "      <td>¶¶</td>\n",
       "      <td>¶¶</td>\n",
       "      <td>¶¶</td>\n",
       "      <td>¶¶</td>\n",
       "      <td>¶¶</td>\n",
       "      <td>¶¶</td>\n",
       "      <td>¶¶</td>\n",
       "    </tr>\n",
       "    <tr>\n",
       "      <th>3140</th>\n",
       "      <td>Washoe County, Nevada(6)</td>\n",
       "      <td>32031.0</td>\n",
       "      <td>***</td>\n",
       "      <td>¶¶</td>\n",
       "      <td>¶¶</td>\n",
       "      <td>¶¶</td>\n",
       "      <td>¶¶</td>\n",
       "      <td>¶¶</td>\n",
       "      <td>¶¶</td>\n",
       "      <td>¶¶</td>\n",
       "      <td>¶¶</td>\n",
       "    </tr>\n",
       "    <tr>\n",
       "      <th>3141</th>\n",
       "      <td>White Pine County, Nevada(6)</td>\n",
       "      <td>32033.0</td>\n",
       "      <td>***</td>\n",
       "      <td>¶¶</td>\n",
       "      <td>¶¶</td>\n",
       "      <td>¶¶</td>\n",
       "      <td>¶¶</td>\n",
       "      <td>¶¶</td>\n",
       "      <td>¶¶</td>\n",
       "      <td>¶¶</td>\n",
       "      <td>¶¶</td>\n",
       "    </tr>\n",
       "    <tr>\n",
       "      <th>3142</th>\n",
       "      <td>Created by statecancerprofiles.cancer.gov on 1...</td>\n",
       "      <td>NaN</td>\n",
       "      <td>NaN</td>\n",
       "      <td>NaN</td>\n",
       "      <td>NaN</td>\n",
       "      <td>NaN</td>\n",
       "      <td>NaN</td>\n",
       "      <td>NaN</td>\n",
       "      <td>NaN</td>\n",
       "      <td>NaN</td>\n",
       "      <td>NaN</td>\n",
       "    </tr>\n",
       "    <tr>\n",
       "      <th>3143</th>\n",
       "      <td>Data for the United States does not include da...</td>\n",
       "      <td>NaN</td>\n",
       "      <td>NaN</td>\n",
       "      <td>NaN</td>\n",
       "      <td>NaN</td>\n",
       "      <td>NaN</td>\n",
       "      <td>NaN</td>\n",
       "      <td>NaN</td>\n",
       "      <td>NaN</td>\n",
       "      <td>NaN</td>\n",
       "      <td>NaN</td>\n",
       "    </tr>\n",
       "    <tr>\n",
       "      <th>3144</th>\n",
       "      <td>*** No Healthy People 2020 Objective for this ...</td>\n",
       "      <td>NaN</td>\n",
       "      <td>NaN</td>\n",
       "      <td>NaN</td>\n",
       "      <td>NaN</td>\n",
       "      <td>NaN</td>\n",
       "      <td>NaN</td>\n",
       "      <td>NaN</td>\n",
       "      <td>NaN</td>\n",
       "      <td>NaN</td>\n",
       "      <td>NaN</td>\n",
       "    </tr>\n",
       "    <tr>\n",
       "      <th>3145</th>\n",
       "      <td>State Cancer Registries may provide more curre...</td>\n",
       "      <td>NaN</td>\n",
       "      <td>NaN</td>\n",
       "      <td>NaN</td>\n",
       "      <td>NaN</td>\n",
       "      <td>NaN</td>\n",
       "      <td>NaN</td>\n",
       "      <td>NaN</td>\n",
       "      <td>NaN</td>\n",
       "      <td>NaN</td>\n",
       "      <td>NaN</td>\n",
       "    </tr>\n",
       "    <tr>\n",
       "      <th>3146</th>\n",
       "      <td> Incidence rates (cases per 100,000 populatio...</td>\n",
       "      <td>NaN</td>\n",
       "      <td>NaN</td>\n",
       "      <td>NaN</td>\n",
       "      <td>NaN</td>\n",
       "      <td>NaN</td>\n",
       "      <td>NaN</td>\n",
       "      <td>NaN</td>\n",
       "      <td>NaN</td>\n",
       "      <td>NaN</td>\n",
       "      <td>NaN</td>\n",
       "    </tr>\n",
       "    <tr>\n",
       "      <th>3147</th>\n",
       "      <td> Incidence data come from different sources. ...</td>\n",
       "      <td>NaN</td>\n",
       "      <td>NaN</td>\n",
       "      <td>NaN</td>\n",
       "      <td>NaN</td>\n",
       "      <td>NaN</td>\n",
       "      <td>NaN</td>\n",
       "      <td>NaN</td>\n",
       "      <td>NaN</td>\n",
       "      <td>NaN</td>\n",
       "      <td>NaN</td>\n",
       "    </tr>\n",
       "    <tr>\n",
       "      <th>3148</th>\n",
       "      <td>Healthy People 2020 Objectives [ https://www.h...</td>\n",
       "      <td>NaN</td>\n",
       "      <td>NaN</td>\n",
       "      <td>NaN</td>\n",
       "      <td>NaN</td>\n",
       "      <td>NaN</td>\n",
       "      <td>NaN</td>\n",
       "      <td>NaN</td>\n",
       "      <td>NaN</td>\n",
       "      <td>NaN</td>\n",
       "      <td>NaN</td>\n",
       "    </tr>\n",
       "    <tr>\n",
       "      <th>3149</th>\n",
       "      <td>¶ Data not available because of state legisla...</td>\n",
       "      <td>NaN</td>\n",
       "      <td>NaN</td>\n",
       "      <td>NaN</td>\n",
       "      <td>NaN</td>\n",
       "      <td>NaN</td>\n",
       "      <td>NaN</td>\n",
       "      <td>NaN</td>\n",
       "      <td>NaN</td>\n",
       "      <td>NaN</td>\n",
       "      <td>NaN</td>\n",
       "    </tr>\n",
       "    <tr>\n",
       "      <th>3150</th>\n",
       "      <td># Data do not include cases diagnosed in other...</td>\n",
       "      <td>NaN</td>\n",
       "      <td>NaN</td>\n",
       "      <td>NaN</td>\n",
       "      <td>NaN</td>\n",
       "      <td>NaN</td>\n",
       "      <td>NaN</td>\n",
       "      <td>NaN</td>\n",
       "      <td>NaN</td>\n",
       "      <td>NaN</td>\n",
       "      <td>NaN</td>\n",
       "    </tr>\n",
       "    <tr>\n",
       "      <th>3151</th>\n",
       "      <td>* Data has been suppressed to ensure confident...</td>\n",
       "      <td>NaN</td>\n",
       "      <td>NaN</td>\n",
       "      <td>NaN</td>\n",
       "      <td>NaN</td>\n",
       "      <td>NaN</td>\n",
       "      <td>NaN</td>\n",
       "      <td>NaN</td>\n",
       "      <td>NaN</td>\n",
       "      <td>NaN</td>\n",
       "      <td>NaN</td>\n",
       "    </tr>\n",
       "    <tr>\n",
       "      <th>3152</th>\n",
       "      <td>¶¶ Data not available for Nevada.</td>\n",
       "      <td>NaN</td>\n",
       "      <td>NaN</td>\n",
       "      <td>NaN</td>\n",
       "      <td>NaN</td>\n",
       "      <td>NaN</td>\n",
       "      <td>NaN</td>\n",
       "      <td>NaN</td>\n",
       "      <td>NaN</td>\n",
       "      <td>NaN</td>\n",
       "      <td>NaN</td>\n",
       "    </tr>\n",
       "    <tr>\n",
       "      <th>3153</th>\n",
       "      <td>1 Source: CDC's National Program of Cancer Reg...</td>\n",
       "      <td>NaN</td>\n",
       "      <td>NaN</td>\n",
       "      <td>NaN</td>\n",
       "      <td>NaN</td>\n",
       "      <td>NaN</td>\n",
       "      <td>NaN</td>\n",
       "      <td>NaN</td>\n",
       "      <td>NaN</td>\n",
       "      <td>NaN</td>\n",
       "      <td>NaN</td>\n",
       "    </tr>\n",
       "    <tr>\n",
       "      <th>3154</th>\n",
       "      <td>6 Source: State Cancer Registry and the CDC's ...</td>\n",
       "      <td>NaN</td>\n",
       "      <td>NaN</td>\n",
       "      <td>NaN</td>\n",
       "      <td>NaN</td>\n",
       "      <td>NaN</td>\n",
       "      <td>NaN</td>\n",
       "      <td>NaN</td>\n",
       "      <td>NaN</td>\n",
       "      <td>NaN</td>\n",
       "      <td>NaN</td>\n",
       "    </tr>\n",
       "    <tr>\n",
       "      <th>3155</th>\n",
       "      <td>7 Source: SEER November 2017 submission.</td>\n",
       "      <td>NaN</td>\n",
       "      <td>NaN</td>\n",
       "      <td>NaN</td>\n",
       "      <td>NaN</td>\n",
       "      <td>NaN</td>\n",
       "      <td>NaN</td>\n",
       "      <td>NaN</td>\n",
       "      <td>NaN</td>\n",
       "      <td>NaN</td>\n",
       "      <td>NaN</td>\n",
       "    </tr>\n",
       "    <tr>\n",
       "      <th>3156</th>\n",
       "      <td>8 Source: Incidence data provided by the SEER ...</td>\n",
       "      <td>NaN</td>\n",
       "      <td>NaN</td>\n",
       "      <td>NaN</td>\n",
       "      <td>NaN</td>\n",
       "      <td>NaN</td>\n",
       "      <td>NaN</td>\n",
       "      <td>NaN</td>\n",
       "      <td>NaN</td>\n",
       "      <td>NaN</td>\n",
       "      <td>NaN</td>\n",
       "    </tr>\n",
       "    <tr>\n",
       "      <th>3157</th>\n",
       "      <td>10 Source: Incidence data provided by the Nati...</td>\n",
       "      <td>NaN</td>\n",
       "      <td>NaN</td>\n",
       "      <td>NaN</td>\n",
       "      <td>NaN</td>\n",
       "      <td>NaN</td>\n",
       "      <td>NaN</td>\n",
       "      <td>NaN</td>\n",
       "      <td>NaN</td>\n",
       "      <td>NaN</td>\n",
       "      <td>NaN</td>\n",
       "    </tr>\n",
       "    <tr>\n",
       "      <th>3158</th>\n",
       "      <td>Please note that the data comes from different...</td>\n",
       "      <td>NaN</td>\n",
       "      <td>NaN</td>\n",
       "      <td>NaN</td>\n",
       "      <td>NaN</td>\n",
       "      <td>NaN</td>\n",
       "      <td>NaN</td>\n",
       "      <td>NaN</td>\n",
       "      <td>NaN</td>\n",
       "      <td>NaN</td>\n",
       "      <td>NaN</td>\n",
       "    </tr>\n",
       "    <tr>\n",
       "      <th>3159</th>\n",
       "      <td>Interpret Rankings provides insight into inter...</td>\n",
       "      <td>NaN</td>\n",
       "      <td>NaN</td>\n",
       "      <td>NaN</td>\n",
       "      <td>NaN</td>\n",
       "      <td>NaN</td>\n",
       "      <td>NaN</td>\n",
       "      <td>NaN</td>\n",
       "      <td>NaN</td>\n",
       "      <td>NaN</td>\n",
       "      <td>NaN</td>\n",
       "    </tr>\n",
       "    <tr>\n",
       "      <th>3160</th>\n",
       "      <td>Data not available [http://statecancerprofiles...</td>\n",
       "      <td>NaN</td>\n",
       "      <td>NaN</td>\n",
       "      <td>NaN</td>\n",
       "      <td>NaN</td>\n",
       "      <td>NaN</td>\n",
       "      <td>NaN</td>\n",
       "      <td>NaN</td>\n",
       "      <td>NaN</td>\n",
       "      <td>NaN</td>\n",
       "      <td>NaN</td>\n",
       "    </tr>\n",
       "    <tr>\n",
       "      <th>3161</th>\n",
       "      <td>Data for United States does not include Puerto...</td>\n",
       "      <td>NaN</td>\n",
       "      <td>NaN</td>\n",
       "      <td>NaN</td>\n",
       "      <td>NaN</td>\n",
       "      <td>NaN</td>\n",
       "      <td>NaN</td>\n",
       "      <td>NaN</td>\n",
       "      <td>NaN</td>\n",
       "      <td>NaN</td>\n",
       "      <td>NaN</td>\n",
       "    </tr>\n",
       "  </tbody>\n",
       "</table>\n",
       "<p>1162 rows × 11 columns</p>\n",
       "</div>"
      ],
      "text/plain": [
       "                                                 County     FIPS  \\\n",
       "25                       Osceola County, Michigan(6,10)  26133.0   \n",
       "184                 Presque Isle County, Michigan(6,10)  26141.0   \n",
       "330                    Roscommon County, Michigan(6,10)  26143.0   \n",
       "454                    Van Buren County, Michigan(6,10)  26159.0   \n",
       "630                          Bay County, Michigan(6,10)  26017.0   \n",
       "633                        Delta County, Michigan(6,10)  26041.0   \n",
       "651                      Berrien County, Michigan(6,10)  26021.0   \n",
       "695                     Chippewa County, Michigan(6,10)  26033.0   \n",
       "797                       Otsego County, Michigan(6,10)  26137.0   \n",
       "816                        Ionia County, Michigan(6,10)  26067.0   \n",
       "824                    Menominee County, Michigan(6,10)  26109.0   \n",
       "828                       Ogemaw County, Michigan(6,10)  26129.0   \n",
       "833                       Benzie County, Michigan(6,10)  26019.0   \n",
       "894                      Tuscola County, Michigan(6,10)  26157.0   \n",
       "933                      Wexford County, Michigan(6,10)  26165.0   \n",
       "943                    Cheboygan County, Michigan(6,10)  26031.0   \n",
       "953                   Shiawassee County, Michigan(6,10)  26155.0   \n",
       "955                      Genesee County, Michigan(6,10)  26049.0   \n",
       "1024                       Huron County, Michigan(6,10)  26063.0   \n",
       "1042                     Lenawee County, Michigan(6,10)  26091.0   \n",
       "1044                      Arenac County, Michigan(6,10)  26011.0   \n",
       "1125                     Gladwin County, Michigan(6,10)  26051.0   \n",
       "1140                    Manistee County, Michigan(6,10)  26101.0   \n",
       "1162                      Lapeer County, Michigan(6,10)  26087.0   \n",
       "1166                      Ingham County, Michigan(6,10)  26065.0   \n",
       "1181                    Isabella County, Michigan(6,10)  26073.0   \n",
       "1215                        Kent County, Michigan(6,10)  26081.0   \n",
       "1251                        Lake County, Michigan(6,10)  26085.0   \n",
       "1293                    Muskegon County, Michigan(6,10)  26121.0   \n",
       "1346                      Antrim County, Michigan(6,10)  26009.0   \n",
       "...                                                 ...      ...   \n",
       "3132                         Humboldt County, Nevada(6)  32013.0   \n",
       "3133                           Lander County, Nevada(6)  32015.0   \n",
       "3134                          Lincoln County, Nevada(6)  32017.0   \n",
       "3135                             Lyon County, Nevada(6)  32019.0   \n",
       "3136                          Mineral County, Nevada(6)  32021.0   \n",
       "3137                              Nye County, Nevada(6)  32023.0   \n",
       "3138                         Pershing County, Nevada(6)  32027.0   \n",
       "3139                           Storey County, Nevada(6)  32029.0   \n",
       "3140                           Washoe County, Nevada(6)  32031.0   \n",
       "3141                       White Pine County, Nevada(6)  32033.0   \n",
       "3142  Created by statecancerprofiles.cancer.gov on 1...      NaN   \n",
       "3143  Data for the United States does not include da...      NaN   \n",
       "3144  *** No Healthy People 2020 Objective for this ...      NaN   \n",
       "3145  State Cancer Registries may provide more curre...      NaN   \n",
       "3146   Incidence rates (cases per 100,000 populatio...      NaN   \n",
       "3147   Incidence data come from different sources. ...      NaN   \n",
       "3148  Healthy People 2020 Objectives [ https://www.h...      NaN   \n",
       "3149   ¶ Data not available because of state legisla...      NaN   \n",
       "3150  # Data do not include cases diagnosed in other...      NaN   \n",
       "3151  * Data has been suppressed to ensure confident...      NaN   \n",
       "3152                  ¶¶ Data not available for Nevada.      NaN   \n",
       "3153  1 Source: CDC's National Program of Cancer Reg...      NaN   \n",
       "3154  6 Source: State Cancer Registry and the CDC's ...      NaN   \n",
       "3155           7 Source: SEER November 2017 submission.      NaN   \n",
       "3156  8 Source: Incidence data provided by the SEER ...      NaN   \n",
       "3157  10 Source: Incidence data provided by the Nati...      NaN   \n",
       "3158  Please note that the data comes from different...      NaN   \n",
       "3159  Interpret Rankings provides insight into inter...      NaN   \n",
       "3160  Data not available [http://statecancerprofiles...      NaN   \n",
       "3161  Data for United States does not include Puerto...      NaN   \n",
       "\n",
       "     Met Healthy People Objective of ***?  \\\n",
       "25                                    ***   \n",
       "184                                   ***   \n",
       "330                                   ***   \n",
       "454                                   ***   \n",
       "630                                   ***   \n",
       "633                                   ***   \n",
       "651                                   ***   \n",
       "695                                   ***   \n",
       "797                                   ***   \n",
       "816                                   ***   \n",
       "824                                   ***   \n",
       "828                                   ***   \n",
       "833                                   ***   \n",
       "894                                   ***   \n",
       "933                                   ***   \n",
       "943                                   ***   \n",
       "953                                   ***   \n",
       "955                                   ***   \n",
       "1024                                  ***   \n",
       "1042                                  ***   \n",
       "1044                                  ***   \n",
       "1125                                  ***   \n",
       "1140                                  ***   \n",
       "1162                                  ***   \n",
       "1166                                  ***   \n",
       "1181                                  ***   \n",
       "1215                                  ***   \n",
       "1251                                  ***   \n",
       "1293                                  ***   \n",
       "1346                                  ***   \n",
       "...                                   ...   \n",
       "3132                                  ***   \n",
       "3133                                  ***   \n",
       "3134                                  ***   \n",
       "3135                                  ***   \n",
       "3136                                  ***   \n",
       "3137                                  ***   \n",
       "3138                                  ***   \n",
       "3139                                  ***   \n",
       "3140                                  ***   \n",
       "3141                                  ***   \n",
       "3142                                  NaN   \n",
       "3143                                  NaN   \n",
       "3144                                  NaN   \n",
       "3145                                  NaN   \n",
       "3146                                  NaN   \n",
       "3147                                  NaN   \n",
       "3148                                  NaN   \n",
       "3149                                  NaN   \n",
       "3150                                  NaN   \n",
       "3151                                  NaN   \n",
       "3152                                  NaN   \n",
       "3153                                  NaN   \n",
       "3154                                  NaN   \n",
       "3155                                  NaN   \n",
       "3156                                  NaN   \n",
       "3157                                  NaN   \n",
       "3158                                  NaN   \n",
       "3159                                  NaN   \n",
       "3160                                  NaN   \n",
       "3161                                  NaN   \n",
       "\n",
       "     Age-Adjusted Incidence Rate() - cases per 100,000  \\\n",
       "25                                             30.7 #     \n",
       "184                                            23.9 #     \n",
       "330                                            22.1 #     \n",
       "454                                            20.9 #     \n",
       "630                                            19.6 #     \n",
       "633                                            19.6 #     \n",
       "651                                            19.5 #     \n",
       "695                                            19.3 #     \n",
       "797                                            18.7 #     \n",
       "816                                            18.6 #     \n",
       "824                                            18.6 #     \n",
       "828                                            18.5 #     \n",
       "833                                            18.5 #     \n",
       "894                                            18.2 #     \n",
       "933                                            18.1 #     \n",
       "943                                              18 #     \n",
       "953                                              18 #     \n",
       "955                                              18 #     \n",
       "1024                                           17.7 #     \n",
       "1042                                           17.6 #     \n",
       "1044                                           17.6 #     \n",
       "1125                                           17.2 #     \n",
       "1140                                           17.2 #     \n",
       "1162                                           17.1 #     \n",
       "1166                                             17 #     \n",
       "1181                                             17 #     \n",
       "1215                                           16.8 #     \n",
       "1251                                           16.7 #     \n",
       "1293                                           16.5 #     \n",
       "1346                                           16.3 #     \n",
       "...                                                 ...   \n",
       "3132                                                ¶¶    \n",
       "3133                                                ¶¶    \n",
       "3134                                                ¶¶    \n",
       "3135                                                ¶¶    \n",
       "3136                                                ¶¶    \n",
       "3137                                                ¶¶    \n",
       "3138                                                ¶¶    \n",
       "3139                                                ¶¶    \n",
       "3140                                                ¶¶    \n",
       "3141                                                ¶¶    \n",
       "3142                                                NaN   \n",
       "3143                                                NaN   \n",
       "3144                                                NaN   \n",
       "3145                                                NaN   \n",
       "3146                                                NaN   \n",
       "3147                                                NaN   \n",
       "3148                                                NaN   \n",
       "3149                                                NaN   \n",
       "3150                                                NaN   \n",
       "3151                                                NaN   \n",
       "3152                                                NaN   \n",
       "3153                                                NaN   \n",
       "3154                                                NaN   \n",
       "3155                                                NaN   \n",
       "3156                                                NaN   \n",
       "3157                                                NaN   \n",
       "3158                                                NaN   \n",
       "3159                                                NaN   \n",
       "3160                                                NaN   \n",
       "3161                                                NaN   \n",
       "\n",
       "     Lower 95% Confidence Interval Upper 95% Confidence Interval  \\\n",
       "25                            22.3                          41.4   \n",
       "184                           13.3                          40.1   \n",
       "330                             16                          30.5   \n",
       "454                           16.8                          25.8   \n",
       "630                           16.3                          23.5   \n",
       "633                           14.4                          26.3   \n",
       "651                           16.8                          22.7   \n",
       "695                             14                          26.1   \n",
       "797                           12.5                          27.3   \n",
       "816                           14.3                          23.8   \n",
       "824                           12.3                          27.3   \n",
       "828                           11.6                          28.4   \n",
       "833                           11.2                          29.2   \n",
       "894                           13.8                          23.7   \n",
       "933                           12.8                            25   \n",
       "943                           12.3                            26   \n",
       "953                           14.2                          22.6   \n",
       "955                           16.3                          19.8   \n",
       "1024                          12.1                          25.1   \n",
       "1042                          14.4                          21.3   \n",
       "1044                          10.2                          28.9   \n",
       "1125                          11.6                          25.1   \n",
       "1140                          11.6                          24.9   \n",
       "1162                          13.8                            21   \n",
       "1166                          14.8                          19.5   \n",
       "1181                          12.4                          22.6   \n",
       "1215                          15.4                          18.3   \n",
       "1251                           9.4                          29.2   \n",
       "1293                            14                          19.3   \n",
       "1346                          10.6                          24.4   \n",
       "...                            ...                           ...   \n",
       "3132                            ¶¶                            ¶¶   \n",
       "3133                            ¶¶                            ¶¶   \n",
       "3134                            ¶¶                            ¶¶   \n",
       "3135                            ¶¶                            ¶¶   \n",
       "3136                            ¶¶                            ¶¶   \n",
       "3137                            ¶¶                            ¶¶   \n",
       "3138                            ¶¶                            ¶¶   \n",
       "3139                            ¶¶                            ¶¶   \n",
       "3140                            ¶¶                            ¶¶   \n",
       "3141                            ¶¶                            ¶¶   \n",
       "3142                           NaN                           NaN   \n",
       "3143                           NaN                           NaN   \n",
       "3144                           NaN                           NaN   \n",
       "3145                           NaN                           NaN   \n",
       "3146                           NaN                           NaN   \n",
       "3147                           NaN                           NaN   \n",
       "3148                           NaN                           NaN   \n",
       "3149                           NaN                           NaN   \n",
       "3150                           NaN                           NaN   \n",
       "3151                           NaN                           NaN   \n",
       "3152                           NaN                           NaN   \n",
       "3153                           NaN                           NaN   \n",
       "3154                           NaN                           NaN   \n",
       "3155                           NaN                           NaN   \n",
       "3156                           NaN                           NaN   \n",
       "3157                           NaN                           NaN   \n",
       "3158                           NaN                           NaN   \n",
       "3159                           NaN                           NaN   \n",
       "3160                           NaN                           NaN   \n",
       "3161                           NaN                           NaN   \n",
       "\n",
       "     Average Annual Count Recent Trend  \\\n",
       "25                     10       stable   \n",
       "184                     5       stable   \n",
       "330                    11       stable   \n",
       "454                    19       stable   \n",
       "630                    27       stable   \n",
       "633                    11       stable   \n",
       "651                    38       stable   \n",
       "695                     9       stable   \n",
       "797                     6       stable   \n",
       "816                    13       stable   \n",
       "824                     6       stable   \n",
       "828                     5       stable   \n",
       "833                     5       stable   \n",
       "894                    13       stable   \n",
       "933                     8      falling   \n",
       "943                     7       stable   \n",
       "953                    16       stable   \n",
       "955                    90       stable   \n",
       "1024                    8       stable   \n",
       "1042                   23       stable   \n",
       "1044                    4       stable   \n",
       "1125                    7       stable   \n",
       "1140                    7       stable   \n",
       "1162                   20       stable   \n",
       "1166                   46       stable   \n",
       "1181                   10       stable   \n",
       "1215                  107       stable   \n",
       "1251                    3            *   \n",
       "1293                   33       stable   \n",
       "1346                    6       stable   \n",
       "...                   ...          ...   \n",
       "3132                   ¶¶           ¶¶   \n",
       "3133                   ¶¶           ¶¶   \n",
       "3134                   ¶¶           ¶¶   \n",
       "3135                   ¶¶           ¶¶   \n",
       "3136                   ¶¶           ¶¶   \n",
       "3137                   ¶¶           ¶¶   \n",
       "3138                   ¶¶           ¶¶   \n",
       "3139                   ¶¶           ¶¶   \n",
       "3140                   ¶¶           ¶¶   \n",
       "3141                   ¶¶           ¶¶   \n",
       "3142                  NaN          NaN   \n",
       "3143                  NaN          NaN   \n",
       "3144                  NaN          NaN   \n",
       "3145                  NaN          NaN   \n",
       "3146                  NaN          NaN   \n",
       "3147                  NaN          NaN   \n",
       "3148                  NaN          NaN   \n",
       "3149                  NaN          NaN   \n",
       "3150                  NaN          NaN   \n",
       "3151                  NaN          NaN   \n",
       "3152                  NaN          NaN   \n",
       "3153                  NaN          NaN   \n",
       "3154                  NaN          NaN   \n",
       "3155                  NaN          NaN   \n",
       "3156                  NaN          NaN   \n",
       "3157                  NaN          NaN   \n",
       "3158                  NaN          NaN   \n",
       "3159                  NaN          NaN   \n",
       "3160                  NaN          NaN   \n",
       "3161                  NaN          NaN   \n",
       "\n",
       "     Recent 5-Year Trend () in Incidence Rates  \\\n",
       "25                                        -6.6    \n",
       "184                                      -19.0    \n",
       "330                                        7.4    \n",
       "454                                       -5.6    \n",
       "630                                       -1.6    \n",
       "633                                        3.8    \n",
       "651                                        2.2    \n",
       "695                                        8.2    \n",
       "797                                        4.4    \n",
       "816                                       -6.8    \n",
       "824                                      -18.3    \n",
       "828                                        1.1    \n",
       "833                                       12.4    \n",
       "894                                       -7.8    \n",
       "933                                      -22.3    \n",
       "943                                        4.3    \n",
       "953                                       -2.6    \n",
       "955                                        2.0    \n",
       "1024                                      10.9    \n",
       "1042                                      -8.3    \n",
       "1044                                     -19.2    \n",
       "1125                                      -6.1    \n",
       "1140                                     -14.4    \n",
       "1162                                      -3.0    \n",
       "1166                                     -11.7    \n",
       "1181                                       1.4    \n",
       "1215                                      -2.6    \n",
       "1251                                          *   \n",
       "1293                                       5.6    \n",
       "1346                                      14.5    \n",
       "...                                         ...   \n",
       "3132                                         ¶¶   \n",
       "3133                                         ¶¶   \n",
       "3134                                         ¶¶   \n",
       "3135                                         ¶¶   \n",
       "3136                                         ¶¶   \n",
       "3137                                         ¶¶   \n",
       "3138                                         ¶¶   \n",
       "3139                                         ¶¶   \n",
       "3140                                         ¶¶   \n",
       "3141                                         ¶¶   \n",
       "3142                                        NaN   \n",
       "3143                                        NaN   \n",
       "3144                                        NaN   \n",
       "3145                                        NaN   \n",
       "3146                                        NaN   \n",
       "3147                                        NaN   \n",
       "3148                                        NaN   \n",
       "3149                                        NaN   \n",
       "3150                                        NaN   \n",
       "3151                                        NaN   \n",
       "3152                                        NaN   \n",
       "3153                                        NaN   \n",
       "3154                                        NaN   \n",
       "3155                                        NaN   \n",
       "3156                                        NaN   \n",
       "3157                                        NaN   \n",
       "3158                                        NaN   \n",
       "3159                                        NaN   \n",
       "3160                                        NaN   \n",
       "3161                                        NaN   \n",
       "\n",
       "     Lower 95% Confidence Interval.1 Upper 95% Confidence Interval.1  \n",
       "25                             -24.9                            16.0  \n",
       "184                            -66.5                            96.1  \n",
       "330                            -20.6                            45.2  \n",
       "454                            -20.8                            12.4  \n",
       "630                            -16.9                            16.5  \n",
       "633                            -15.1                            27.0  \n",
       "651                             -8.1                            13.6  \n",
       "695                            -33.0                            74.5  \n",
       "797                            -31.9                            60.2  \n",
       "816                            -24.2                            14.7  \n",
       "824                            -67.0                           101.8  \n",
       "828                            -19.0                            26.2  \n",
       "833                            -15.7                            49.9  \n",
       "894                            -28.8                            19.3  \n",
       "933                            -31.8                           -11.4  \n",
       "943                            -31.7                            59.3  \n",
       "953                            -20.8                            19.9  \n",
       "955                             -9.9                            15.5  \n",
       "1024                           -30.1                            76.1  \n",
       "1042                           -38.8                            37.4  \n",
       "1044                           -52.2                            36.6  \n",
       "1125                           -33.1                            31.8  \n",
       "1140                           -53.9                            59.2  \n",
       "1162                           -18.6                            15.6  \n",
       "1166                           -24.1                             2.7  \n",
       "1181                           -16.1                            22.7  \n",
       "1215                           -20.8                            19.9  \n",
       "1251                               *                               *  \n",
       "1293                            -9.0                            22.6  \n",
       "1346                           -44.7                           137.1  \n",
       "...                              ...                             ...  \n",
       "3132                              ¶¶                              ¶¶  \n",
       "3133                              ¶¶                              ¶¶  \n",
       "3134                              ¶¶                              ¶¶  \n",
       "3135                              ¶¶                              ¶¶  \n",
       "3136                              ¶¶                              ¶¶  \n",
       "3137                              ¶¶                              ¶¶  \n",
       "3138                              ¶¶                              ¶¶  \n",
       "3139                              ¶¶                              ¶¶  \n",
       "3140                              ¶¶                              ¶¶  \n",
       "3141                              ¶¶                              ¶¶  \n",
       "3142                             NaN                             NaN  \n",
       "3143                             NaN                             NaN  \n",
       "3144                             NaN                             NaN  \n",
       "3145                             NaN                             NaN  \n",
       "3146                             NaN                             NaN  \n",
       "3147                             NaN                             NaN  \n",
       "3148                             NaN                             NaN  \n",
       "3149                             NaN                             NaN  \n",
       "3150                             NaN                             NaN  \n",
       "3151                             NaN                             NaN  \n",
       "3152                             NaN                             NaN  \n",
       "3153                             NaN                             NaN  \n",
       "3154                             NaN                             NaN  \n",
       "3155                             NaN                             NaN  \n",
       "3156                             NaN                             NaN  \n",
       "3157                             NaN                             NaN  \n",
       "3158                             NaN                             NaN  \n",
       "3159                             NaN                             NaN  \n",
       "3160                             NaN                             NaN  \n",
       "3161                             NaN                             NaN  \n",
       "\n",
       "[1162 rows x 11 columns]"
      ]
     },
     "execution_count": 6,
     "metadata": {},
     "output_type": "execute_result"
    }
   ],
   "source": [
    "error_mask = pd.to_numeric(df['Age-Adjusted Incidence Rate(\\x86) - cases per 100,000'], errors='coerce').isna()\n",
    "df[error_mask]"
   ]
  },
  {
   "cell_type": "code",
   "execution_count": 7,
   "metadata": {
    "ExecuteTime": {
     "end_time": "2018-12-25T23:32:28.002650Z",
     "start_time": "2018-12-25T23:32:27.609026Z"
    }
   },
   "outputs": [
    {
     "data": {
      "text/plain": [
       "<matplotlib.axes._subplots.AxesSubplot at 0x109f1d4e0>"
      ]
     },
     "execution_count": 7,
     "metadata": {},
     "output_type": "execute_result"
    },
    {
     "data": {
      "image/png": "[encoded data removed]",
      "text/plain": [
       "<matplotlib.figure.Figure at 0x103d9ea90>"
      ]
     },
     "metadata": {},
     "output_type": "display_data"
    }
   ],
   "source": [
    "df.loc[~error_mask, 'Age-Adjusted Incidence Rate(\\x86) - cases per 100,000'].astype(float).sort_values().plot()"
   ]
  },
  {
   "cell_type": "markdown",
   "metadata": {},
   "source": [
    "## Boardgame"
   ]
  },
  {
   "cell_type": "code",
   "execution_count": 148,
   "metadata": {
    "ExecuteTime": {
     "end_time": "2018-12-25T00:47:46.027003Z",
     "start_time": "2018-12-25T00:47:45.676155Z"
    }
   },
   "outputs": [
    {
     "name": "stderr",
     "output_type": "stream",
     "text": [
      "b'Skipping line 26487: expected 27 fields, saw 28\\nSkipping line 32475: expected 27 fields, saw 28\\n'\n",
      "b'Skipping line 33073: expected 27 fields, saw 28\\nSkipping line 35357: expected 27 fields, saw 28\\nSkipping line 45346: expected 27 fields, saw 28\\nSkipping line 47638: expected 27 fields, saw 28\\nSkipping line 47724: expected 27 fields, saw 28\\nSkipping line 50148: expected 27 fields, saw 28\\nSkipping line 53728: expected 27 fields, saw 28\\nSkipping line 56608: expected 27 fields, saw 28\\n'\n"
     ]
    }
   ],
   "source": [
    "df = pd.read_csv('boardgame.csv', sep=';', error_bad_lines=False)"
   ]
  },
  {
   "cell_type": "code",
   "execution_count": 149,
   "metadata": {
    "ExecuteTime": {
     "end_time": "2018-12-25T00:47:46.205011Z",
     "start_time": "2018-12-25T00:47:46.200912Z"
    }
   },
   "outputs": [
    {
     "data": {
      "text/plain": [
       "(61803, 27)"
      ]
     },
     "execution_count": 149,
     "metadata": {},
     "output_type": "execute_result"
    }
   ],
   "source": [
    "df.shape"
   ]
  },
  {
   "cell_type": "code",
   "execution_count": 150,
   "metadata": {
    "ExecuteTime": {
     "end_time": "2018-12-25T00:47:46.669492Z",
     "start_time": "2018-12-25T00:47:46.634202Z"
    }
   },
   "outputs": [],
   "source": [
    "scale = 1e5\n",
    "df['average_rating'] = df['average_rating'] / scale\n",
    "df['rating_stddev'] = df['rating_stddev'] / scale"
   ]
  },
  {
   "cell_type": "code",
   "execution_count": 151,
   "metadata": {
    "ExecuteTime": {
     "end_time": "2018-12-25T00:47:46.989696Z",
     "start_time": "2018-12-25T00:47:46.964027Z"
    }
   },
   "outputs": [
    {
     "data": {
      "text/html": [
       "<div>\n",
       "<style scoped>\n",
       "    .dataframe tbody tr th:only-of-type {\n",
       "        vertical-align: middle;\n",
       "    }\n",
       "\n",
       "    .dataframe tbody tr th {\n",
       "        vertical-align: top;\n",
       "    }\n",
       "\n",
       "    .dataframe thead th {\n",
       "        text-align: right;\n",
       "    }\n",
       "</style>\n",
       "<table border=\"1\" class=\"dataframe\">\n",
       "  <thead>\n",
       "    <tr style=\"text-align: right;\">\n",
       "      <th></th>\n",
       "      <th>id</th>\n",
       "      <th>name</th>\n",
       "      <th>year_published</th>\n",
       "      <th>min_players</th>\n",
       "      <th>max_players</th>\n",
       "      <th>playingtime</th>\n",
       "      <th>min_age</th>\n",
       "      <th>users_rated</th>\n",
       "      <th>average_rating</th>\n",
       "      <th>rating_stddev</th>\n",
       "      <th>...</th>\n",
       "      <th>num_players_notrec</th>\n",
       "      <th>suggested_age</th>\n",
       "      <th>categories</th>\n",
       "      <th>mechanics</th>\n",
       "      <th>boardgamefamilies</th>\n",
       "      <th>implementation_of</th>\n",
       "      <th>designers</th>\n",
       "      <th>artists</th>\n",
       "      <th>publishers</th>\n",
       "      <th>Unnamed: 26</th>\n",
       "    </tr>\n",
       "  </thead>\n",
       "  <tbody>\n",
       "    <tr>\n",
       "      <th>0</th>\n",
       "      <td>1</td>\n",
       "      <td>Die Macher</td>\n",
       "      <td>1986</td>\n",
       "      <td>3</td>\n",
       "      <td>5</td>\n",
       "      <td>240</td>\n",
       "      <td>14</td>\n",
       "      <td>3973</td>\n",
       "      <td>7.71006</td>\n",
       "      <td>1.56772</td>\n",
       "      <td>...</td>\n",
       "      <td>1:71,2:71,3:62,4:10,5:2,-1:50</td>\n",
       "      <td>2:0,3:0,4:0,5:0,6:0,8:0,10:0,12:5,14:13,16:4,1...</td>\n",
       "      <td>1017,1021,1026,1001</td>\n",
       "      <td>2080,2012,2072,2040</td>\n",
       "      <td>10643,91</td>\n",
       "      <td>NaN</td>\n",
       "      <td>1</td>\n",
       "      <td>12517</td>\n",
       "      <td>133,2,5382</td>\n",
       "      <td>NaN</td>\n",
       "    </tr>\n",
       "    <tr>\n",
       "      <th>1</th>\n",
       "      <td>2</td>\n",
       "      <td>Dragonmaster</td>\n",
       "      <td>1981</td>\n",
       "      <td>3</td>\n",
       "      <td>4</td>\n",
       "      <td>30</td>\n",
       "      <td>12</td>\n",
       "      <td>405</td>\n",
       "      <td>6.60742</td>\n",
       "      <td>1.45377</td>\n",
       "      <td>...</td>\n",
       "      <td>1:2,2:2,3:1,4:0,-1:2</td>\n",
       "      <td>2:0,3:0,4:0,5:0,6:0,8:0,10:0,12:0,14:0,16:0,18...</td>\n",
       "      <td>1002,1010</td>\n",
       "      <td>2009</td>\n",
       "      <td>7005</td>\n",
       "      <td>2174</td>\n",
       "      <td>8384</td>\n",
       "      <td>12424</td>\n",
       "      <td>64,20</td>\n",
       "      <td>NaN</td>\n",
       "    </tr>\n",
       "    <tr>\n",
       "      <th>2</th>\n",
       "      <td>3</td>\n",
       "      <td>Samurai</td>\n",
       "      <td>1998</td>\n",
       "      <td>2</td>\n",
       "      <td>4</td>\n",
       "      <td>45</td>\n",
       "      <td>10</td>\n",
       "      <td>9847</td>\n",
       "      <td>0.74486</td>\n",
       "      <td>1.19943</td>\n",
       "      <td>...</td>\n",
       "      <td>1:94,2:9,3:2,4:20,-1:79</td>\n",
       "      <td>2:0,3:0,4:0,5:0,6:4,8:9,10:18,12:2,14:0,16:0,1...</td>\n",
       "      <td>1035</td>\n",
       "      <td>2080,2040,2004,2002</td>\n",
       "      <td>9470,10634,42</td>\n",
       "      <td>NaN</td>\n",
       "      <td>2</td>\n",
       "      <td>11883</td>\n",
       "      <td>267,29,7340,7335,41,133,1391,5812,3218,3,3954,...</td>\n",
       "      <td>NaN</td>\n",
       "    </tr>\n",
       "    <tr>\n",
       "      <th>3</th>\n",
       "      <td>4</td>\n",
       "      <td>Tal der Könige</td>\n",
       "      <td>1992</td>\n",
       "      <td>2</td>\n",
       "      <td>4</td>\n",
       "      <td>60</td>\n",
       "      <td>12</td>\n",
       "      <td>286</td>\n",
       "      <td>6.64937</td>\n",
       "      <td>1.19351</td>\n",
       "      <td>...</td>\n",
       "      <td>1:4,2:2,3:0,4:0,-1:3</td>\n",
       "      <td>2:0,3:0,4:0,5:0,6:0,8:0,10:0,12:0,14:1,16:0,18...</td>\n",
       "      <td>1050</td>\n",
       "      <td>2001,2080,2012,2004</td>\n",
       "      <td>6471,11505</td>\n",
       "      <td>NaN</td>\n",
       "      <td>8008</td>\n",
       "      <td>NaN</td>\n",
       "      <td>37</td>\n",
       "      <td>NaN</td>\n",
       "    </tr>\n",
       "    <tr>\n",
       "      <th>4</th>\n",
       "      <td>5</td>\n",
       "      <td>Acquire</td>\n",
       "      <td>1962</td>\n",
       "      <td>3</td>\n",
       "      <td>6</td>\n",
       "      <td>90</td>\n",
       "      <td>12</td>\n",
       "      <td>12031</td>\n",
       "      <td>7.39447</td>\n",
       "      <td>1.32372</td>\n",
       "      <td>...</td>\n",
       "      <td>1:128,2:129,3:33,4:1,5:21,6:66,-1:108</td>\n",
       "      <td>2:0,3:0,4:0,5:0,6:0,8:4,10:17,12:20,14:8,16:1,...</td>\n",
       "      <td>1021</td>\n",
       "      <td>2040,2005,2002</td>\n",
       "      <td>4891</td>\n",
       "      <td>NaN</td>\n",
       "      <td>4</td>\n",
       "      <td>12658</td>\n",
       "      <td>92,5,4871,3082,858,2962,5392,4668,38,4622,7107</td>\n",
       "      <td>NaN</td>\n",
       "    </tr>\n",
       "  </tbody>\n",
       "</table>\n",
       "<p>5 rows × 27 columns</p>\n",
       "</div>"
      ],
      "text/plain": [
       "   id            name  year_published  min_players  max_players  playingtime  \\\n",
       "0   1      Die Macher            1986            3            5          240   \n",
       "1   2    Dragonmaster            1981            3            4           30   \n",
       "2   3         Samurai            1998            2            4           45   \n",
       "3   4  Tal der Könige            1992            2            4           60   \n",
       "4   5         Acquire            1962            3            6           90   \n",
       "\n",
       "   min_age  users_rated  average_rating  rating_stddev     ...      \\\n",
       "0       14         3973         7.71006        1.56772     ...       \n",
       "1       12          405         6.60742        1.45377     ...       \n",
       "2       10         9847         0.74486        1.19943     ...       \n",
       "3       12          286         6.64937        1.19351     ...       \n",
       "4       12        12031         7.39447        1.32372     ...       \n",
       "\n",
       "                      num_players_notrec  \\\n",
       "0          1:71,2:71,3:62,4:10,5:2,-1:50   \n",
       "1                   1:2,2:2,3:1,4:0,-1:2   \n",
       "2                1:94,2:9,3:2,4:20,-1:79   \n",
       "3                   1:4,2:2,3:0,4:0,-1:3   \n",
       "4  1:128,2:129,3:33,4:1,5:21,6:66,-1:108   \n",
       "\n",
       "                                       suggested_age           categories  \\\n",
       "0  2:0,3:0,4:0,5:0,6:0,8:0,10:0,12:5,14:13,16:4,1...  1017,1021,1026,1001   \n",
       "1  2:0,3:0,4:0,5:0,6:0,8:0,10:0,12:0,14:0,16:0,18...            1002,1010   \n",
       "2  2:0,3:0,4:0,5:0,6:4,8:9,10:18,12:2,14:0,16:0,1...                 1035   \n",
       "3  2:0,3:0,4:0,5:0,6:0,8:0,10:0,12:0,14:1,16:0,18...                 1050   \n",
       "4  2:0,3:0,4:0,5:0,6:0,8:4,10:17,12:20,14:8,16:1,...                 1021   \n",
       "\n",
       "             mechanics  boardgamefamilies implementation_of designers artists  \\\n",
       "0  2080,2012,2072,2040           10643,91               NaN         1   12517   \n",
       "1                 2009               7005              2174      8384   12424   \n",
       "2  2080,2040,2004,2002      9470,10634,42               NaN         2   11883   \n",
       "3  2001,2080,2012,2004         6471,11505               NaN      8008     NaN   \n",
       "4       2040,2005,2002               4891               NaN         4   12658   \n",
       "\n",
       "                                          publishers Unnamed: 26  \n",
       "0                                         133,2,5382         NaN  \n",
       "1                                              64,20         NaN  \n",
       "2  267,29,7340,7335,41,133,1391,5812,3218,3,3954,...         NaN  \n",
       "3                                                 37         NaN  \n",
       "4     92,5,4871,3082,858,2962,5392,4668,38,4622,7107         NaN  \n",
       "\n",
       "[5 rows x 27 columns]"
      ]
     },
     "execution_count": 151,
     "metadata": {},
     "output_type": "execute_result"
    }
   ],
   "source": [
    "df.head()"
   ]
  },
  {
   "cell_type": "code",
   "execution_count": 152,
   "metadata": {
    "ExecuteTime": {
     "end_time": "2018-12-25T00:47:47.734232Z",
     "start_time": "2018-12-25T00:47:47.709344Z"
    }
   },
   "outputs": [],
   "source": [
    "import matplotlib.pyplot as plt\n",
    "import seaborn as sns\n",
    "\n",
    "%matplotlib inline"
   ]
  },
  {
   "cell_type": "code",
   "execution_count": 153,
   "metadata": {
    "ExecuteTime": {
     "end_time": "2018-12-25T00:47:48.769118Z",
     "start_time": "2018-12-25T00:47:48.290572Z"
    }
   },
   "outputs": [
    {
     "data": {
      "text/plain": [
       "(10, 75963.29114476826)"
      ]
     },
     "execution_count": 153,
     "metadata": {},
     "output_type": "execute_result"
    },
    {
     "data": {
      "image/png": "[encoded data removed]",
      "text/plain": [
       "<matplotlib.figure.Figure at 0x1a24bb9550>"
      ]
     },
     "metadata": {},
     "output_type": "display_data"
    }
   ],
   "source": [
    "plt.semilogx(df['users_rated'], df['average_rating'], 'o', alpha=0.08)\n",
    "plt.xlim(10,)"
   ]
  },
  {
   "cell_type": "code",
   "execution_count": 154,
   "metadata": {
    "ExecuteTime": {
     "end_time": "2018-12-25T00:47:50.971511Z",
     "start_time": "2018-12-25T00:47:50.778037Z"
    }
   },
   "outputs": [
    {
     "data": {
      "image/png": "[encoded data removed]",
      "text/plain": [
       "<matplotlib.figure.Figure at 0x1a1ce5d908>"
      ]
     },
     "metadata": {},
     "output_type": "display_data"
    }
   ],
   "source": [
    "# do Bayesian estimation\n",
    "plt.hist(df.loc[df['average_rating'] > 1, 'average_rating'], bins=50);"
   ]
  },
  {
   "cell_type": "code",
   "execution_count": 155,
   "metadata": {
    "ExecuteTime": {
     "end_time": "2018-12-25T00:47:51.844583Z",
     "start_time": "2018-12-25T00:47:51.836564Z"
    }
   },
   "outputs": [
    {
     "data": {
      "text/plain": [
       "(5.9862189249824524, 1.1514593387025789)"
      ]
     },
     "execution_count": 155,
     "metadata": {},
     "output_type": "execute_result"
    }
   ],
   "source": [
    "mask = (df['average_rating'] > 1)\n",
    "df.loc[mask, 'average_rating'].mean(), df.loc[mask, 'average_rating'].std()"
   ]
  },
  {
   "cell_type": "code",
   "execution_count": 156,
   "metadata": {
    "ExecuteTime": {
     "end_time": "2018-12-25T00:47:52.718474Z",
     "start_time": "2018-12-25T00:47:52.414171Z"
    }
   },
   "outputs": [
    {
     "data": {
      "image/png": "[encoded data removed]",
      "text/plain": [
       "<matplotlib.figure.Figure at 0x1a24bb9128>"
      ]
     },
     "metadata": {},
     "output_type": "display_data"
    }
   ],
   "source": [
    "# do Bayesian estimation\n",
    "draw_normal = np.random.normal(loc=5.9862, scale=1.15146, size=len(df[mask]))\n",
    "\n",
    "plt.hist(df.loc[df['average_rating'] > 1, 'average_rating'], bins=50, alpha=0.6);\n",
    "plt.hist(draw_normal, bins=50, alpha=0.6);"
   ]
  },
  {
   "cell_type": "markdown",
   "metadata": {},
   "source": [
    "P(actual|reviews) = P(reviews|actual)P(actual)/P(reviews)\n",
    "\n",
    "Prior: P(actual) $\\propto \\exp(-(actual-5.98)^2/1.15)$\n",
    "\n",
    "P(reviews) = \\int_0^{10} P(actual)\\,\\d actual\n",
    "\n",
    "P(reviews|actual) = \\exp(-(review-actual)^2/1.15)$\n"
   ]
  },
  {
   "cell_type": "code",
   "execution_count": 157,
   "metadata": {
    "ExecuteTime": {
     "end_time": "2018-12-25T00:47:55.285849Z",
     "start_time": "2018-12-25T00:47:54.781398Z"
    }
   },
   "outputs": [
    {
     "data": {
      "text/plain": [
       "<seaborn.axisgrid.JointGrid at 0x1a2214a908>"
      ]
     },
     "execution_count": 157,
     "metadata": {},
     "output_type": "execute_result"
    },
    {
     "data": {
      "image/png": "[encoded data removed]",
      "text/plain": [
       "<matplotlib.figure.Figure at 0x1a2214a588>"
      ]
     },
     "metadata": {},
     "output_type": "display_data"
    }
   ],
   "source": [
    "sns.jointplot('average_rating', 'rating_stddev',data=df[mask], alpha=0.08, kind='hex')"
   ]
  },
  {
   "cell_type": "markdown",
   "metadata": {},
   "source": [
    "## Shrinkage\n",
    "\n",
    "From http://www.biostat.jhsph.edu/~fdominic/teaching/bio656/lectures/2.IIstagenormalnormal.pdf we have the following approach to shrinkage:\n",
    "\n",
    "$$\\theta_i = \\lambda_i \\bar{y}_i + (1-\\lambda_i)\\bar{y}$$\n",
    "where\n",
    "$$\\lambda_i = \\frac{\\tau^2}{\\tau^2 + \\frac{\\sigma^2}{n_j}}$$\n",
    "\n",
    "Here $\\tau^2$ is the variance of the mean of the different games."
   ]
  },
  {
   "cell_type": "markdown",
   "metadata": {},
   "source": [
    "```R\n",
    "yj <-c(0.25,1.4,0.60,0.25,0.45,1.0)\n",
    "sigmaj <- c(0.13,0.25,0.13,0.55,0.40,0.45)\n",
    "tausq <- var(yj) - mean(sigmaj^2)\n",
    "TV <- sigmaj^2 + tausq\n",
    "tmp<- 1/TV\n",
    "ww <- tmp/sum(tmp)\n",
    "v.muhat <- sum(ww)^{-1}\n",
    "muhat <- v.muhat*sum(yj*ww)\n",
    "```"
   ]
  },
  {
   "cell_type": "code",
   "execution_count": 80,
   "metadata": {
    "ExecuteTime": {
     "end_time": "2018-12-24T23:13:05.730254Z",
     "start_time": "2018-12-24T23:13:05.721315Z"
    }
   },
   "outputs": [
    {
     "data": {
      "text/plain": [
       "array([0.25, 1.4 , 0.6 , 0.25, 0.45, 1.  ])"
      ]
     },
     "execution_count": 80,
     "metadata": {},
     "output_type": "execute_result"
    }
   ],
   "source": [
    "yj = np.array([0.25,1.4,0.60,0.25,0.45,1.0])\n",
    "yj"
   ]
  },
  {
   "cell_type": "code",
   "execution_count": 81,
   "metadata": {
    "ExecuteTime": {
     "end_time": "2018-12-24T23:13:26.265894Z",
     "start_time": "2018-12-24T23:13:26.255147Z"
    }
   },
   "outputs": [
    {
     "data": {
      "text/plain": [
       "array([0.13, 0.25, 0.13, 0.55, 0.4 , 0.45])"
      ]
     },
     "execution_count": 81,
     "metadata": {},
     "output_type": "execute_result"
    }
   ],
   "source": [
    "sigmaj = np.array([0.13,0.25,0.13,0.55,0.40,0.45])\n",
    "sigmaj"
   ]
  },
  {
   "cell_type": "code",
   "execution_count": 85,
   "metadata": {
    "ExecuteTime": {
     "end_time": "2018-12-24T23:14:18.070694Z",
     "start_time": "2018-12-24T23:14:18.050099Z"
    }
   },
   "outputs": [
    {
     "data": {
      "text/plain": [
       "0.14896666666666664"
      ]
     },
     "execution_count": 85,
     "metadata": {},
     "output_type": "execute_result"
    }
   ],
   "source": [
    "tausq = yj.var() - sigmaj.var()\n",
    "tausq"
   ]
  },
  {
   "cell_type": "code",
   "execution_count": 86,
   "metadata": {
    "ExecuteTime": {
     "end_time": "2018-12-24T23:14:42.668359Z",
     "start_time": "2018-12-24T23:14:42.661206Z"
    }
   },
   "outputs": [
    {
     "data": {
      "text/plain": [
       "array([0.16586667, 0.21146667, 0.16586667, 0.45146667, 0.30896667,\n",
       "       0.35146667])"
      ]
     },
     "execution_count": 86,
     "metadata": {},
     "output_type": "execute_result"
    }
   ],
   "source": [
    "total_var = sigmaj*sigmaj + tausq\n",
    "total_var"
   ]
  },
  {
   "cell_type": "code",
   "execution_count": 88,
   "metadata": {
    "ExecuteTime": {
     "end_time": "2018-12-24T23:34:04.427934Z",
     "start_time": "2018-12-24T23:34:04.424755Z"
    }
   },
   "outputs": [],
   "source": [
    "tmp = 1/total_var"
   ]
  },
  {
   "cell_type": "code",
   "execution_count": 89,
   "metadata": {
    "ExecuteTime": {
     "end_time": "2018-12-24T23:34:16.808750Z",
     "start_time": "2018-12-24T23:34:16.804092Z"
    }
   },
   "outputs": [],
   "source": [
    "ww = tmp/sum(tmp)"
   ]
  },
  {
   "cell_type": "code",
   "execution_count": 90,
   "metadata": {
    "ExecuteTime": {
     "end_time": "2018-12-24T23:34:33.437644Z",
     "start_time": "2018-12-24T23:34:33.427869Z"
    }
   },
   "outputs": [
    {
     "data": {
      "text/plain": [
       "array([0.24035407, 0.18852488, 0.24035407, 0.08830492, 0.12903246,\n",
       "       0.11342961])"
      ]
     },
     "execution_count": 90,
     "metadata": {},
     "output_type": "execute_result"
    }
   ],
   "source": [
    "ww"
   ]
  },
  {
   "cell_type": "markdown",
   "metadata": {},
   "source": [
    "## Another example of EB\n",
    "\n",
    "Example taken from http://www.statslab.cam.ac.uk/~rjs57/SteinParadox.pdf\n",
    "\n",
    "Note in this case we can also use the $\\beta$-distribution, which is far easier to apply Emperical Bayes to."
   ]
  },
  {
   "cell_type": "code",
   "execution_count": 108,
   "metadata": {
    "ExecuteTime": {
     "end_time": "2018-12-25T00:34:46.006336Z",
     "start_time": "2018-12-25T00:34:46.001945Z"
    }
   },
   "outputs": [],
   "source": [
    "csv = '''Player ni hit πi\n",
    "Baines 415 0.284 0.289\n",
    "Barfield 476 0.246 0.256\n",
    "Bell 583 0.254 0.265\n",
    "Biggio 555 0.276 0.287\n",
    "Bonds 519 0.301 0.297\n",
    "Bonilla 625 0.280 0.279\n",
    "Brett 544 0.329 0.305\n",
    "\"Brooks Jr.\" 568 0.266 0.269\n",
    "Browne 513 0.267 0.271\n",
    "'''\n",
    "\n",
    "from io import StringIO"
   ]
  },
  {
   "cell_type": "code",
   "execution_count": 109,
   "metadata": {
    "ExecuteTime": {
     "end_time": "2018-12-25T00:34:46.267530Z",
     "start_time": "2018-12-25T00:34:46.254210Z"
    }
   },
   "outputs": [
    {
     "data": {
      "text/html": [
       "<div>\n",
       "<style scoped>\n",
       "    .dataframe tbody tr th:only-of-type {\n",
       "        vertical-align: middle;\n",
       "    }\n",
       "\n",
       "    .dataframe tbody tr th {\n",
       "        vertical-align: top;\n",
       "    }\n",
       "\n",
       "    .dataframe thead th {\n",
       "        text-align: right;\n",
       "    }\n",
       "</style>\n",
       "<table border=\"1\" class=\"dataframe\">\n",
       "  <thead>\n",
       "    <tr style=\"text-align: right;\">\n",
       "      <th></th>\n",
       "      <th>Player</th>\n",
       "      <th>ni</th>\n",
       "      <th>hit</th>\n",
       "      <th>πi</th>\n",
       "    </tr>\n",
       "  </thead>\n",
       "  <tbody>\n",
       "    <tr>\n",
       "      <th>0</th>\n",
       "      <td>Baines</td>\n",
       "      <td>415</td>\n",
       "      <td>0.284</td>\n",
       "      <td>0.289</td>\n",
       "    </tr>\n",
       "    <tr>\n",
       "      <th>1</th>\n",
       "      <td>Barfield</td>\n",
       "      <td>476</td>\n",
       "      <td>0.246</td>\n",
       "      <td>0.256</td>\n",
       "    </tr>\n",
       "    <tr>\n",
       "      <th>2</th>\n",
       "      <td>Bell</td>\n",
       "      <td>583</td>\n",
       "      <td>0.254</td>\n",
       "      <td>0.265</td>\n",
       "    </tr>\n",
       "    <tr>\n",
       "      <th>3</th>\n",
       "      <td>Biggio</td>\n",
       "      <td>555</td>\n",
       "      <td>0.276</td>\n",
       "      <td>0.287</td>\n",
       "    </tr>\n",
       "    <tr>\n",
       "      <th>4</th>\n",
       "      <td>Bonds</td>\n",
       "      <td>519</td>\n",
       "      <td>0.301</td>\n",
       "      <td>0.297</td>\n",
       "    </tr>\n",
       "    <tr>\n",
       "      <th>5</th>\n",
       "      <td>Bonilla</td>\n",
       "      <td>625</td>\n",
       "      <td>0.280</td>\n",
       "      <td>0.279</td>\n",
       "    </tr>\n",
       "    <tr>\n",
       "      <th>6</th>\n",
       "      <td>Brett</td>\n",
       "      <td>544</td>\n",
       "      <td>0.329</td>\n",
       "      <td>0.305</td>\n",
       "    </tr>\n",
       "    <tr>\n",
       "      <th>7</th>\n",
       "      <td>Brooks Jr.</td>\n",
       "      <td>568</td>\n",
       "      <td>0.266</td>\n",
       "      <td>0.269</td>\n",
       "    </tr>\n",
       "    <tr>\n",
       "      <th>8</th>\n",
       "      <td>Browne</td>\n",
       "      <td>513</td>\n",
       "      <td>0.267</td>\n",
       "      <td>0.271</td>\n",
       "    </tr>\n",
       "  </tbody>\n",
       "</table>\n",
       "</div>"
      ],
      "text/plain": [
       "       Player   ni    hit     πi\n",
       "0      Baines  415  0.284  0.289\n",
       "1    Barfield  476  0.246  0.256\n",
       "2        Bell  583  0.254  0.265\n",
       "3      Biggio  555  0.276  0.287\n",
       "4       Bonds  519  0.301  0.297\n",
       "5     Bonilla  625  0.280  0.279\n",
       "6       Brett  544  0.329  0.305\n",
       "7  Brooks Jr.  568  0.266  0.269\n",
       "8      Browne  513  0.267  0.271"
      ]
     },
     "execution_count": 109,
     "metadata": {},
     "output_type": "execute_result"
    }
   ],
   "source": [
    "baseball = pd.read_csv(StringIO(csv), delim_whitespace=True)\n",
    "baseball"
   ]
  },
  {
   "cell_type": "code",
   "execution_count": 113,
   "metadata": {
    "ExecuteTime": {
     "end_time": "2018-12-25T00:36:09.357522Z",
     "start_time": "2018-12-25T00:36:09.351980Z"
    }
   },
   "outputs": [],
   "source": [
    "# transform to normal\n",
    "baseball['Z'] = np.sqrt(baseball['ni'])*np.arcsin(2*baseball['hit'] - 1)"
   ]
  },
  {
   "cell_type": "code",
   "execution_count": 114,
   "metadata": {
    "ExecuteTime": {
     "end_time": "2018-12-25T00:36:10.277800Z",
     "start_time": "2018-12-25T00:36:10.272407Z"
    }
   },
   "outputs": [
    {
     "data": {
      "text/plain": [
       "0    -9.100158\n",
       "1   -11.625661\n",
       "2   -12.420041\n",
       "3   -10.943531\n",
       "4    -9.325311\n",
       "5   -11.389967\n",
       "6    -8.141045\n",
       "7   -11.607176\n",
       "8   -10.979675\n",
       "Name: Z, dtype: float64"
      ]
     },
     "execution_count": 114,
     "metadata": {},
     "output_type": "execute_result"
    }
   ],
   "source": [
    "baseball['Z']"
   ]
  },
  {
   "cell_type": "code",
   "execution_count": 117,
   "metadata": {
    "ExecuteTime": {
     "end_time": "2018-12-25T00:37:12.172598Z",
     "start_time": "2018-12-25T00:37:12.167855Z"
    }
   },
   "outputs": [],
   "source": [
    "baseball['theta_i'] = np.sqrt(baseball['ni'])*np.arcsin(2*baseball['πi'] - 1)"
   ]
  },
  {
   "cell_type": "code",
   "execution_count": 118,
   "metadata": {
    "ExecuteTime": {
     "end_time": "2018-12-25T00:37:12.671664Z",
     "start_time": "2018-12-25T00:37:12.665012Z"
    }
   },
   "outputs": [
    {
     "data": {
      "text/plain": [
       "0    -8.874870\n",
       "1   -11.122456\n",
       "2   -11.814118\n",
       "3   -10.367289\n",
       "4    -9.524356\n",
       "5   -11.445677\n",
       "6    -9.344254\n",
       "7   -11.445654\n",
       "8   -10.775366\n",
       "Name: theta_i, dtype: float64"
      ]
     },
     "execution_count": 118,
     "metadata": {},
     "output_type": "execute_result"
    }
   ],
   "source": [
    "baseball['theta_i']"
   ]
  },
  {
   "cell_type": "code",
   "execution_count": 123,
   "metadata": {
    "ExecuteTime": {
     "end_time": "2018-12-25T00:38:12.973957Z",
     "start_time": "2018-12-25T00:38:12.966231Z"
    }
   },
   "outputs": [
    {
     "data": {
      "text/plain": [
       "2.5614344217510236"
      ]
     },
     "execution_count": 123,
     "metadata": {},
     "output_type": "execute_result"
    }
   ],
   "source": [
    "((baseball['theta_i'] - baseball['Z'])**2).sum()"
   ]
  },
  {
   "cell_type": "code",
   "execution_count": 132,
   "metadata": {
    "ExecuteTime": {
     "end_time": "2018-12-25T00:41:19.453265Z",
     "start_time": "2018-12-25T00:41:19.446485Z"
    }
   },
   "outputs": [
    {
     "data": {
      "text/plain": [
       "0.27813088786994583"
      ]
     },
     "execution_count": 132,
     "metadata": {},
     "output_type": "execute_result"
    }
   ],
   "source": [
    "Pi0 = (baseball['hit']*baseball['ni']).sum()/baseball['ni'].sum()\n",
    "Pi0"
   ]
  },
  {
   "cell_type": "code",
   "execution_count": 133,
   "metadata": {
    "ExecuteTime": {
     "end_time": "2018-12-25T00:42:06.503318Z",
     "start_time": "2018-12-25T00:42:06.493917Z"
    }
   },
   "outputs": [
    {
     "data": {
      "text/plain": [
       "-10.615623668631697"
      ]
     },
     "execution_count": 133,
     "metadata": {},
     "output_type": "execute_result"
    }
   ],
   "source": [
    "Theta0 = np.sqrt(baseball['ni'].mean())*np.arcsin(2*Pi0 - 1)\n",
    "Theta0"
   ]
  },
  {
   "cell_type": "code",
   "execution_count": 135,
   "metadata": {
    "ExecuteTime": {
     "end_time": "2018-12-25T00:43:29.997329Z",
     "start_time": "2018-12-25T00:43:29.989072Z"
    }
   },
   "outputs": [],
   "source": [
    "baseball['JS'] = Theta0 + (1 - (len(baseball) - 2)/((baseball['Z'] - Theta0)**2).sum())*(baseball['Z'] - Theta0)"
   ]
  },
  {
   "cell_type": "code",
   "execution_count": 136,
   "metadata": {
    "ExecuteTime": {
     "end_time": "2018-12-25T00:44:29.836034Z",
     "start_time": "2018-12-25T00:44:29.831743Z"
    }
   },
   "outputs": [],
   "source": [
    "baseball['scaled'] = 0.5*(np.sin(baseball['JS']/np.sqrt(baseball['ni'])) + 1)"
   ]
  },
  {
   "cell_type": "code",
   "execution_count": 137,
   "metadata": {
    "ExecuteTime": {
     "end_time": "2018-12-25T00:44:33.248612Z",
     "start_time": "2018-12-25T00:44:33.235519Z"
    }
   },
   "outputs": [
    {
     "data": {
      "text/html": [
       "<div>\n",
       "<style scoped>\n",
       "    .dataframe tbody tr th:only-of-type {\n",
       "        vertical-align: middle;\n",
       "    }\n",
       "\n",
       "    .dataframe tbody tr th {\n",
       "        vertical-align: top;\n",
       "    }\n",
       "\n",
       "    .dataframe thead th {\n",
       "        text-align: right;\n",
       "    }\n",
       "</style>\n",
       "<table border=\"1\" class=\"dataframe\">\n",
       "  <thead>\n",
       "    <tr style=\"text-align: right;\">\n",
       "      <th></th>\n",
       "      <th>Player</th>\n",
       "      <th>ni</th>\n",
       "      <th>hit</th>\n",
       "      <th>πi</th>\n",
       "      <th>Z</th>\n",
       "      <th>theta_i</th>\n",
       "      <th>JS</th>\n",
       "      <th>scaled</th>\n",
       "    </tr>\n",
       "  </thead>\n",
       "  <tbody>\n",
       "    <tr>\n",
       "      <th>0</th>\n",
       "      <td>Baines</td>\n",
       "      <td>415</td>\n",
       "      <td>0.284</td>\n",
       "      <td>0.289</td>\n",
       "      <td>-9.100158</td>\n",
       "      <td>-8.874870</td>\n",
       "      <td>-9.755636</td>\n",
       "      <td>0.269605</td>\n",
       "    </tr>\n",
       "    <tr>\n",
       "      <th>1</th>\n",
       "      <td>Barfield</td>\n",
       "      <td>476</td>\n",
       "      <td>0.246</td>\n",
       "      <td>0.256</td>\n",
       "      <td>-11.625661</td>\n",
       "      <td>-11.122456</td>\n",
       "      <td>-11.188794</td>\n",
       "      <td>0.254674</td>\n",
       "    </tr>\n",
       "    <tr>\n",
       "      <th>2</th>\n",
       "      <td>Bell</td>\n",
       "      <td>583</td>\n",
       "      <td>0.254</td>\n",
       "      <td>0.265</td>\n",
       "      <td>-12.420041</td>\n",
       "      <td>-11.814118</td>\n",
       "      <td>-11.639585</td>\n",
       "      <td>0.268196</td>\n",
       "    </tr>\n",
       "    <tr>\n",
       "      <th>3</th>\n",
       "      <td>Biggio</td>\n",
       "      <td>555</td>\n",
       "      <td>0.276</td>\n",
       "      <td>0.287</td>\n",
       "      <td>-10.943531</td>\n",
       "      <td>-10.367289</td>\n",
       "      <td>-10.801703</td>\n",
       "      <td>0.278695</td>\n",
       "    </tr>\n",
       "    <tr>\n",
       "      <th>4</th>\n",
       "      <td>Bonds</td>\n",
       "      <td>519</td>\n",
       "      <td>0.301</td>\n",
       "      <td>0.297</td>\n",
       "      <td>-9.325311</td>\n",
       "      <td>-9.524356</td>\n",
       "      <td>-9.883404</td>\n",
       "      <td>0.289824</td>\n",
       "    </tr>\n",
       "    <tr>\n",
       "      <th>5</th>\n",
       "      <td>Bonilla</td>\n",
       "      <td>625</td>\n",
       "      <td>0.280</td>\n",
       "      <td>0.279</td>\n",
       "      <td>-11.389967</td>\n",
       "      <td>-11.445677</td>\n",
       "      <td>-11.055044</td>\n",
       "      <td>0.286035</td>\n",
       "    </tr>\n",
       "    <tr>\n",
       "      <th>6</th>\n",
       "      <td>Brett</td>\n",
       "      <td>544</td>\n",
       "      <td>0.329</td>\n",
       "      <td>0.305</td>\n",
       "      <td>-8.141045</td>\n",
       "      <td>-9.344254</td>\n",
       "      <td>-9.211363</td>\n",
       "      <td>0.307626</td>\n",
       "    </tr>\n",
       "    <tr>\n",
       "      <th>7</th>\n",
       "      <td>Brooks Jr.</td>\n",
       "      <td>568</td>\n",
       "      <td>0.266</td>\n",
       "      <td>0.269</td>\n",
       "      <td>-11.607176</td>\n",
       "      <td>-11.445654</td>\n",
       "      <td>-11.178304</td>\n",
       "      <td>0.273989</td>\n",
       "    </tr>\n",
       "    <tr>\n",
       "      <th>8</th>\n",
       "      <td>Browne</td>\n",
       "      <td>513</td>\n",
       "      <td>0.267</td>\n",
       "      <td>0.271</td>\n",
       "      <td>-10.979675</td>\n",
       "      <td>-10.775366</td>\n",
       "      <td>-10.822214</td>\n",
       "      <td>0.270081</td>\n",
       "    </tr>\n",
       "  </tbody>\n",
       "</table>\n",
       "</div>"
      ],
      "text/plain": [
       "       Player   ni    hit     πi          Z    theta_i         JS    scaled\n",
       "0      Baines  415  0.284  0.289  -9.100158  -8.874870  -9.755636  0.269605\n",
       "1    Barfield  476  0.246  0.256 -11.625661 -11.122456 -11.188794  0.254674\n",
       "2        Bell  583  0.254  0.265 -12.420041 -11.814118 -11.639585  0.268196\n",
       "3      Biggio  555  0.276  0.287 -10.943531 -10.367289 -10.801703  0.278695\n",
       "4       Bonds  519  0.301  0.297  -9.325311  -9.524356  -9.883404  0.289824\n",
       "5     Bonilla  625  0.280  0.279 -11.389967 -11.445677 -11.055044  0.286035\n",
       "6       Brett  544  0.329  0.305  -8.141045  -9.344254  -9.211363  0.307626\n",
       "7  Brooks Jr.  568  0.266  0.269 -11.607176 -11.445654 -11.178304  0.273989\n",
       "8      Browne  513  0.267  0.271 -10.979675 -10.775366 -10.822214  0.270081"
      ]
     },
     "execution_count": 137,
     "metadata": {},
     "output_type": "execute_result"
    }
   ],
   "source": [
    "baseball"
   ]
  },
  {
   "cell_type": "code",
   "execution_count": 140,
   "metadata": {
    "ExecuteTime": {
     "end_time": "2018-12-25T00:45:33.548835Z",
     "start_time": "2018-12-25T00:45:33.542725Z"
    }
   },
   "outputs": [
    {
     "data": {
      "text/plain": [
       "0.024304871687194238"
      ]
     },
     "execution_count": 140,
     "metadata": {},
     "output_type": "execute_result"
    }
   ],
   "source": [
    "np.sqrt(((baseball['scaled'] - baseball['πi'])**2).sum())"
   ]
  },
  {
   "cell_type": "code",
   "execution_count": 141,
   "metadata": {
    "ExecuteTime": {
     "end_time": "2018-12-25T00:45:33.838059Z",
     "start_time": "2018-12-25T00:45:33.829780Z"
    }
   },
   "outputs": [
    {
     "data": {
      "text/plain": [
       "0.031384709652950385"
      ]
     },
     "execution_count": 141,
     "metadata": {},
     "output_type": "execute_result"
    }
   ],
   "source": [
    "np.sqrt(((baseball['hit'] - baseball['πi'])**2).sum())"
   ]
  },
  {
   "cell_type": "markdown",
   "metadata": {},
   "source": [
    "How does this compare to just using a straight beta distribution?"
   ]
  },
  {
   "cell_type": "code",
   "execution_count": 159,
   "metadata": {
    "ExecuteTime": {
     "end_time": "2018-12-25T00:49:29.323570Z",
     "start_time": "2018-12-25T00:49:29.189562Z"
    }
   },
   "outputs": [
    {
     "data": {
      "image/png": "[encoded data removed]",
      "text/plain": [
       "<matplotlib.figure.Figure at 0x1a228a36a0>"
      ]
     },
     "metadata": {},
     "output_type": "display_data"
    }
   ],
   "source": [
    "plt.hist(baseball['hit']);"
   ]
  },
  {
   "cell_type": "code",
   "execution_count": 162,
   "metadata": {
    "ExecuteTime": {
     "end_time": "2018-12-25T01:03:45.038446Z",
     "start_time": "2018-12-25T01:03:45.028667Z"
    }
   },
   "outputs": [
    {
     "data": {
      "text/plain": [
       "(318.4672717138311, 826.6407767977472)"
      ]
     },
     "execution_count": 162,
     "metadata": {},
     "output_type": "execute_result"
    }
   ],
   "source": [
    "# use method of moments. Be simple -- take unweighted means and vars\n",
    "avg_rate = baseball['hit'].mean()\n",
    "avg_var = baseball['hit'].var()\n",
    "alpha = avg_rate*(1-avg_rate)/avg_var - avg_rate\n",
    "beta = alpha*(1/avg_rate - 1)\n",
    "alpha, beta"
   ]
  },
  {
   "cell_type": "code",
   "execution_count": 163,
   "metadata": {
    "ExecuteTime": {
     "end_time": "2018-12-25T01:05:02.852133Z",
     "start_time": "2018-12-25T01:05:02.841376Z"
    }
   },
   "outputs": [],
   "source": [
    "baseball['simple'] = (baseball['hit']*baseball['ni'] + alpha)/ (baseball['ni'] + alpha + beta)"
   ]
  },
  {
   "cell_type": "code",
   "execution_count": 164,
   "metadata": {
    "ExecuteTime": {
     "end_time": "2018-12-25T01:05:05.722023Z",
     "start_time": "2018-12-25T01:05:05.706603Z"
    }
   },
   "outputs": [
    {
     "data": {
      "text/html": [
       "<div>\n",
       "<style scoped>\n",
       "    .dataframe tbody tr th:only-of-type {\n",
       "        vertical-align: middle;\n",
       "    }\n",
       "\n",
       "    .dataframe tbody tr th {\n",
       "        vertical-align: top;\n",
       "    }\n",
       "\n",
       "    .dataframe thead th {\n",
       "        text-align: right;\n",
       "    }\n",
       "</style>\n",
       "<table border=\"1\" class=\"dataframe\">\n",
       "  <thead>\n",
       "    <tr style=\"text-align: right;\">\n",
       "      <th></th>\n",
       "      <th>Player</th>\n",
       "      <th>ni</th>\n",
       "      <th>hit</th>\n",
       "      <th>πi</th>\n",
       "      <th>Z</th>\n",
       "      <th>theta_i</th>\n",
       "      <th>JS</th>\n",
       "      <th>scaled</th>\n",
       "      <th>simple</th>\n",
       "    </tr>\n",
       "  </thead>\n",
       "  <tbody>\n",
       "    <tr>\n",
       "      <th>0</th>\n",
       "      <td>Baines</td>\n",
       "      <td>415</td>\n",
       "      <td>0.284</td>\n",
       "      <td>0.289</td>\n",
       "      <td>-9.100158</td>\n",
       "      <td>-8.874870</td>\n",
       "      <td>-9.755636</td>\n",
       "      <td>0.269605</td>\n",
       "      <td>0.279678</td>\n",
       "    </tr>\n",
       "    <tr>\n",
       "      <th>1</th>\n",
       "      <td>Barfield</td>\n",
       "      <td>476</td>\n",
       "      <td>0.246</td>\n",
       "      <td>0.256</td>\n",
       "      <td>-11.625661</td>\n",
       "      <td>-11.122456</td>\n",
       "      <td>-11.188794</td>\n",
       "      <td>0.254674</td>\n",
       "      <td>0.268682</td>\n",
       "    </tr>\n",
       "    <tr>\n",
       "      <th>2</th>\n",
       "      <td>Bell</td>\n",
       "      <td>583</td>\n",
       "      <td>0.254</td>\n",
       "      <td>0.265</td>\n",
       "      <td>-12.420041</td>\n",
       "      <td>-11.814118</td>\n",
       "      <td>-11.639585</td>\n",
       "      <td>0.268196</td>\n",
       "      <td>0.269977</td>\n",
       "    </tr>\n",
       "    <tr>\n",
       "      <th>3</th>\n",
       "      <td>Biggio</td>\n",
       "      <td>555</td>\n",
       "      <td>0.276</td>\n",
       "      <td>0.287</td>\n",
       "      <td>-10.943531</td>\n",
       "      <td>-10.367289</td>\n",
       "      <td>-10.801703</td>\n",
       "      <td>0.278695</td>\n",
       "      <td>0.277422</td>\n",
       "    </tr>\n",
       "    <tr>\n",
       "      <th>4</th>\n",
       "      <td>Bonds</td>\n",
       "      <td>519</td>\n",
       "      <td>0.301</td>\n",
       "      <td>0.297</td>\n",
       "      <td>-9.325311</td>\n",
       "      <td>-9.524356</td>\n",
       "      <td>-9.883404</td>\n",
       "      <td>0.289824</td>\n",
       "      <td>0.285250</td>\n",
       "    </tr>\n",
       "    <tr>\n",
       "      <th>5</th>\n",
       "      <td>Bonilla</td>\n",
       "      <td>625</td>\n",
       "      <td>0.280</td>\n",
       "      <td>0.279</td>\n",
       "      <td>-11.389967</td>\n",
       "      <td>-11.445677</td>\n",
       "      <td>-11.055044</td>\n",
       "      <td>0.286035</td>\n",
       "      <td>0.278778</td>\n",
       "    </tr>\n",
       "    <tr>\n",
       "      <th>6</th>\n",
       "      <td>Brett</td>\n",
       "      <td>544</td>\n",
       "      <td>0.329</td>\n",
       "      <td>0.305</td>\n",
       "      <td>-8.141045</td>\n",
       "      <td>-9.344254</td>\n",
       "      <td>-9.211363</td>\n",
       "      <td>0.307626</td>\n",
       "      <td>0.294501</td>\n",
       "    </tr>\n",
       "    <tr>\n",
       "      <th>7</th>\n",
       "      <td>Brooks Jr.</td>\n",
       "      <td>568</td>\n",
       "      <td>0.266</td>\n",
       "      <td>0.269</td>\n",
       "      <td>-11.607176</td>\n",
       "      <td>-11.445654</td>\n",
       "      <td>-11.178304</td>\n",
       "      <td>0.273989</td>\n",
       "      <td>0.274096</td>\n",
       "    </tr>\n",
       "    <tr>\n",
       "      <th>8</th>\n",
       "      <td>Browne</td>\n",
       "      <td>513</td>\n",
       "      <td>0.267</td>\n",
       "      <td>0.271</td>\n",
       "      <td>-10.979675</td>\n",
       "      <td>-10.775366</td>\n",
       "      <td>-10.822214</td>\n",
       "      <td>0.270081</td>\n",
       "      <td>0.274673</td>\n",
       "    </tr>\n",
       "  </tbody>\n",
       "</table>\n",
       "</div>"
      ],
      "text/plain": [
       "       Player   ni    hit     πi          Z    theta_i         JS    scaled  \\\n",
       "0      Baines  415  0.284  0.289  -9.100158  -8.874870  -9.755636  0.269605   \n",
       "1    Barfield  476  0.246  0.256 -11.625661 -11.122456 -11.188794  0.254674   \n",
       "2        Bell  583  0.254  0.265 -12.420041 -11.814118 -11.639585  0.268196   \n",
       "3      Biggio  555  0.276  0.287 -10.943531 -10.367289 -10.801703  0.278695   \n",
       "4       Bonds  519  0.301  0.297  -9.325311  -9.524356  -9.883404  0.289824   \n",
       "5     Bonilla  625  0.280  0.279 -11.389967 -11.445677 -11.055044  0.286035   \n",
       "6       Brett  544  0.329  0.305  -8.141045  -9.344254  -9.211363  0.307626   \n",
       "7  Brooks Jr.  568  0.266  0.269 -11.607176 -11.445654 -11.178304  0.273989   \n",
       "8      Browne  513  0.267  0.271 -10.979675 -10.775366 -10.822214  0.270081   \n",
       "\n",
       "     simple  \n",
       "0  0.279678  \n",
       "1  0.268682  \n",
       "2  0.269977  \n",
       "3  0.277422  \n",
       "4  0.285250  \n",
       "5  0.278778  \n",
       "6  0.294501  \n",
       "7  0.274096  \n",
       "8  0.274673  "
      ]
     },
     "execution_count": 164,
     "metadata": {},
     "output_type": "execute_result"
    }
   ],
   "source": [
    "baseball"
   ]
  },
  {
   "cell_type": "code",
   "execution_count": 168,
   "metadata": {
    "ExecuteTime": {
     "end_time": "2018-12-25T01:07:24.810956Z",
     "start_time": "2018-12-25T01:07:24.592370Z"
    }
   },
   "outputs": [
    {
     "data": {
      "text/plain": [
       "<matplotlib.legend.Legend at 0x1a24d98278>"
      ]
     },
     "execution_count": 168,
     "metadata": {},
     "output_type": "execute_result"
    },
    {
     "data": {
      "image/png": "[encoded data removed]",
      "text/plain": [
       "<matplotlib.figure.Figure at 0x1a26ad6128>"
      ]
     },
     "metadata": {},
     "output_type": "display_data"
    }
   ],
   "source": [
    "baseball.sort_values('πi', inplace=True)\n",
    "\n",
    "plt.figure(dpi=130)\n",
    "plt.plot(baseball['πi'], baseball['scaled'] - baseball['πi'], label='scaled')\n",
    "plt.plot(baseball['πi'], baseball['hit'] - baseball['πi'], label='raw')\n",
    "plt.plot(baseball['πi'], baseball['simple'] - baseball['πi'], label='beta_dist')\n",
    "plt.ylabel('residual')\n",
    "plt.xlabel('πi')\n",
    "plt.legend()"
   ]
  },
  {
   "cell_type": "code",
   "execution_count": 170,
   "metadata": {
    "ExecuteTime": {
     "end_time": "2018-12-25T01:09:18.746313Z",
     "start_time": "2018-12-25T01:09:18.740566Z"
    }
   },
   "outputs": [
    {
     "name": "stdout",
     "output_type": "stream",
     "text": [
      "Method simple has RMSE of 0.008511932306197467\n",
      "Method hit has RMSE of 0.010461569884316796\n",
      "Method scaled has RMSE of 0.008101623895731413\n"
     ]
    }
   ],
   "source": [
    "for col in ['simple', 'hit', 'scaled']:\n",
    "    resid = (baseball[col] - baseball['πi'])\n",
    "    print(f'Method {col} has RMSE of {np.sqrt((resid**2).mean())}')"
   ]
  },
  {
   "cell_type": "code",
   "execution_count": null,
   "metadata": {},
   "outputs": [],
   "source": []
  }
 ],
 "metadata": {
  "kernelspec": {
   "display_name": "Python 3",
   "language": "python",
   "name": "python3"
  },
  "varInspector": {
   "cols": {
    "lenName": 16,
    "lenType": 16,
    "lenVar": 40
   },
   "kernels_config": {
    "python": {
     "delete_cmd_postfix": "",
     "delete_cmd_prefix": "del ",
     "library": "var_list.py",
     "varRefreshCmd": "print(var_dic_list())"
    },
    "r": {
     "delete_cmd_postfix": ") ",
     "delete_cmd_prefix": "rm(",
     "library": "var_list.r",
     "varRefreshCmd": "cat(var_dic_list()) "
    }
   },
   "types_to_exclude": [
    "module",
    "function",
    "builtin_function_or_method",
    "instance",
    "_Feature"
   ],
   "window_display": false
  }
 },
 "nbformat": 4,
 "nbformat_minor": 2
}
