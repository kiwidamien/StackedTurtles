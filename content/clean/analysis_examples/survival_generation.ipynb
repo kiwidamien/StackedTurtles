{
 "cells": [
  {
   "cell_type": "markdown",
   "metadata": {},
   "source": [
    "## Data Generation"
   ]
  },
  {
   "cell_type": "code",
   "execution_count": 382,
   "metadata": {
    "ExecuteTime": {
     "end_time": "2019-07-14T22:54:36.056883Z",
     "start_time": "2019-07-14T22:54:36.051093Z"
    }
   },
   "outputs": [],
   "source": [
    "import pandas as pd\n",
    "import numpy as np\n",
    "import matplotlib.pyplot as plt\n",
    "\n",
    "from scipy.stats import expon\n",
    "# This might be new, can install via\n",
    "# conda install -c conda-forge lifelines **OR** pip install lifelines\n",
    "from lifelines import KaplanMeierFitter\n",
    "from lifelines.utils import datetimes_to_durations"
   ]
  },
  {
   "cell_type": "markdown",
   "metadata": {},
   "source": [
    "Let's generate some fake data! We will start by assuming that 100 employees are hired on Jan 1st 2017 for two companies, `GoodCo` and `BadCo`. The employees at `GoodCo` have a 0.05% chance of leaving per day, while those at `BadCo` have a 0.08% chance of leaving per day.\n",
    "\n",
    "We are going to track how many left over 3 months, and what the distribution of leaving times look like"
   ]
  },
  {
   "cell_type": "code",
   "execution_count": 565,
   "metadata": {
    "ExecuteTime": {
     "end_time": "2019-07-14T23:19:45.772705Z",
     "start_time": "2019-07-14T23:19:45.765442Z"
    }
   },
   "outputs": [],
   "source": [
    "np.random.seed(36)\n",
    "\n",
    "time_to_quit_Good = np.floor(expon(scale=1/0.0005).rvs(size=1000))\n",
    "time_to_quit_Bad = np.floor(expon(scale=1/0.0008).rvs(size=1000))\n",
    "\n",
    "MAX_TIME = 90"
   ]
  },
  {
   "cell_type": "code",
   "execution_count": 566,
   "metadata": {
    "ExecuteTime": {
     "end_time": "2019-07-14T23:19:46.135372Z",
     "start_time": "2019-07-14T23:19:46.131375Z"
    }
   },
   "outputs": [
    {
     "data": {
      "text/plain": [
       "(1332.5, 927.0)"
      ]
     },
     "execution_count": 566,
     "metadata": {},
     "output_type": "execute_result"
    }
   ],
   "source": [
    "np.median(time_to_quit_Good), np.median(time_to_quit_Bad)"
   ]
  },
  {
   "cell_type": "markdown",
   "metadata": {},
   "source": [
    "But we are only observing for 3 months (i.e. 90 days), so anyone that takes longer than 90 days to quit won't have a quit date."
   ]
  },
  {
   "cell_type": "code",
   "execution_count": 567,
   "metadata": {
    "ExecuteTime": {
     "end_time": "2019-07-14T23:19:46.542504Z",
     "start_time": "2019-07-14T23:19:46.539484Z"
    }
   },
   "outputs": [],
   "source": [
    "time_to_quit_Good[time_to_quit_Good > MAX_TIME] = np.nan\n",
    "time_to_quit_Bad[time_to_quit_Bad > MAX_TIME] = np.nan"
   ]
  },
  {
   "cell_type": "code",
   "execution_count": 568,
   "metadata": {
    "ExecuteTime": {
     "end_time": "2019-07-14T23:19:46.909991Z",
     "start_time": "2019-07-14T23:19:46.894409Z"
    }
   },
   "outputs": [],
   "source": [
    "alias = {'Good': 'A', 'Bad': 'B'}\n",
    "employees = pd.DataFrame({'duration_employment': np.concatenate([time_to_quit_Good, time_to_quit_Bad]),\n",
    "                          'join_date': pd.to_datetime('2017-01-01'),\n",
    "                          'company': ['A'] * len(time_to_quit_Good) + ['B'] * len(time_to_quit_Bad)\n",
    "                         }\n",
    "                        )\n",
    "employees['quit_date'] = employees.join_date + pd.to_timedelta(employees.duration_employment, unit='d')\n",
    "employees = employees[['company', 'join_date', 'quit_date', 'duration_employment']]"
   ]
  },
  {
   "cell_type": "code",
   "execution_count": 569,
   "metadata": {
    "ExecuteTime": {
     "end_time": "2019-07-14T23:19:47.289277Z",
     "start_time": "2019-07-14T23:19:47.278729Z"
    }
   },
   "outputs": [
    {
     "data": {
      "text/html": [
       "<div>\n",
       "<style scoped>\n",
       "    .dataframe tbody tr th:only-of-type {\n",
       "        vertical-align: middle;\n",
       "    }\n",
       "\n",
       "    .dataframe tbody tr th {\n",
       "        vertical-align: top;\n",
       "    }\n",
       "\n",
       "    .dataframe thead th {\n",
       "        text-align: right;\n",
       "    }\n",
       "</style>\n",
       "<table border=\"1\" class=\"dataframe\">\n",
       "  <thead>\n",
       "    <tr style=\"text-align: right;\">\n",
       "      <th></th>\n",
       "      <th>company</th>\n",
       "      <th>join_date</th>\n",
       "      <th>quit_date</th>\n",
       "      <th>duration_employment</th>\n",
       "    </tr>\n",
       "  </thead>\n",
       "  <tbody>\n",
       "    <tr>\n",
       "      <th>1699</th>\n",
       "      <td>B</td>\n",
       "      <td>2017-01-01</td>\n",
       "      <td>NaT</td>\n",
       "      <td>NaN</td>\n",
       "    </tr>\n",
       "    <tr>\n",
       "      <th>470</th>\n",
       "      <td>A</td>\n",
       "      <td>2017-01-01</td>\n",
       "      <td>NaT</td>\n",
       "      <td>NaN</td>\n",
       "    </tr>\n",
       "    <tr>\n",
       "      <th>2</th>\n",
       "      <td>A</td>\n",
       "      <td>2017-01-01</td>\n",
       "      <td>NaT</td>\n",
       "      <td>NaN</td>\n",
       "    </tr>\n",
       "    <tr>\n",
       "      <th>1932</th>\n",
       "      <td>B</td>\n",
       "      <td>2017-01-01</td>\n",
       "      <td>NaT</td>\n",
       "      <td>NaN</td>\n",
       "    </tr>\n",
       "    <tr>\n",
       "      <th>1074</th>\n",
       "      <td>B</td>\n",
       "      <td>2017-01-01</td>\n",
       "      <td>2017-02-09</td>\n",
       "      <td>39.0</td>\n",
       "    </tr>\n",
       "    <tr>\n",
       "      <th>1173</th>\n",
       "      <td>B</td>\n",
       "      <td>2017-01-01</td>\n",
       "      <td>2017-04-01</td>\n",
       "      <td>90.0</td>\n",
       "    </tr>\n",
       "    <tr>\n",
       "      <th>888</th>\n",
       "      <td>A</td>\n",
       "      <td>2017-01-01</td>\n",
       "      <td>NaT</td>\n",
       "      <td>NaN</td>\n",
       "    </tr>\n",
       "    <tr>\n",
       "      <th>812</th>\n",
       "      <td>A</td>\n",
       "      <td>2017-01-01</td>\n",
       "      <td>NaT</td>\n",
       "      <td>NaN</td>\n",
       "    </tr>\n",
       "    <tr>\n",
       "      <th>245</th>\n",
       "      <td>A</td>\n",
       "      <td>2017-01-01</td>\n",
       "      <td>NaT</td>\n",
       "      <td>NaN</td>\n",
       "    </tr>\n",
       "    <tr>\n",
       "      <th>72</th>\n",
       "      <td>A</td>\n",
       "      <td>2017-01-01</td>\n",
       "      <td>NaT</td>\n",
       "      <td>NaN</td>\n",
       "    </tr>\n",
       "  </tbody>\n",
       "</table>\n",
       "</div>"
      ],
      "text/plain": [
       "     company  join_date  quit_date  duration_employment\n",
       "1699       B 2017-01-01        NaT                  NaN\n",
       "470        A 2017-01-01        NaT                  NaN\n",
       "2          A 2017-01-01        NaT                  NaN\n",
       "1932       B 2017-01-01        NaT                  NaN\n",
       "1074       B 2017-01-01 2017-02-09                 39.0\n",
       "1173       B 2017-01-01 2017-04-01                 90.0\n",
       "888        A 2017-01-01        NaT                  NaN\n",
       "812        A 2017-01-01        NaT                  NaN\n",
       "245        A 2017-01-01        NaT                  NaN\n",
       "72         A 2017-01-01        NaT                  NaN"
      ]
     },
     "execution_count": 569,
     "metadata": {},
     "output_type": "execute_result"
    }
   ],
   "source": [
    "employees.sample(10, random_state=562)"
   ]
  },
  {
   "cell_type": "code",
   "execution_count": 570,
   "metadata": {
    "ExecuteTime": {
     "end_time": "2019-07-14T23:19:47.770904Z",
     "start_time": "2019-07-14T23:19:47.747553Z"
    }
   },
   "outputs": [],
   "source": [
    "employees.to_csv('generated_employee_retention_data.csv')"
   ]
  },
  {
   "cell_type": "markdown",
   "metadata": {},
   "source": [
    "## Using data"
   ]
  },
  {
   "cell_type": "code",
   "execution_count": 571,
   "metadata": {
    "ExecuteTime": {
     "end_time": "2019-07-14T23:19:48.551680Z",
     "start_time": "2019-07-14T23:19:48.546130Z"
    }
   },
   "outputs": [],
   "source": [
    "import pandas as pd\n",
    "import numpy as np\n",
    "import matplotlib.pyplot as plt\n",
    "\n",
    "from scipy.stats import expon\n",
    "# This might be new, can install via\n",
    "# conda install -c conda-forge lifelines **OR** pip install lifelines\n",
    "from lifelines import KaplanMeierFitter\n",
    "from lifelines.utils import datetimes_to_durations"
   ]
  },
  {
   "cell_type": "code",
   "execution_count": 572,
   "metadata": {
    "ExecuteTime": {
     "end_time": "2019-07-14T23:19:48.958618Z",
     "start_time": "2019-07-14T23:19:48.947734Z"
    }
   },
   "outputs": [],
   "source": [
    "employees = pd.read_csv('generated_employee_retention_data.csv', parse_dates=['join_date', 'quit_date'])"
   ]
  },
  {
   "cell_type": "code",
   "execution_count": 573,
   "metadata": {
    "ExecuteTime": {
     "end_time": "2019-07-14T23:19:49.383140Z",
     "start_time": "2019-07-14T23:19:49.375406Z"
    }
   },
   "outputs": [
    {
     "data": {
      "text/plain": [
       "company\n",
       "A    38.047619\n",
       "B    48.580645\n",
       "Name: duration_employment, dtype: float64"
      ]
     },
     "execution_count": 573,
     "metadata": {},
     "output_type": "execute_result"
    }
   ],
   "source": [
    "employees.groupby('company').duration_employment.mean()"
   ]
  },
  {
   "cell_type": "code",
   "execution_count": 574,
   "metadata": {
    "ExecuteTime": {
     "end_time": "2019-07-14T23:19:49.851634Z",
     "start_time": "2019-07-14T23:19:49.843677Z"
    }
   },
   "outputs": [
    {
     "data": {
      "text/plain": [
       "company\n",
       "A    37.5\n",
       "B    49.0\n",
       "Name: duration_employment, dtype: float64"
      ]
     },
     "execution_count": 574,
     "metadata": {},
     "output_type": "execute_result"
    }
   ],
   "source": [
    "employees.groupby('company').duration_employment.median()"
   ]
  },
  {
   "cell_type": "code",
   "execution_count": 575,
   "metadata": {
    "ExecuteTime": {
     "end_time": "2019-07-14T23:19:50.237004Z",
     "start_time": "2019-07-14T23:19:50.229539Z"
    }
   },
   "outputs": [
    {
     "data": {
      "text/plain": [
       "company\n",
       "A    42\n",
       "B    62\n",
       "Name: duration_employment, dtype: int64"
      ]
     },
     "execution_count": 575,
     "metadata": {},
     "output_type": "execute_result"
    }
   ],
   "source": [
    "employees.groupby('company').duration_employment.count()"
   ]
  },
  {
   "cell_type": "markdown",
   "metadata": {},
   "source": [
    "## Looking at only those that have left"
   ]
  },
  {
   "cell_type": "code",
   "execution_count": 576,
   "metadata": {
    "ExecuteTime": {
     "end_time": "2019-07-14T23:19:51.312436Z",
     "start_time": "2019-07-14T23:19:51.120684Z"
    }
   },
   "outputs": [
    {
     "data": {
      "text/plain": [
       "<matplotlib.legend.Legend at 0x1a24f6c978>"
      ]
     },
     "execution_count": 576,
     "metadata": {},
     "output_type": "execute_result"
    },
    {
     "data": {
      "image/png": "[encoded data removed]",
      "text/plain": [
       "<matplotlib.figure.Figure at 0x1a24c85518>"
      ]
     },
     "metadata": {},
     "output_type": "display_data"
    }
   ],
   "source": [
    "for company_name, company in employees.groupby('company'):\n",
    "    company.duration_employment.hist(alpha=0.3, label=company_name, \n",
    "                                     range=(0,90), bins=10)\n",
    "plt.title(\"Retention: employees that have quit in first 90 days\")\n",
    "plt.xlim(0, 90)\n",
    "plt.xlabel('Days before quitting')\n",
    "plt.ylabel('# Employees that quit')\n",
    "plt.legend()\n"
   ]
  },
  {
   "cell_type": "code",
   "execution_count": 577,
   "metadata": {
    "ExecuteTime": {
     "end_time": "2019-07-14T23:19:51.971979Z",
     "start_time": "2019-07-14T23:19:51.757174Z"
    }
   },
   "outputs": [
    {
     "data": {
      "text/plain": [
       "<matplotlib.legend.Legend at 0x1a24ef4c18>"
      ]
     },
     "execution_count": 577,
     "metadata": {},
     "output_type": "execute_result"
    },
    {
     "data": {
      "image/png": "[encoded data removed]",
      "text/plain": [
       "<matplotlib.figure.Figure at 0x1a25014cf8>"
      ]
     },
     "metadata": {},
     "output_type": "display_data"
    }
   ],
   "source": [
    "for company_name, company in employees.groupby('company'):\n",
    "    company.duration_employment.hist(alpha=0.3, label=company_name, \n",
    "                                     range=(0,90), bins=10, density=True)\n",
    "plt.title(\"Retention: employees that have quit in first 90 days\")\n",
    "plt.xlim(0, 90)\n",
    "plt.xlabel('Days before quitting')\n",
    "plt.ylabel('# Employees that quit')\n",
    "plt.legend()"
   ]
  },
  {
   "cell_type": "markdown",
   "metadata": {},
   "source": [
    "## What would using lifelines tells us?"
   ]
  },
  {
   "cell_type": "code",
   "execution_count": 578,
   "metadata": {
    "ExecuteTime": {
     "end_time": "2019-07-14T23:19:52.799561Z",
     "start_time": "2019-07-14T23:19:52.796737Z"
    }
   },
   "outputs": [],
   "source": [
    "kmf = KaplanMeierFitter()"
   ]
  },
  {
   "cell_type": "code",
   "execution_count": 579,
   "metadata": {
    "ExecuteTime": {
     "end_time": "2019-07-14T23:19:53.207312Z",
     "start_time": "2019-07-14T23:19:53.180014Z"
    }
   },
   "outputs": [
    {
     "data": {
      "text/plain": [
       "<lifelines.KaplanMeierFitter: fitted with 1000 observations, 958 censored>"
      ]
     },
     "execution_count": 579,
     "metadata": {},
     "output_type": "execute_result"
    }
   ],
   "source": [
    "company_A = employees[employees.company == 'A']\n",
    "kmf.fit(company_A.duration_employment.fillna(MAX_TIME), ~company_A.duration_employment.isna())"
   ]
  },
  {
   "cell_type": "code",
   "execution_count": 580,
   "metadata": {
    "ExecuteTime": {
     "end_time": "2019-07-14T23:19:53.511190Z",
     "start_time": "2019-07-14T23:19:53.507680Z"
    }
   },
   "outputs": [
    {
     "data": {
      "text/plain": [
       "inf"
      ]
     },
     "execution_count": 580,
     "metadata": {},
     "output_type": "execute_result"
    }
   ],
   "source": [
    "kmf.median_"
   ]
  },
  {
   "cell_type": "code",
   "execution_count": 581,
   "metadata": {
    "ExecuteTime": {
     "end_time": "2019-07-14T23:19:54.089597Z",
     "start_time": "2019-07-14T23:19:54.083768Z"
    }
   },
   "outputs": [
    {
     "data": {
      "text/plain": [
       "54.0"
      ]
     },
     "execution_count": 581,
     "metadata": {},
     "output_type": "execute_result"
    }
   ],
   "source": [
    "kmf.survival_function_[kmf.survival_function_.KM_estimate < 0.97].index[0]"
   ]
  },
  {
   "cell_type": "code",
   "execution_count": 582,
   "metadata": {
    "ExecuteTime": {
     "end_time": "2019-07-14T23:19:54.583907Z",
     "start_time": "2019-07-14T23:19:54.553610Z"
    }
   },
   "outputs": [
    {
     "data": {
      "text/plain": [
       "inf"
      ]
     },
     "execution_count": 582,
     "metadata": {},
     "output_type": "execute_result"
    }
   ],
   "source": [
    "company_B = employees[employees.company == 'B']\n",
    "kmf.fit(company_B.duration_employment.fillna(MAX_TIME), ~company_B.duration_employment.isna())\n",
    "kmf.median_"
   ]
  },
  {
   "cell_type": "code",
   "execution_count": 583,
   "metadata": {
    "ExecuteTime": {
     "end_time": "2019-07-14T23:19:55.171560Z",
     "start_time": "2019-07-14T23:19:55.164949Z"
    }
   },
   "outputs": [
    {
     "data": {
      "text/plain": [
       "48.0"
      ]
     },
     "execution_count": 583,
     "metadata": {},
     "output_type": "execute_result"
    }
   ],
   "source": [
    "kmf.survival_function_[kmf.survival_function_.KM_estimate < 0.97].index[0]"
   ]
  },
  {
   "cell_type": "code",
   "execution_count": 585,
   "metadata": {
    "ExecuteTime": {
     "end_time": "2019-07-14T23:20:31.075181Z",
     "start_time": "2019-07-14T23:20:30.805148Z"
    }
   },
   "outputs": [
    {
     "data": {
      "text/plain": [
       "Text(0,0.5,'Prob survival')"
      ]
     },
     "execution_count": 585,
     "metadata": {},
     "output_type": "execute_result"
    },
    {
     "data": {
      "image/png": "[encoded data removed]",
      "text/plain": [
       "<matplotlib.figure.Figure at 0x1a25054e10>"
      ]
     },
     "metadata": {},
     "output_type": "display_data"
    }
   ],
   "source": [
    "plt.figure(figsize=(10,8))\n",
    "ax = plt.gca()\n",
    "medians = {}\n",
    "show_median = False\n",
    "\n",
    "for company_name, company in employees.groupby('company'):\n",
    "    kmf.fit(company.duration_employment.fillna(MAX_TIME), ~company.duration_employment.isna(), \n",
    "            label=company_name)\n",
    "    ax = kmf.plot(ax=ax)\n",
    "    medians[company_name] = kmf.median_\n",
    "    \n",
    "if medians['B'] < float('inf'):\n",
    "    ax.axvline(medians['B'], color='orange', ls='--')\n",
    "    show_median = True\n",
    "    \n",
    "if medians['A'] < float('inf'):\n",
    "    ax.axvline(medians['A'], color='blue', ls='--')\n",
    "    show_median = True\n",
    "    \n",
    "if show_median:\n",
    "    ax.axhline(0.5, color='k', ls='--')\n",
    "\n",
    "plt.ylabel('Prob survival')"
   ]
  },
  {
   "cell_type": "code",
   "execution_count": 561,
   "metadata": {
    "ExecuteTime": {
     "end_time": "2019-07-14T23:17:40.886185Z",
     "start_time": "2019-07-14T23:17:40.881580Z"
    }
   },
   "outputs": [
    {
     "data": {
      "text/plain": [
       "True"
      ]
     },
     "execution_count": 561,
     "metadata": {},
     "output_type": "execute_result"
    }
   ],
   "source": [
    "3 < float('inf')"
   ]
  },
  {
   "cell_type": "markdown",
   "metadata": {},
   "source": [
    "## Reconstruct metis, as best I can"
   ]
  },
  {
   "cell_type": "code",
   "execution_count": 591,
   "metadata": {
    "ExecuteTime": {
     "end_time": "2019-07-14T23:45:49.901527Z",
     "start_time": "2019-07-14T23:45:49.897470Z"
    }
   },
   "outputs": [],
   "source": [
    "f=\"\"\"\n",
    "Name,join,quit\n",
    "Sophie,09-2017,\n",
    "Roberto,04-2018,\n",
    "Zach,03-2017,2018-11\n",
    "Robert,03-2018,03-2019\n",
    "Lara,06-2018,\n",
    "Seth,04-2017,03-2018\n",
    "Damien,03-2018,04-2019\n",
    "JB,03-2017,\n",
    "Michelle,01-2016,01-2017\n",
    "Chad,01-2018,\n",
    "Brendan,03-2018,03-2019\n",
    "Adam,09-2018,\n",
    "Kimberly,11-2018,\n",
    "Cliff,11-2018,\n",
    "Julia,7-2015,10-2018\n",
    "Alice,7-2017,\n",
    "David,3-2017,8-2018\n",
    "\"\"\""
   ]
  },
  {
   "cell_type": "code",
   "execution_count": 592,
   "metadata": {
    "ExecuteTime": {
     "end_time": "2019-07-14T23:45:50.646356Z",
     "start_time": "2019-07-14T23:45:50.643572Z"
    }
   },
   "outputs": [],
   "source": [
    "from io import StringIO"
   ]
  },
  {
   "cell_type": "code",
   "execution_count": 595,
   "metadata": {
    "ExecuteTime": {
     "end_time": "2019-07-14T23:46:07.351428Z",
     "start_time": "2019-07-14T23:46:07.344108Z"
    }
   },
   "outputs": [],
   "source": [
    "emp_metis = pd.read_csv(StringIO(f), parse_dates=['join', 'quit'])"
   ]
  },
  {
   "cell_type": "code",
   "execution_count": 597,
   "metadata": {
    "ExecuteTime": {
     "end_time": "2019-07-14T23:46:46.061599Z",
     "start_time": "2019-07-14T23:46:46.055902Z"
    }
   },
   "outputs": [],
   "source": [
    "emp_metis['duration'] = (emp_metis['quit'] - emp_metis['join']).dt.days"
   ]
  },
  {
   "cell_type": "code",
   "execution_count": 598,
   "metadata": {
    "ExecuteTime": {
     "end_time": "2019-07-14T23:46:48.988589Z",
     "start_time": "2019-07-14T23:46:48.977283Z"
    }
   },
   "outputs": [
    {
     "data": {
      "text/html": [
       "<div>\n",
       "<style scoped>\n",
       "    .dataframe tbody tr th:only-of-type {\n",
       "        vertical-align: middle;\n",
       "    }\n",
       "\n",
       "    .dataframe tbody tr th {\n",
       "        vertical-align: top;\n",
       "    }\n",
       "\n",
       "    .dataframe thead th {\n",
       "        text-align: right;\n",
       "    }\n",
       "</style>\n",
       "<table border=\"1\" class=\"dataframe\">\n",
       "  <thead>\n",
       "    <tr style=\"text-align: right;\">\n",
       "      <th></th>\n",
       "      <th>Name</th>\n",
       "      <th>join</th>\n",
       "      <th>quit</th>\n",
       "      <th>duration</th>\n",
       "    </tr>\n",
       "  </thead>\n",
       "  <tbody>\n",
       "    <tr>\n",
       "      <th>0</th>\n",
       "      <td>Sophie</td>\n",
       "      <td>2017-09-01</td>\n",
       "      <td>NaT</td>\n",
       "      <td>NaN</td>\n",
       "    </tr>\n",
       "    <tr>\n",
       "      <th>1</th>\n",
       "      <td>Roberto</td>\n",
       "      <td>2018-04-01</td>\n",
       "      <td>NaT</td>\n",
       "      <td>NaN</td>\n",
       "    </tr>\n",
       "    <tr>\n",
       "      <th>2</th>\n",
       "      <td>Zach</td>\n",
       "      <td>2017-03-01</td>\n",
       "      <td>2018-11-01</td>\n",
       "      <td>610.0</td>\n",
       "    </tr>\n",
       "    <tr>\n",
       "      <th>3</th>\n",
       "      <td>Robert</td>\n",
       "      <td>2018-03-01</td>\n",
       "      <td>2019-03-01</td>\n",
       "      <td>365.0</td>\n",
       "    </tr>\n",
       "    <tr>\n",
       "      <th>4</th>\n",
       "      <td>Lara</td>\n",
       "      <td>2018-06-01</td>\n",
       "      <td>NaT</td>\n",
       "      <td>NaN</td>\n",
       "    </tr>\n",
       "    <tr>\n",
       "      <th>5</th>\n",
       "      <td>Seth</td>\n",
       "      <td>2017-04-01</td>\n",
       "      <td>2018-03-01</td>\n",
       "      <td>334.0</td>\n",
       "    </tr>\n",
       "    <tr>\n",
       "      <th>6</th>\n",
       "      <td>Damien</td>\n",
       "      <td>2018-03-01</td>\n",
       "      <td>2019-04-01</td>\n",
       "      <td>396.0</td>\n",
       "    </tr>\n",
       "    <tr>\n",
       "      <th>7</th>\n",
       "      <td>JB</td>\n",
       "      <td>2017-03-01</td>\n",
       "      <td>NaT</td>\n",
       "      <td>NaN</td>\n",
       "    </tr>\n",
       "    <tr>\n",
       "      <th>8</th>\n",
       "      <td>Michelle</td>\n",
       "      <td>2016-01-01</td>\n",
       "      <td>2017-01-01</td>\n",
       "      <td>366.0</td>\n",
       "    </tr>\n",
       "    <tr>\n",
       "      <th>9</th>\n",
       "      <td>Chad</td>\n",
       "      <td>2018-01-01</td>\n",
       "      <td>NaT</td>\n",
       "      <td>NaN</td>\n",
       "    </tr>\n",
       "    <tr>\n",
       "      <th>10</th>\n",
       "      <td>Brendan</td>\n",
       "      <td>2018-03-01</td>\n",
       "      <td>2019-03-01</td>\n",
       "      <td>365.0</td>\n",
       "    </tr>\n",
       "    <tr>\n",
       "      <th>11</th>\n",
       "      <td>Adam</td>\n",
       "      <td>2018-09-01</td>\n",
       "      <td>NaT</td>\n",
       "      <td>NaN</td>\n",
       "    </tr>\n",
       "    <tr>\n",
       "      <th>12</th>\n",
       "      <td>Kimberly</td>\n",
       "      <td>2018-11-01</td>\n",
       "      <td>NaT</td>\n",
       "      <td>NaN</td>\n",
       "    </tr>\n",
       "    <tr>\n",
       "      <th>13</th>\n",
       "      <td>Cliff</td>\n",
       "      <td>2018-11-01</td>\n",
       "      <td>NaT</td>\n",
       "      <td>NaN</td>\n",
       "    </tr>\n",
       "    <tr>\n",
       "      <th>14</th>\n",
       "      <td>Julia</td>\n",
       "      <td>2015-07-01</td>\n",
       "      <td>2018-10-01</td>\n",
       "      <td>1188.0</td>\n",
       "    </tr>\n",
       "    <tr>\n",
       "      <th>15</th>\n",
       "      <td>Alice</td>\n",
       "      <td>2017-07-01</td>\n",
       "      <td>NaT</td>\n",
       "      <td>NaN</td>\n",
       "    </tr>\n",
       "    <tr>\n",
       "      <th>16</th>\n",
       "      <td>David</td>\n",
       "      <td>2017-03-01</td>\n",
       "      <td>2018-08-01</td>\n",
       "      <td>518.0</td>\n",
       "    </tr>\n",
       "  </tbody>\n",
       "</table>\n",
       "</div>"
      ],
      "text/plain": [
       "        Name       join       quit  duration\n",
       "0     Sophie 2017-09-01        NaT       NaN\n",
       "1    Roberto 2018-04-01        NaT       NaN\n",
       "2       Zach 2017-03-01 2018-11-01     610.0\n",
       "3     Robert 2018-03-01 2019-03-01     365.0\n",
       "4       Lara 2018-06-01        NaT       NaN\n",
       "5       Seth 2017-04-01 2018-03-01     334.0\n",
       "6     Damien 2018-03-01 2019-04-01     396.0\n",
       "7         JB 2017-03-01        NaT       NaN\n",
       "8   Michelle 2016-01-01 2017-01-01     366.0\n",
       "9       Chad 2018-01-01        NaT       NaN\n",
       "10   Brendan 2018-03-01 2019-03-01     365.0\n",
       "11      Adam 2018-09-01        NaT       NaN\n",
       "12  Kimberly 2018-11-01        NaT       NaN\n",
       "13     Cliff 2018-11-01        NaT       NaN\n",
       "14     Julia 2015-07-01 2018-10-01    1188.0\n",
       "15     Alice 2017-07-01        NaT       NaN\n",
       "16     David 2017-03-01 2018-08-01     518.0"
      ]
     },
     "execution_count": 598,
     "metadata": {},
     "output_type": "execute_result"
    }
   ],
   "source": [
    "emp_metis"
   ]
  },
  {
   "cell_type": "code",
   "execution_count": 599,
   "metadata": {
    "ExecuteTime": {
     "end_time": "2019-07-14T23:47:11.825662Z",
     "start_time": "2019-07-14T23:47:11.819036Z"
    }
   },
   "outputs": [
    {
     "data": {
      "text/plain": [
       "(381.0, 517.75)"
      ]
     },
     "execution_count": 599,
     "metadata": {},
     "output_type": "execute_result"
    }
   ],
   "source": [
    "emp_metis.duration.median(), emp_metis.duration.mean()"
   ]
  },
  {
   "cell_type": "code",
   "execution_count": 600,
   "metadata": {
    "ExecuteTime": {
     "end_time": "2019-07-14T23:47:43.655901Z",
     "start_time": "2019-07-14T23:47:43.647576Z"
    }
   },
   "outputs": [
    {
     "data": {
      "text/plain": [
       "(408.0, 511.3529411764706)"
      ]
     },
     "execution_count": 600,
     "metadata": {},
     "output_type": "execute_result"
    }
   ],
   "source": [
    "emp_metis['duration'] = (emp_metis['quit'].fillna(pd.to_datetime('2019-07-14')) - emp_metis['join']).dt.days\n",
    "emp_metis.duration.median(), emp_metis.duration.mean()"
   ]
  },
  {
   "cell_type": "code",
   "execution_count": 601,
   "metadata": {
    "ExecuteTime": {
     "end_time": "2019-07-14T23:48:27.478313Z",
     "start_time": "2019-07-14T23:48:27.446078Z"
    }
   },
   "outputs": [
    {
     "data": {
      "text/plain": [
       "<lifelines.KaplanMeierFitter: fitted with 17 observations, 9 censored>"
      ]
     },
     "execution_count": 601,
     "metadata": {},
     "output_type": "execute_result"
    }
   ],
   "source": [
    "kmf = KaplanMeierFitter()\n",
    "kmf.fit(emp_metis.duration, ~emp_metis.quit.isna())"
   ]
  },
  {
   "cell_type": "code",
   "execution_count": 606,
   "metadata": {
    "ExecuteTime": {
     "end_time": "2019-07-21T00:10:46.180564Z",
     "start_time": "2019-07-21T00:10:46.043824Z"
    }
   },
   "outputs": [
    {
     "name": "stdout",
     "output_type": "stream",
     "text": [
      "# -*- coding: utf-8 -*-\r\n",
      "from __future__ import print_function\r\n",
      "from __future__ import division\r\n",
      "import warnings\r\n",
      "import numpy as np\r\n",
      "import pandas as pd\r\n",
      "\r\n",
      "from lifelines.fitters import UnivariateFitter\r\n",
      "from lifelines.utils import _preprocess_inputs, _additive_estimate, StatError, inv_normal_cdf,\\\r\n",
      "    median_survival_times, check_nans_or_infs\r\n",
      "from lifelines.plotting import plot_loglogs\r\n",
      "\r\n",
      "\r\n",
      "class KaplanMeierFitter(UnivariateFitter):\r\n",
      "\r\n",
      "    \"\"\"\r\n",
      "    Class for fitting the Kaplan-Meier estimate for the survival function.\r\n",
      "\r\n",
      "    KaplanMeierFitter(alpha=0.95)\r\n",
      "\r\n",
      "    alpha: The alpha value associated with the confidence intervals.\r\n",
      "\r\n",
      "    \"\"\"\r\n",
      "\r\n",
      "    def fit(self, durations, event_observed=None, timeline=None, entry=None, label='KM_estimate',\r\n",
      "            alpha=None, left_censorship=False, ci_labels=None, weights=None):\r\n",
      "        \"\"\"\r\n",
      "        Parameters:\r\n",
      "          duration: an array, or pd.Series, of length n -- duration subject was observed for\r\n",
      "          timeline: return the best estimate at the values in timelines (postively increasing)\r\n",
      "          event_observed: an array, or pd.Series, of length n -- True if the the death was observed, False if the event\r\n",
      "             was lost (right-censored). Defaults all True if event_observed==None\r\n",
      "          entry: an array, or pd.Series, of length n -- relative time when a subject entered the study. This is\r\n",
      "             useful for left-truncated (not left-censored) observations. If None, all members of the population\r\n",
      "             were born at time 0.\r\n",
      "          label: a string to name the column of the estimate.\r\n",
      "          alpha: the alpha value in the confidence intervals. Overrides the initializing\r\n",
      "             alpha for this call to fit only.\r\n",
      "          left_censorship: True if durations and event_observed refer to left censorship events. Default False\r\n",
      "          ci_labels: add custom column names to the generated confidence intervals\r\n",
      "                as a length-2 list: [<lower-bound name>, <upper-bound name>]. Default: <label>_lower_<alpha>\r\n",
      "          weights: n array, or pd.Series, of length n, if providing a weighted dataset. For example, instead\r\n",
      "              of providing every subject as a single element of `durations` and `event_observed`, one could\r\n",
      "              weigh subject differently.\r\n",
      "\r\n",
      "        Returns:\r\n",
      "          self, with new properties like 'survival_function_'.\r\n",
      "\r\n",
      "        \"\"\"\r\n",
      "\r\n",
      "        check_nans_or_infs(durations)\r\n",
      "        if event_observed is not None:\r\n",
      "            check_nans_or_infs(event_observed)\r\n",
      "\r\n",
      "        if weights is not None:\r\n",
      "          if (weights.astype(int) != weights).any():\r\n",
      "              warnings.warn(\"\"\"It looks like your weights are not integers, possibly prospenity scores then?\r\n",
      "  It's important to know that the naive variance estimates of the coefficients are biased. Instead use Monte Carlo to\r\n",
      "  estimate the variances. See paper \"Variance estimation when using inverse probability of treatment weighting (IPTW) with survival analysis\"\r\n",
      "  or \"Adjusted Kaplan-Meier estimator and log-rank test with inverse probability of treatment weighting for survival data.\"\r\n",
      "                  \"\"\", RuntimeWarning)\r\n",
      "\r\n",
      "        # if the user is interested in left-censorship, we return the cumulative_density_, no survival_function_,\r\n",
      "        estimate_name = 'survival_function_' if not left_censorship else 'cumulative_density_'\r\n",
      "        v = _preprocess_inputs(durations, event_observed, timeline, entry, weights)\r\n",
      "        self.durations, self.event_observed, self.timeline, self.entry, self.event_table = v\r\n",
      "\r\n",
      "        self._label = label\r\n",
      "        alpha = alpha if alpha else self.alpha\r\n",
      "        log_survival_function, cumulative_sq_ = _additive_estimate(self.event_table, self.timeline,\r\n",
      "                                                                   self._additive_f, self._additive_var,\r\n",
      "                                                                   left_censorship)\r\n",
      "\r\n",
      "        if entry is not None:\r\n",
      "            # a serious problem with KM is that when the sample size is small and there are too few early\r\n",
      "            # truncation times, it may happen that is the number of patients at risk and the number of deaths is the same.\r\n",
      "            # we adjust for this using the Breslow-Fleming-Harrington estimator\r\n",
      "            n = self.event_table.shape[0]\r\n",
      "            net_population = (self.event_table['entrance'] - self.event_table['removed']).cumsum()\r\n",
      "            if net_population.iloc[:int(n / 2)].min() == 0:\r\n",
      "                ix = net_population.iloc[:int(n / 2)].idxmin()\r\n",
      "                raise StatError(\"\"\"There are too few early truncation times and too many events. S(t)==0 for all t>%.1f. Recommend BreslowFlemingHarringtonFitter.\"\"\" % ix)\r\n",
      "\r\n",
      "        # estimation\r\n",
      "        setattr(self, estimate_name, pd.DataFrame(np.exp(log_survival_function), columns=[self._label]))\r\n",
      "        self.__estimate = getattr(self, estimate_name)\r\n",
      "        self.confidence_interval_ = self._bounds(cumulative_sq_[:, None], alpha, ci_labels)\r\n",
      "        self.median_ = median_survival_times(self.__estimate, left_censorship=left_censorship)\r\n",
      "\r\n",
      "        # estimation methods\r\n",
      "        self._estimation_method = estimate_name\r\n",
      "        self._estimate_name = estimate_name\r\n",
      "        self._predict_label = label\r\n",
      "        self._update_docstrings()\r\n",
      "\r\n",
      "        # plotting functions\r\n",
      "        setattr(self, \"plot_\" + estimate_name, self.plot)\r\n",
      "        return self\r\n",
      "\r\n",
      "    def plot_loglogs(self, *args, **kwargs):\r\n",
      "        return plot_loglogs(self, *args, **kwargs)\r\n",
      "\r\n",
      "    def _bounds(self, cumulative_sq_, alpha, ci_labels):\r\n",
      "        # This method calculates confidence intervals using the exponential Greenwood formula.\r\n",
      "        # See https://www.math.wustl.edu/%7Esawyer/handouts/greenwood.pdf\r\n",
      "\r\n",
      "        alpha2 = inv_normal_cdf((1. + alpha) / 2.)\r\n",
      "        df = pd.DataFrame(index=self.timeline)\r\n",
      "        v = np.log(self.__estimate.values)\r\n",
      "\r\n",
      "        if ci_labels is None:\r\n",
      "            ci_labels = [\"%s_upper_%.2f\" % (self._label, alpha), \"%s_lower_%.2f\" % (self._label, alpha)]\r\n",
      "        assert len(ci_labels) == 2, \"ci_labels should be a length 2 array.\"\r\n",
      "\r\n",
      "        df[ci_labels[0]] = np.exp(-np.exp(np.log(-v) + alpha2 * np.sqrt(cumulative_sq_) / v))\r\n",
      "        df[ci_labels[1]] = np.exp(-np.exp(np.log(-v) - alpha2 * np.sqrt(cumulative_sq_) / v))\r\n",
      "        return df\r\n",
      "\r\n",
      "    def _additive_f(self, population, deaths):\r\n",
      "        np.seterr(invalid='ignore', divide='ignore')\r\n",
      "        return (np.log(population - deaths) - np.log(population))\r\n",
      "\r\n",
      "    def _additive_var(self, population, deaths):\r\n",
      "        np.seterr(divide='ignore')\r\n",
      "        return (1. * deaths / (population * (population - deaths))).replace([np.inf], 0)\r\n"
     ]
    }
   ],
   "source": [
    "!cat /anaconda3/lib/python3.6/site-packages/lifelines/fitters/kaplan_meier_fitter.py"
   ]
  },
  {
   "cell_type": "code",
   "execution_count": 602,
   "metadata": {
    "ExecuteTime": {
     "end_time": "2019-07-14T23:48:35.509354Z",
     "start_time": "2019-07-14T23:48:35.361096Z"
    }
   },
   "outputs": [
    {
     "data": {
      "text/plain": [
       "<matplotlib.axes._subplots.AxesSubplot at 0x1a25574240>"
      ]
     },
     "execution_count": 602,
     "metadata": {},
     "output_type": "execute_result"
    },
    {
     "data": {
      "image/png": "[encoded data removed]",
      "text/plain": [
       "<matplotlib.figure.Figure at 0x1a25343438>"
      ]
     },
     "metadata": {},
     "output_type": "display_data"
    }
   ],
   "source": [
    "kmf.plot()"
   ]
  },
  {
   "cell_type": "code",
   "execution_count": 603,
   "metadata": {
    "ExecuteTime": {
     "end_time": "2019-07-14T23:49:16.865205Z",
     "start_time": "2019-07-14T23:49:16.858941Z"
    }
   },
   "outputs": [
    {
     "data": {
      "text/plain": [
       "610.0"
      ]
     },
     "execution_count": 603,
     "metadata": {},
     "output_type": "execute_result"
    }
   ],
   "source": [
    "kmf.median_"
   ]
  },
  {
   "cell_type": "code",
   "execution_count": null,
   "metadata": {},
   "outputs": [],
   "source": []
  },
  {
   "cell_type": "code",
   "execution_count": 402,
   "metadata": {
    "ExecuteTime": {
     "end_time": "2019-07-14T22:57:44.002744Z",
     "start_time": "2019-07-14T22:57:43.955471Z"
    }
   },
   "outputs": [],
   "source": [
    "emps = pd.read_csv('employee_retention_data.csv', parse_dates=['join_date', 'quit_date'])"
   ]
  },
  {
   "cell_type": "code",
   "execution_count": 403,
   "metadata": {
    "ExecuteTime": {
     "end_time": "2019-07-14T22:57:47.226400Z",
     "start_time": "2019-07-14T22:57:47.214437Z"
    }
   },
   "outputs": [
    {
     "data": {
      "text/html": [
       "<div>\n",
       "<style scoped>\n",
       "    .dataframe tbody tr th:only-of-type {\n",
       "        vertical-align: middle;\n",
       "    }\n",
       "\n",
       "    .dataframe tbody tr th {\n",
       "        vertical-align: top;\n",
       "    }\n",
       "\n",
       "    .dataframe thead th {\n",
       "        text-align: right;\n",
       "    }\n",
       "</style>\n",
       "<table border=\"1\" class=\"dataframe\">\n",
       "  <thead>\n",
       "    <tr style=\"text-align: right;\">\n",
       "      <th></th>\n",
       "      <th>employee_id</th>\n",
       "      <th>company_id</th>\n",
       "      <th>dept</th>\n",
       "      <th>seniority</th>\n",
       "      <th>salary</th>\n",
       "      <th>join_date</th>\n",
       "      <th>quit_date</th>\n",
       "    </tr>\n",
       "  </thead>\n",
       "  <tbody>\n",
       "    <tr>\n",
       "      <th>0</th>\n",
       "      <td>13021.0</td>\n",
       "      <td>7</td>\n",
       "      <td>customer_service</td>\n",
       "      <td>28</td>\n",
       "      <td>89000.0</td>\n",
       "      <td>2014-03-24</td>\n",
       "      <td>2015-10-30</td>\n",
       "    </tr>\n",
       "    <tr>\n",
       "      <th>1</th>\n",
       "      <td>825355.0</td>\n",
       "      <td>7</td>\n",
       "      <td>marketing</td>\n",
       "      <td>20</td>\n",
       "      <td>183000.0</td>\n",
       "      <td>2013-04-29</td>\n",
       "      <td>2014-04-04</td>\n",
       "    </tr>\n",
       "    <tr>\n",
       "      <th>2</th>\n",
       "      <td>927315.0</td>\n",
       "      <td>4</td>\n",
       "      <td>marketing</td>\n",
       "      <td>14</td>\n",
       "      <td>101000.0</td>\n",
       "      <td>2014-10-13</td>\n",
       "      <td>NaT</td>\n",
       "    </tr>\n",
       "    <tr>\n",
       "      <th>3</th>\n",
       "      <td>662910.0</td>\n",
       "      <td>7</td>\n",
       "      <td>customer_service</td>\n",
       "      <td>20</td>\n",
       "      <td>115000.0</td>\n",
       "      <td>2012-05-14</td>\n",
       "      <td>2013-06-07</td>\n",
       "    </tr>\n",
       "    <tr>\n",
       "      <th>4</th>\n",
       "      <td>256971.0</td>\n",
       "      <td>2</td>\n",
       "      <td>data_science</td>\n",
       "      <td>23</td>\n",
       "      <td>276000.0</td>\n",
       "      <td>2011-10-17</td>\n",
       "      <td>2014-08-22</td>\n",
       "    </tr>\n",
       "  </tbody>\n",
       "</table>\n",
       "</div>"
      ],
      "text/plain": [
       "   employee_id  company_id              dept  seniority    salary  join_date  \\\n",
       "0      13021.0           7  customer_service         28   89000.0 2014-03-24   \n",
       "1     825355.0           7         marketing         20  183000.0 2013-04-29   \n",
       "2     927315.0           4         marketing         14  101000.0 2014-10-13   \n",
       "3     662910.0           7  customer_service         20  115000.0 2012-05-14   \n",
       "4     256971.0           2      data_science         23  276000.0 2011-10-17   \n",
       "\n",
       "   quit_date  \n",
       "0 2015-10-30  \n",
       "1 2014-04-04  \n",
       "2        NaT  \n",
       "3 2013-06-07  \n",
       "4 2014-08-22  "
      ]
     },
     "execution_count": 403,
     "metadata": {},
     "output_type": "execute_result"
    }
   ],
   "source": [
    "emps.head()"
   ]
  },
  {
   "cell_type": "code",
   "execution_count": 139,
   "metadata": {
    "ExecuteTime": {
     "end_time": "2019-07-14T22:06:46.142054Z",
     "start_time": "2019-07-14T22:06:46.134510Z"
    }
   },
   "outputs": [],
   "source": [
    "emps['days_in_job'] = (emps['quit_date'] - emps['join_date']).dt.days\n",
    "emps['has_left'] = ~emps['quit_date'].isna()"
   ]
  },
  {
   "cell_type": "code",
   "execution_count": 140,
   "metadata": {
    "ExecuteTime": {
     "end_time": "2019-07-14T22:06:46.768245Z",
     "start_time": "2019-07-14T22:06:46.753758Z"
    }
   },
   "outputs": [
    {
     "data": {
      "text/html": [
       "<div>\n",
       "<style scoped>\n",
       "    .dataframe tbody tr th:only-of-type {\n",
       "        vertical-align: middle;\n",
       "    }\n",
       "\n",
       "    .dataframe tbody tr th {\n",
       "        vertical-align: top;\n",
       "    }\n",
       "\n",
       "    .dataframe thead th {\n",
       "        text-align: right;\n",
       "    }\n",
       "</style>\n",
       "<table border=\"1\" class=\"dataframe\">\n",
       "  <thead>\n",
       "    <tr style=\"text-align: right;\">\n",
       "      <th></th>\n",
       "      <th>employee_id</th>\n",
       "      <th>company_id</th>\n",
       "      <th>dept</th>\n",
       "      <th>seniority</th>\n",
       "      <th>salary</th>\n",
       "      <th>join_date</th>\n",
       "      <th>quit_date</th>\n",
       "      <th>days_in_job</th>\n",
       "      <th>has_left</th>\n",
       "    </tr>\n",
       "  </thead>\n",
       "  <tbody>\n",
       "    <tr>\n",
       "      <th>0</th>\n",
       "      <td>13021.0</td>\n",
       "      <td>7</td>\n",
       "      <td>customer_service</td>\n",
       "      <td>28</td>\n",
       "      <td>89000.0</td>\n",
       "      <td>2014-03-24</td>\n",
       "      <td>2015-10-30</td>\n",
       "      <td>585.0</td>\n",
       "      <td>True</td>\n",
       "    </tr>\n",
       "    <tr>\n",
       "      <th>1</th>\n",
       "      <td>825355.0</td>\n",
       "      <td>7</td>\n",
       "      <td>marketing</td>\n",
       "      <td>20</td>\n",
       "      <td>183000.0</td>\n",
       "      <td>2013-04-29</td>\n",
       "      <td>2014-04-04</td>\n",
       "      <td>340.0</td>\n",
       "      <td>True</td>\n",
       "    </tr>\n",
       "    <tr>\n",
       "      <th>2</th>\n",
       "      <td>927315.0</td>\n",
       "      <td>4</td>\n",
       "      <td>marketing</td>\n",
       "      <td>14</td>\n",
       "      <td>101000.0</td>\n",
       "      <td>2014-10-13</td>\n",
       "      <td>NaT</td>\n",
       "      <td>NaN</td>\n",
       "      <td>False</td>\n",
       "    </tr>\n",
       "    <tr>\n",
       "      <th>3</th>\n",
       "      <td>662910.0</td>\n",
       "      <td>7</td>\n",
       "      <td>customer_service</td>\n",
       "      <td>20</td>\n",
       "      <td>115000.0</td>\n",
       "      <td>2012-05-14</td>\n",
       "      <td>2013-06-07</td>\n",
       "      <td>389.0</td>\n",
       "      <td>True</td>\n",
       "    </tr>\n",
       "    <tr>\n",
       "      <th>4</th>\n",
       "      <td>256971.0</td>\n",
       "      <td>2</td>\n",
       "      <td>data_science</td>\n",
       "      <td>23</td>\n",
       "      <td>276000.0</td>\n",
       "      <td>2011-10-17</td>\n",
       "      <td>2014-08-22</td>\n",
       "      <td>1040.0</td>\n",
       "      <td>True</td>\n",
       "    </tr>\n",
       "  </tbody>\n",
       "</table>\n",
       "</div>"
      ],
      "text/plain": [
       "   employee_id  company_id              dept  seniority    salary  join_date  \\\n",
       "0      13021.0           7  customer_service         28   89000.0 2014-03-24   \n",
       "1     825355.0           7         marketing         20  183000.0 2013-04-29   \n",
       "2     927315.0           4         marketing         14  101000.0 2014-10-13   \n",
       "3     662910.0           7  customer_service         20  115000.0 2012-05-14   \n",
       "4     256971.0           2      data_science         23  276000.0 2011-10-17   \n",
       "\n",
       "   quit_date  days_in_job  has_left  \n",
       "0 2015-10-30        585.0      True  \n",
       "1 2014-04-04        340.0      True  \n",
       "2        NaT          NaN     False  \n",
       "3 2013-06-07        389.0      True  \n",
       "4 2014-08-22       1040.0      True  "
      ]
     },
     "execution_count": 140,
     "metadata": {},
     "output_type": "execute_result"
    }
   ],
   "source": [
    "emps.head()"
   ]
  },
  {
   "cell_type": "markdown",
   "metadata": {},
   "source": [
    "To simplify the analysis, we will look at two companies: `company_id` 1 and `company_id` 3"
   ]
  },
  {
   "cell_type": "code",
   "execution_count": 182,
   "metadata": {
    "ExecuteTime": {
     "end_time": "2019-07-14T22:16:49.754334Z",
     "start_time": "2019-07-14T22:16:49.745214Z"
    }
   },
   "outputs": [],
   "source": [
    "company_1 = emps[emps.company_id==1].copy()\n",
    "company_3 = emps[emps.company_id==9].copy()"
   ]
  },
  {
   "cell_type": "markdown",
   "metadata": {},
   "source": [
    "## For each company, what is the median time in the job?"
   ]
  },
  {
   "cell_type": "markdown",
   "metadata": {},
   "source": [
    "We can look at the median of the days before leaving. This means that we will be dropping everyone that is currently working, as we don't have an end date for those people yet. We can also see that this is a right skewed distribution."
   ]
  },
  {
   "cell_type": "code",
   "execution_count": 183,
   "metadata": {
    "ExecuteTime": {
     "end_time": "2019-07-14T22:16:50.548626Z",
     "start_time": "2019-07-14T22:16:50.542245Z"
    }
   },
   "outputs": [
    {
     "data": {
      "text/plain": [
       "(417.0, 616.1488855226141, 431.0, 622.1417769376181)"
      ]
     },
     "execution_count": 183,
     "metadata": {},
     "output_type": "execute_result"
    }
   ],
   "source": [
    "company_1.days_in_job.median(), company_1.days_in_job.mean(), \\\n",
    "company_3.days_in_job.median(), company_3.days_in_job.mean()"
   ]
  },
  {
   "cell_type": "markdown",
   "metadata": {},
   "source": [
    "What does the distribution look like? Again, we have to remember th"
   ]
  },
  {
   "cell_type": "code",
   "execution_count": 184,
   "metadata": {
    "ExecuteTime": {
     "end_time": "2019-07-14T22:16:54.555475Z",
     "start_time": "2019-07-14T22:16:54.343176Z"
    }
   },
   "outputs": [
    {
     "data": {
      "image/png": "[encoded data removed]",
      "text/plain": [
       "<matplotlib.figure.Figure at 0x1a21fe92e8>"
      ]
     },
     "metadata": {},
     "output_type": "display_data"
    }
   ],
   "source": [
    "company_1.days_in_job.hist(bins=40);\n",
    "company_3.days_in_job.hist(bins=40);\n",
    "\n",
    "plt.xlabel('Days in Job');\n"
   ]
  },
  {
   "cell_type": "code",
   "execution_count": 185,
   "metadata": {
    "ExecuteTime": {
     "end_time": "2019-07-14T22:16:56.102000Z",
     "start_time": "2019-07-14T22:16:56.095083Z"
    }
   },
   "outputs": [
    {
     "data": {
      "text/plain": [
       "Timestamp('2015-12-10 00:00:00')"
      ]
     },
     "execution_count": 185,
     "metadata": {},
     "output_type": "execute_result"
    }
   ],
   "source": [
    "latest = max(emps.join_date.max(), emps.quit_date.max())\n",
    "latest"
   ]
  },
  {
   "cell_type": "code",
   "execution_count": 186,
   "metadata": {
    "ExecuteTime": {
     "end_time": "2019-07-14T22:16:56.829911Z",
     "start_time": "2019-07-14T22:16:56.824497Z"
    }
   },
   "outputs": [
    {
     "data": {
      "text/plain": [
       "(0.5445439547489983, 0.5504682622268471)"
      ]
     },
     "execution_count": 186,
     "metadata": {},
     "output_type": "execute_result"
    }
   ],
   "source": [
    "company_1.has_left.mean(), company_3.has_left.mean()"
   ]
  },
  {
   "cell_type": "markdown",
   "metadata": {},
   "source": [
    "## Calculate the median assuming everyone currently there left today"
   ]
  },
  {
   "cell_type": "code",
   "execution_count": 187,
   "metadata": {
    "ExecuteTime": {
     "end_time": "2019-07-14T22:16:58.834215Z",
     "start_time": "2019-07-14T22:16:58.826985Z"
    }
   },
   "outputs": [
    {
     "data": {
      "text/plain": [
       "Timestamp('2015-12-10 00:00:00')"
      ]
     },
     "execution_count": 187,
     "metadata": {},
     "output_type": "execute_result"
    }
   ],
   "source": [
    "today = max(emps.quit_date.max(), emps.join_date.max())\n",
    "today"
   ]
  },
  {
   "cell_type": "code",
   "execution_count": 188,
   "metadata": {
    "ExecuteTime": {
     "end_time": "2019-07-14T22:16:59.380018Z",
     "start_time": "2019-07-14T22:16:59.370163Z"
    }
   },
   "outputs": [],
   "source": [
    "company_1['imputed_days_duration'] = (company_1.quit_date.fillna(today) - company_1.join_date).dt.days\n",
    "company_3['imputed_days_duration'] = (company_3.quit_date.fillna(today) - company_3.join_date).dt.days\n"
   ]
  },
  {
   "cell_type": "code",
   "execution_count": 189,
   "metadata": {
    "ExecuteTime": {
     "end_time": "2019-07-14T22:16:59.963038Z",
     "start_time": "2019-07-14T22:16:59.948343Z"
    }
   },
   "outputs": [
    {
     "data": {
      "text/html": [
       "<div>\n",
       "<style scoped>\n",
       "    .dataframe tbody tr th:only-of-type {\n",
       "        vertical-align: middle;\n",
       "    }\n",
       "\n",
       "    .dataframe tbody tr th {\n",
       "        vertical-align: top;\n",
       "    }\n",
       "\n",
       "    .dataframe thead th {\n",
       "        text-align: right;\n",
       "    }\n",
       "</style>\n",
       "<table border=\"1\" class=\"dataframe\">\n",
       "  <thead>\n",
       "    <tr style=\"text-align: right;\">\n",
       "      <th></th>\n",
       "      <th>employee_id</th>\n",
       "      <th>company_id</th>\n",
       "      <th>dept</th>\n",
       "      <th>seniority</th>\n",
       "      <th>salary</th>\n",
       "      <th>join_date</th>\n",
       "      <th>quit_date</th>\n",
       "      <th>days_in_job</th>\n",
       "      <th>has_left</th>\n",
       "      <th>imputed_days_duration</th>\n",
       "    </tr>\n",
       "  </thead>\n",
       "  <tbody>\n",
       "    <tr>\n",
       "      <th>9</th>\n",
       "      <td>504159.0</td>\n",
       "      <td>1</td>\n",
       "      <td>sales</td>\n",
       "      <td>7</td>\n",
       "      <td>104000.0</td>\n",
       "      <td>2012-06-12</td>\n",
       "      <td>NaT</td>\n",
       "      <td>NaN</td>\n",
       "      <td>False</td>\n",
       "      <td>1276</td>\n",
       "    </tr>\n",
       "    <tr>\n",
       "      <th>12</th>\n",
       "      <td>939058.0</td>\n",
       "      <td>1</td>\n",
       "      <td>marketing</td>\n",
       "      <td>1</td>\n",
       "      <td>48000.0</td>\n",
       "      <td>2012-12-10</td>\n",
       "      <td>2013-11-15</td>\n",
       "      <td>340.0</td>\n",
       "      <td>True</td>\n",
       "      <td>340</td>\n",
       "    </tr>\n",
       "    <tr>\n",
       "      <th>15</th>\n",
       "      <td>265226.0</td>\n",
       "      <td>1</td>\n",
       "      <td>data_science</td>\n",
       "      <td>4</td>\n",
       "      <td>80000.0</td>\n",
       "      <td>2014-05-27</td>\n",
       "      <td>2015-07-10</td>\n",
       "      <td>409.0</td>\n",
       "      <td>True</td>\n",
       "      <td>409</td>\n",
       "    </tr>\n",
       "    <tr>\n",
       "      <th>19</th>\n",
       "      <td>982668.0</td>\n",
       "      <td>1</td>\n",
       "      <td>customer_service</td>\n",
       "      <td>14</td>\n",
       "      <td>76000.0</td>\n",
       "      <td>2015-07-27</td>\n",
       "      <td>NaT</td>\n",
       "      <td>NaN</td>\n",
       "      <td>False</td>\n",
       "      <td>136</td>\n",
       "    </tr>\n",
       "    <tr>\n",
       "      <th>28</th>\n",
       "      <td>888375.0</td>\n",
       "      <td>1</td>\n",
       "      <td>customer_service</td>\n",
       "      <td>5</td>\n",
       "      <td>75000.0</td>\n",
       "      <td>2011-08-01</td>\n",
       "      <td>2013-10-04</td>\n",
       "      <td>795.0</td>\n",
       "      <td>True</td>\n",
       "      <td>795</td>\n",
       "    </tr>\n",
       "  </tbody>\n",
       "</table>\n",
       "</div>"
      ],
      "text/plain": [
       "    employee_id  company_id              dept  seniority    salary  join_date  \\\n",
       "9      504159.0           1             sales          7  104000.0 2012-06-12   \n",
       "12     939058.0           1         marketing          1   48000.0 2012-12-10   \n",
       "15     265226.0           1      data_science          4   80000.0 2014-05-27   \n",
       "19     982668.0           1  customer_service         14   76000.0 2015-07-27   \n",
       "28     888375.0           1  customer_service          5   75000.0 2011-08-01   \n",
       "\n",
       "    quit_date  days_in_job  has_left  imputed_days_duration  \n",
       "9         NaT          NaN     False                   1276  \n",
       "12 2013-11-15        340.0      True                    340  \n",
       "15 2015-07-10        409.0      True                    409  \n",
       "19        NaT          NaN     False                    136  \n",
       "28 2013-10-04        795.0      True                    795  "
      ]
     },
     "execution_count": 189,
     "metadata": {},
     "output_type": "execute_result"
    }
   ],
   "source": [
    "company_1.head()"
   ]
  },
  {
   "cell_type": "markdown",
   "metadata": {},
   "source": [
    "What is the median and mean duration, if we use the imputed values?"
   ]
  },
  {
   "cell_type": "code",
   "execution_count": 190,
   "metadata": {
    "ExecuteTime": {
     "end_time": "2019-07-14T22:17:00.976749Z",
     "start_time": "2019-07-14T22:17:00.970237Z"
    }
   },
   "outputs": [
    {
     "data": {
      "text/plain": [
       "(429.0, 576.7479377798727, 424.0, 567.7502601456816)"
      ]
     },
     "execution_count": 190,
     "metadata": {},
     "output_type": "execute_result"
    }
   ],
   "source": [
    "company_1.imputed_days_duration.median(), company_1.imputed_days_duration.mean(), \\\n",
    "company_3.imputed_days_duration.median(), company_3.imputed_days_duration.mean()"
   ]
  },
  {
   "cell_type": "markdown",
   "metadata": {},
   "source": [
    "## Using distributional properties"
   ]
  },
  {
   "cell_type": "code",
   "execution_count": 191,
   "metadata": {
    "ExecuteTime": {
     "end_time": "2019-07-14T22:17:45.193151Z",
     "start_time": "2019-07-14T22:17:45.165256Z"
    }
   },
   "outputs": [
    {
     "data": {
      "text/plain": [
       "739.0"
      ]
     },
     "execution_count": 191,
     "metadata": {},
     "output_type": "execute_result"
    }
   ],
   "source": [
    "kmf = KaplanMeierFitter()\n",
    "kmf.fit(company_1['imputed_days_duration'], event_observed=company_1['has_left'])\n",
    "kmf.median_"
   ]
  },
  {
   "cell_type": "code",
   "execution_count": 192,
   "metadata": {
    "ExecuteTime": {
     "end_time": "2019-07-14T22:17:45.573189Z",
     "start_time": "2019-07-14T22:17:45.542614Z"
    }
   },
   "outputs": [
    {
     "data": {
      "text/plain": [
       "732.0"
      ]
     },
     "execution_count": 192,
     "metadata": {},
     "output_type": "execute_result"
    }
   ],
   "source": [
    "kmf.fit(company_3['imputed_days_duration'], event_observed=company_3['has_left'])\n",
    "kmf.median_"
   ]
  },
  {
   "cell_type": "code",
   "execution_count": 193,
   "metadata": {
    "ExecuteTime": {
     "end_time": "2019-07-14T22:17:45.968548Z",
     "start_time": "2019-07-14T22:17:45.957144Z"
    }
   },
   "outputs": [
    {
     "data": {
      "text/html": [
       "<div>\n",
       "<style scoped>\n",
       "    .dataframe tbody tr th:only-of-type {\n",
       "        vertical-align: middle;\n",
       "    }\n",
       "\n",
       "    .dataframe tbody tr th {\n",
       "        vertical-align: top;\n",
       "    }\n",
       "\n",
       "    .dataframe thead th {\n",
       "        text-align: right;\n",
       "    }\n",
       "</style>\n",
       "<table border=\"1\" class=\"dataframe\">\n",
       "  <thead>\n",
       "    <tr style=\"text-align: right;\">\n",
       "      <th></th>\n",
       "      <th>KM_estimate</th>\n",
       "    </tr>\n",
       "    <tr>\n",
       "      <th>timeline</th>\n",
       "      <th></th>\n",
       "    </tr>\n",
       "  </thead>\n",
       "  <tbody>\n",
       "    <tr>\n",
       "      <th>732.0</th>\n",
       "      <td>0.490374</td>\n",
       "    </tr>\n",
       "    <tr>\n",
       "      <th>735.0</th>\n",
       "      <td>0.488584</td>\n",
       "    </tr>\n",
       "    <tr>\n",
       "      <th>736.0</th>\n",
       "      <td>0.486794</td>\n",
       "    </tr>\n",
       "    <tr>\n",
       "      <th>738.0</th>\n",
       "      <td>0.484998</td>\n",
       "    </tr>\n",
       "    <tr>\n",
       "      <th>739.0</th>\n",
       "      <td>0.479569</td>\n",
       "    </tr>\n",
       "  </tbody>\n",
       "</table>\n",
       "</div>"
      ],
      "text/plain": [
       "          KM_estimate\n",
       "timeline             \n",
       "732.0        0.490374\n",
       "735.0        0.488584\n",
       "736.0        0.486794\n",
       "738.0        0.484998\n",
       "739.0        0.479569"
      ]
     },
     "execution_count": 193,
     "metadata": {},
     "output_type": "execute_result"
    }
   ],
   "source": [
    "mask = (kmf.survival_function_ < 0.5) # [kmf.survival_function_ < 0.5]\n",
    "tf = kmf.survival_function_\n",
    "tf[tf.KM_estimate<0.5].head()"
   ]
  },
  {
   "cell_type": "code",
   "execution_count": null,
   "metadata": {},
   "outputs": [],
   "source": []
  },
  {
   "cell_type": "code",
   "execution_count": null,
   "metadata": {},
   "outputs": [],
   "source": []
  },
  {
   "cell_type": "code",
   "execution_count": 21,
   "metadata": {
    "ExecuteTime": {
     "end_time": "2019-07-14T21:23:28.646521Z",
     "start_time": "2019-07-14T21:23:28.637497Z"
    }
   },
   "outputs": [],
   "source": [
    "import lifelines\n",
    "import pandas as pd\n",
    "import numpy as np\n",
    "import matplotlib.pyplot as plt\n",
    "import seaborn as sns\n",
    "\n",
    "%matplotlib inline"
   ]
  },
  {
   "cell_type": "code",
   "execution_count": 22,
   "metadata": {
    "ExecuteTime": {
     "end_time": "2019-07-14T21:23:28.929672Z",
     "start_time": "2019-07-14T21:23:28.889223Z"
    }
   },
   "outputs": [],
   "source": [
    "emps = pd.read_csv('employee_retention_data.csv')\n",
    "emps['join_date'] = pd.to_datetime(emps['join_date'])\n",
    "emps['quit_date'] = pd.to_datetime(emps['quit_date'])"
   ]
  },
  {
   "cell_type": "code",
   "execution_count": 23,
   "metadata": {
    "ExecuteTime": {
     "end_time": "2019-07-14T21:23:29.000347Z",
     "start_time": "2019-07-14T21:23:28.983781Z"
    }
   },
   "outputs": [
    {
     "data": {
      "text/html": [
       "<div>\n",
       "<style scoped>\n",
       "    .dataframe tbody tr th:only-of-type {\n",
       "        vertical-align: middle;\n",
       "    }\n",
       "\n",
       "    .dataframe tbody tr th {\n",
       "        vertical-align: top;\n",
       "    }\n",
       "\n",
       "    .dataframe thead th {\n",
       "        text-align: right;\n",
       "    }\n",
       "</style>\n",
       "<table border=\"1\" class=\"dataframe\">\n",
       "  <thead>\n",
       "    <tr style=\"text-align: right;\">\n",
       "      <th></th>\n",
       "      <th>employee_id</th>\n",
       "      <th>company_id</th>\n",
       "      <th>dept</th>\n",
       "      <th>seniority</th>\n",
       "      <th>salary</th>\n",
       "      <th>join_date</th>\n",
       "      <th>quit_date</th>\n",
       "    </tr>\n",
       "  </thead>\n",
       "  <tbody>\n",
       "    <tr>\n",
       "      <th>0</th>\n",
       "      <td>13021.0</td>\n",
       "      <td>7</td>\n",
       "      <td>customer_service</td>\n",
       "      <td>28</td>\n",
       "      <td>89000.0</td>\n",
       "      <td>2014-03-24</td>\n",
       "      <td>2015-10-30</td>\n",
       "    </tr>\n",
       "    <tr>\n",
       "      <th>1</th>\n",
       "      <td>825355.0</td>\n",
       "      <td>7</td>\n",
       "      <td>marketing</td>\n",
       "      <td>20</td>\n",
       "      <td>183000.0</td>\n",
       "      <td>2013-04-29</td>\n",
       "      <td>2014-04-04</td>\n",
       "    </tr>\n",
       "    <tr>\n",
       "      <th>2</th>\n",
       "      <td>927315.0</td>\n",
       "      <td>4</td>\n",
       "      <td>marketing</td>\n",
       "      <td>14</td>\n",
       "      <td>101000.0</td>\n",
       "      <td>2014-10-13</td>\n",
       "      <td>NaT</td>\n",
       "    </tr>\n",
       "    <tr>\n",
       "      <th>3</th>\n",
       "      <td>662910.0</td>\n",
       "      <td>7</td>\n",
       "      <td>customer_service</td>\n",
       "      <td>20</td>\n",
       "      <td>115000.0</td>\n",
       "      <td>2012-05-14</td>\n",
       "      <td>2013-06-07</td>\n",
       "    </tr>\n",
       "    <tr>\n",
       "      <th>4</th>\n",
       "      <td>256971.0</td>\n",
       "      <td>2</td>\n",
       "      <td>data_science</td>\n",
       "      <td>23</td>\n",
       "      <td>276000.0</td>\n",
       "      <td>2011-10-17</td>\n",
       "      <td>2014-08-22</td>\n",
       "    </tr>\n",
       "  </tbody>\n",
       "</table>\n",
       "</div>"
      ],
      "text/plain": [
       "   employee_id  company_id              dept  seniority    salary  join_date  \\\n",
       "0      13021.0           7  customer_service         28   89000.0 2014-03-24   \n",
       "1     825355.0           7         marketing         20  183000.0 2013-04-29   \n",
       "2     927315.0           4         marketing         14  101000.0 2014-10-13   \n",
       "3     662910.0           7  customer_service         20  115000.0 2012-05-14   \n",
       "4     256971.0           2      data_science         23  276000.0 2011-10-17   \n",
       "\n",
       "   quit_date  \n",
       "0 2015-10-30  \n",
       "1 2014-04-04  \n",
       "2        NaT  \n",
       "3 2013-06-07  \n",
       "4 2014-08-22  "
      ]
     },
     "execution_count": 23,
     "metadata": {},
     "output_type": "execute_result"
    }
   ],
   "source": [
    "emps.head()"
   ]
  },
  {
   "cell_type": "code",
   "execution_count": 24,
   "metadata": {
    "ExecuteTime": {
     "end_time": "2019-07-14T21:23:29.479290Z",
     "start_time": "2019-07-14T21:23:29.457125Z"
    }
   },
   "outputs": [
    {
     "data": {
      "text/html": [
       "<div>\n",
       "<style scoped>\n",
       "    .dataframe tbody tr th:only-of-type {\n",
       "        vertical-align: middle;\n",
       "    }\n",
       "\n",
       "    .dataframe tbody tr th {\n",
       "        vertical-align: top;\n",
       "    }\n",
       "\n",
       "    .dataframe thead th {\n",
       "        text-align: right;\n",
       "    }\n",
       "</style>\n",
       "<table border=\"1\" class=\"dataframe\">\n",
       "  <thead>\n",
       "    <tr style=\"text-align: right;\">\n",
       "      <th></th>\n",
       "      <th>employee_id</th>\n",
       "      <th>company_id</th>\n",
       "      <th>dept</th>\n",
       "      <th>seniority</th>\n",
       "      <th>salary</th>\n",
       "      <th>join_date</th>\n",
       "      <th>quit_date</th>\n",
       "      <th>observed</th>\n",
       "      <th>duration</th>\n",
       "    </tr>\n",
       "  </thead>\n",
       "  <tbody>\n",
       "    <tr>\n",
       "      <th>0</th>\n",
       "      <td>13021.0</td>\n",
       "      <td>7</td>\n",
       "      <td>customer_service</td>\n",
       "      <td>28</td>\n",
       "      <td>89000.0</td>\n",
       "      <td>2014-03-24</td>\n",
       "      <td>2015-10-30</td>\n",
       "      <td>True</td>\n",
       "      <td>585 days</td>\n",
       "    </tr>\n",
       "    <tr>\n",
       "      <th>1</th>\n",
       "      <td>825355.0</td>\n",
       "      <td>7</td>\n",
       "      <td>marketing</td>\n",
       "      <td>20</td>\n",
       "      <td>183000.0</td>\n",
       "      <td>2013-04-29</td>\n",
       "      <td>2014-04-04</td>\n",
       "      <td>True</td>\n",
       "      <td>340 days</td>\n",
       "    </tr>\n",
       "    <tr>\n",
       "      <th>2</th>\n",
       "      <td>927315.0</td>\n",
       "      <td>4</td>\n",
       "      <td>marketing</td>\n",
       "      <td>14</td>\n",
       "      <td>101000.0</td>\n",
       "      <td>2014-10-13</td>\n",
       "      <td>NaT</td>\n",
       "      <td>False</td>\n",
       "      <td>422 days</td>\n",
       "    </tr>\n",
       "    <tr>\n",
       "      <th>3</th>\n",
       "      <td>662910.0</td>\n",
       "      <td>7</td>\n",
       "      <td>customer_service</td>\n",
       "      <td>20</td>\n",
       "      <td>115000.0</td>\n",
       "      <td>2012-05-14</td>\n",
       "      <td>2013-06-07</td>\n",
       "      <td>True</td>\n",
       "      <td>389 days</td>\n",
       "    </tr>\n",
       "    <tr>\n",
       "      <th>4</th>\n",
       "      <td>256971.0</td>\n",
       "      <td>2</td>\n",
       "      <td>data_science</td>\n",
       "      <td>23</td>\n",
       "      <td>276000.0</td>\n",
       "      <td>2011-10-17</td>\n",
       "      <td>2014-08-22</td>\n",
       "      <td>True</td>\n",
       "      <td>1040 days</td>\n",
       "    </tr>\n",
       "  </tbody>\n",
       "</table>\n",
       "</div>"
      ],
      "text/plain": [
       "   employee_id  company_id              dept  seniority    salary  join_date  \\\n",
       "0      13021.0           7  customer_service         28   89000.0 2014-03-24   \n",
       "1     825355.0           7         marketing         20  183000.0 2013-04-29   \n",
       "2     927315.0           4         marketing         14  101000.0 2014-10-13   \n",
       "3     662910.0           7  customer_service         20  115000.0 2012-05-14   \n",
       "4     256971.0           2      data_science         23  276000.0 2011-10-17   \n",
       "\n",
       "   quit_date  observed  duration  \n",
       "0 2015-10-30      True  585 days  \n",
       "1 2014-04-04      True  340 days  \n",
       "2        NaT     False  422 days  \n",
       "3 2013-06-07      True  389 days  \n",
       "4 2014-08-22      True 1040 days  "
      ]
     },
     "execution_count": 24,
     "metadata": {},
     "output_type": "execute_result"
    }
   ],
   "source": [
    "emps['observed'] = (~emps['quit_date'].isna())\n",
    "emps['duration'] = (emps['quit_date'].fillna(emps['quit_date'].max()) - emps['join_date'])\n",
    "emps.head()"
   ]
  },
  {
   "cell_type": "code",
   "execution_count": 25,
   "metadata": {
    "ExecuteTime": {
     "end_time": "2019-07-14T21:23:29.930564Z",
     "start_time": "2019-07-14T21:23:29.894251Z"
    }
   },
   "outputs": [
    {
     "data": {
      "text/plain": [
       "<lifelines.KaplanMeierFitter: fitted with 24702 observations, 11192 censored>"
      ]
     },
     "execution_count": 25,
     "metadata": {},
     "output_type": "execute_result"
    }
   ],
   "source": [
    "from lifelines import KaplanMeierFitter\n",
    "kmf = KaplanMeierFitter()\n",
    "kmf.fit(emps['duration'].dt.days, event_observed=emps['observed'])"
   ]
  },
  {
   "cell_type": "code",
   "execution_count": 29,
   "metadata": {
    "ExecuteTime": {
     "end_time": "2019-07-14T21:24:08.127821Z",
     "start_time": "2019-07-14T21:24:08.123182Z"
    }
   },
   "outputs": [
    {
     "data": {
      "text/plain": [
       "732.0"
      ]
     },
     "execution_count": 29,
     "metadata": {},
     "output_type": "execute_result"
    }
   ],
   "source": [
    "kmf.median_"
   ]
  },
  {
   "cell_type": "code",
   "execution_count": 27,
   "metadata": {
    "ExecuteTime": {
     "end_time": "2019-07-14T21:23:31.501411Z",
     "start_time": "2019-07-14T21:23:31.362862Z"
    }
   },
   "outputs": [
    {
     "data": {
      "text/plain": [
       "<matplotlib.axes._subplots.AxesSubplot at 0x1a1f4370f0>"
      ]
     },
     "execution_count": 27,
     "metadata": {},
     "output_type": "execute_result"
    },
    {
     "data": {
      "image/png": "[encoded data removed]",
      "text/plain": [
       "<matplotlib.figure.Figure at 0x1a151123c8>"
      ]
     },
     "metadata": {},
     "output_type": "display_data"
    }
   ],
   "source": [
    "kmf.plot()"
   ]
  },
  {
   "cell_type": "code",
   "execution_count": 41,
   "metadata": {
    "ExecuteTime": {
     "end_time": "2019-07-14T21:34:04.824859Z",
     "start_time": "2019-07-14T21:34:02.800602Z"
    }
   },
   "outputs": [
    {
     "name": "stdout",
     "output_type": "stream",
     "text": [
      "Company 1 has a median of 738.0 days of employment (naive medians are 417.0 and 429.0)\n",
      "Company 2 has a median of 758.0 days of employment (naive medians are 430.5 and 431.0)\n",
      "Company 3 has a median of 711.0 days of employment (naive medians are 420.0 and 416.0)\n",
      "Company 4 has a median of 717.0 days of employment (naive medians are 415.0 and 417.0)\n",
      "Company 5 has a median of 704.0 days of employment (naive medians are 417.0 and 421.0)\n",
      "Company 6 has a median of 724.0 days of employment (naive medians are 413.0 and 417.0)\n",
      "Company 7 has a median of 723.0 days of employment (naive medians are 424.0 and 442.0)\n",
      "Company 8 has a median of 711.0 days of employment (naive medians are 403.0 and 410.0)\n",
      "Company 9 has a median of 732.0 days of employment (naive medians are 431.0 and 424.0)\n",
      "Company 10 has a median of 711.0 days of employment (naive medians are 410.0 and 406.0)\n",
      "Company 11 has a median of 536.0 days of employment (naive medians are 392.0 and 482.0)\n",
      "Company 12 has a median of 662.0 days of employment (naive medians are 354.0 and 495.5)\n"
     ]
    },
    {
     "data": {
      "image/png": "[encoded data removed]",
      "text/plain": [
       "<matplotlib.figure.Figure at 0x1a20d49b38>"
      ]
     },
     "metadata": {},
     "output_type": "display_data"
    },
    {
     "data": {
      "image/png": "[encoded data removed]",
      "text/plain": [
       "<matplotlib.figure.Figure at 0x1a2034a2b0>"
      ]
     },
     "metadata": {},
     "output_type": "display_data"
    },
    {
     "data": {
      "image/png": "[encoded data removed]",
      "text/plain": [
       "<matplotlib.figure.Figure at 0x1a212183c8>"
      ]
     },
     "metadata": {},
     "output_type": "display_data"
    },
    {
     "data": {
      "image/png": "[encoded data removed]",
      "text/plain": [
       "<matplotlib.figure.Figure at 0x1a20fe90f0>"
      ]
     },
     "metadata": {},
     "output_type": "display_data"
    },
    {
     "data": {
      "image/png": "[encoded data removed]",
      "text/plain": [
       "<matplotlib.figure.Figure at 0x1a20fc4f60>"
      ]
     },
     "metadata": {},
     "output_type": "display_data"
    },
    {
     "data": {
      "image/png": "[encoded data removed]",
      "text/plain": [
       "<matplotlib.figure.Figure at 0x1a210d6748>"
      ]
     },
     "metadata": {},
     "output_type": "display_data"
    },
    {
     "data": {
      "image/png": "[encoded data removed]",
      "text/plain": [
       "<matplotlib.figure.Figure at 0x1a20eaa198>"
      ]
     },
     "metadata": {},
     "output_type": "display_data"
    },
    {
     "data": {
      "image/png": "[encoded data removed]",
      "text/plain": [
       "<matplotlib.figure.Figure at 0x1a20e42c88>"
      ]
     },
     "metadata": {},
     "output_type": "display_data"
    },
    {
     "data": {
      "image/png": "[encoded data removed]",
      "text/plain": [
       "<matplotlib.figure.Figure at 0x1a2108cda0>"
      ]
     },
     "metadata": {},
     "output_type": "display_data"
    },
    {
     "data": {
      "image/png": "[encoded data removed]",
      "text/plain": [
       "<matplotlib.figure.Figure at 0x1a1f85aa90>"
      ]
     },
     "metadata": {},
     "output_type": "display_data"
    },
    {
     "data": {
      "image/png": "[encoded data removed]",
      "text/plain": [
       "<matplotlib.figure.Figure at 0x1a203772b0>"
      ]
     },
     "metadata": {},
     "output_type": "display_data"
    },
    {
     "data": {
      "image/png": "[encoded data removed]",
      "text/plain": [
       "<matplotlib.figure.Figure at 0x1a2034aef0>"
      ]
     },
     "metadata": {},
     "output_type": "display_data"
    }
   ],
   "source": [
    "for company_id, company in emps.groupby('company_id'):\n",
    "    kmf.fit(company['duration'].dt.days, event_observed=company['observed'])\n",
    "    naive_median_quit = company[company.observed].duration.dt.days.median()\n",
    "    naive_median_all = company.duration.dt.days.median()\n",
    "    print(f\"Company {company_id} has a median of {kmf.median_} days of employment (naive medians are {naive_median_quit} and {naive_median_all})\")\n",
    "    kmf.plot()\n",
    "    \n",
    "def get_inferred_median(company):\n",
    "    kmf.fit(company['duration'].dt.days, event_observed=company['observed'])\n",
    "    return kmf.median_\n",
    "\n",
    "def get_naive_median_only_left(company):\n",
    "    return company[company.observed].duration.dt.days.median()\n",
    "\n",
    "def get_naive_median_all(company):\n",
    "    return company.duration.dt.days.median()\n",
    "\n",
    "company_df = pd.DataFrame(emps.groupby('company_id').apply(get_inferred_median), columns=['KMF median'])"
   ]
  },
  {
   "cell_type": "code",
   "execution_count": 50,
   "metadata": {
    "ExecuteTime": {
     "end_time": "2019-07-14T21:37:38.885890Z",
     "start_time": "2019-07-14T21:37:38.835309Z"
    }
   },
   "outputs": [
    {
     "data": {
      "text/html": [
       "<div>\n",
       "<style scoped>\n",
       "    .dataframe tbody tr th:only-of-type {\n",
       "        vertical-align: middle;\n",
       "    }\n",
       "\n",
       "    .dataframe tbody tr th {\n",
       "        vertical-align: top;\n",
       "    }\n",
       "\n",
       "    .dataframe thead th {\n",
       "        text-align: right;\n",
       "    }\n",
       "</style>\n",
       "<table border=\"1\" class=\"dataframe\">\n",
       "  <thead>\n",
       "    <tr style=\"text-align: right;\">\n",
       "      <th></th>\n",
       "      <th>KMF median</th>\n",
       "      <th>naive_only_left</th>\n",
       "      <th>naive_only_all</th>\n",
       "    </tr>\n",
       "    <tr>\n",
       "      <th>company_id</th>\n",
       "      <th></th>\n",
       "      <th></th>\n",
       "      <th></th>\n",
       "    </tr>\n",
       "  </thead>\n",
       "  <tbody>\n",
       "    <tr>\n",
       "      <th>1</th>\n",
       "      <td>11.0</td>\n",
       "      <td>7.5</td>\n",
       "      <td>8.0</td>\n",
       "    </tr>\n",
       "    <tr>\n",
       "      <th>2</th>\n",
       "      <td>12.0</td>\n",
       "      <td>11.0</td>\n",
       "      <td>9.0</td>\n",
       "    </tr>\n",
       "    <tr>\n",
       "      <th>3</th>\n",
       "      <td>5.0</td>\n",
       "      <td>9.0</td>\n",
       "      <td>3.0</td>\n",
       "    </tr>\n",
       "    <tr>\n",
       "      <th>4</th>\n",
       "      <td>7.0</td>\n",
       "      <td>6.0</td>\n",
       "      <td>4.5</td>\n",
       "    </tr>\n",
       "    <tr>\n",
       "      <th>5</th>\n",
       "      <td>3.0</td>\n",
       "      <td>7.5</td>\n",
       "      <td>6.0</td>\n",
       "    </tr>\n",
       "    <tr>\n",
       "      <th>6</th>\n",
       "      <td>9.0</td>\n",
       "      <td>5.0</td>\n",
       "      <td>4.5</td>\n",
       "    </tr>\n",
       "    <tr>\n",
       "      <th>7</th>\n",
       "      <td>8.0</td>\n",
       "      <td>10.0</td>\n",
       "      <td>10.0</td>\n",
       "    </tr>\n",
       "    <tr>\n",
       "      <th>8</th>\n",
       "      <td>5.0</td>\n",
       "      <td>3.0</td>\n",
       "      <td>2.0</td>\n",
       "    </tr>\n",
       "    <tr>\n",
       "      <th>9</th>\n",
       "      <td>10.0</td>\n",
       "      <td>12.0</td>\n",
       "      <td>7.0</td>\n",
       "    </tr>\n",
       "    <tr>\n",
       "      <th>10</th>\n",
       "      <td>5.0</td>\n",
       "      <td>4.0</td>\n",
       "      <td>1.0</td>\n",
       "    </tr>\n",
       "    <tr>\n",
       "      <th>11</th>\n",
       "      <td>1.0</td>\n",
       "      <td>2.0</td>\n",
       "      <td>11.0</td>\n",
       "    </tr>\n",
       "    <tr>\n",
       "      <th>12</th>\n",
       "      <td>2.0</td>\n",
       "      <td>1.0</td>\n",
       "      <td>12.0</td>\n",
       "    </tr>\n",
       "  </tbody>\n",
       "</table>\n",
       "</div>"
      ],
      "text/plain": [
       "            KMF median  naive_only_left  naive_only_all\n",
       "company_id                                             \n",
       "1                 11.0              7.5             8.0\n",
       "2                 12.0             11.0             9.0\n",
       "3                  5.0              9.0             3.0\n",
       "4                  7.0              6.0             4.5\n",
       "5                  3.0              7.5             6.0\n",
       "6                  9.0              5.0             4.5\n",
       "7                  8.0             10.0            10.0\n",
       "8                  5.0              3.0             2.0\n",
       "9                 10.0             12.0             7.0\n",
       "10                 5.0              4.0             1.0\n",
       "11                 1.0              2.0            11.0\n",
       "12                 2.0              1.0            12.0"
      ]
     },
     "execution_count": 50,
     "metadata": {},
     "output_type": "execute_result"
    }
   ],
   "source": [
    "company_df['naive_only_left'] = emps.groupby('company_id').apply(get_naive_median_only_left)\n",
    "company_df['naive_only_all'] = emps.groupby('company_id').apply(get_naive_median_all)\n",
    "\n",
    "company_df.rank()"
   ]
  },
  {
   "cell_type": "code",
   "execution_count": 51,
   "metadata": {
    "ExecuteTime": {
     "end_time": "2019-07-14T21:37:45.275493Z",
     "start_time": "2019-07-14T21:37:45.121367Z"
    }
   },
   "outputs": [
    {
     "data": {
      "text/plain": [
       "<matplotlib.legend.Legend at 0x1a202ae780>"
      ]
     },
     "execution_count": 51,
     "metadata": {},
     "output_type": "execute_result"
    },
    {
     "data": {
      "image/png": "[encoded data removed]",
      "text/plain": [
       "<matplotlib.figure.Figure at 0x1a20d49da0>"
      ]
     },
     "metadata": {},
     "output_type": "display_data"
    }
   ],
   "source": [
    "for c in company_df.columns:\n",
    "    plt.plot(c, data=company_df.rank(), label=c)\n",
    "plt.legend()"
   ]
  },
  {
   "cell_type": "code",
   "execution_count": 52,
   "metadata": {
    "ExecuteTime": {
     "end_time": "2019-07-14T21:38:39.212183Z",
     "start_time": "2019-07-14T21:38:39.051808Z"
    }
   },
   "outputs": [
    {
     "data": {
      "text/plain": [
       "<matplotlib.legend.Legend at 0x1a20369e80>"
      ]
     },
     "execution_count": 52,
     "metadata": {},
     "output_type": "execute_result"
    },
    {
     "data": {
      "image/png": "[encoded data removed]",
      "text/plain": [
       "<matplotlib.figure.Figure at 0x1a1f8ed3c8>"
      ]
     },
     "metadata": {},
     "output_type": "display_data"
    }
   ],
   "source": [
    "for c in company_df.columns:\n",
    "    plt.plot(c, data=company_df, label=c)\n",
    "plt.legend()"
   ]
  },
  {
   "cell_type": "code",
   "execution_count": null,
   "metadata": {},
   "outputs": [],
   "source": []
  },
  {
   "cell_type": "code",
   "execution_count": null,
   "metadata": {},
   "outputs": [],
   "source": []
  },
  {
   "cell_type": "code",
   "execution_count": 14,
   "metadata": {
    "ExecuteTime": {
     "end_time": "2019-07-14T21:22:20.690573Z",
     "start_time": "2019-07-14T21:22:20.670083Z"
    }
   },
   "outputs": [
    {
     "name": "stdout",
     "output_type": "stream",
     "text": [
      "      T  E    group\n",
      "0   6.0  1  miR-137\n",
      "1  13.0  1  miR-137\n",
      "2  13.0  1  miR-137\n",
      "3  13.0  1  miR-137\n",
      "4  19.0  1  miR-137\n"
     ]
    }
   ],
   "source": [
    "from lifelines.datasets import load_waltons\n",
    "df = load_waltons() # returns a Pandas DataFrame\n",
    "\n",
    "print(df.head())"
   ]
  },
  {
   "cell_type": "code",
   "execution_count": 16,
   "metadata": {
    "ExecuteTime": {
     "end_time": "2019-07-14T21:22:39.840145Z",
     "start_time": "2019-07-14T21:22:39.796275Z"
    }
   },
   "outputs": [
    {
     "data": {
      "text/plain": [
       "<lifelines.KaplanMeierFitter: fitted with 163 observations, 7 censored>"
      ]
     },
     "execution_count": 16,
     "metadata": {},
     "output_type": "execute_result"
    }
   ],
   "source": [
    "T = df['T']\n",
    "E = df['E']\n",
    "\n",
    "from lifelines import KaplanMeierFitter\n",
    "kmf = KaplanMeierFitter()\n",
    "kmf.fit(T, event_observed=E)  # or, more succinctly, kmf.fit(T, E)"
   ]
  },
  {
   "cell_type": "code",
   "execution_count": 19,
   "metadata": {
    "ExecuteTime": {
     "end_time": "2019-07-14T21:23:14.128905Z",
     "start_time": "2019-07-14T21:23:13.934875Z"
    }
   },
   "outputs": [
    {
     "data": {
      "text/plain": [
       "<matplotlib.axes._subplots.AxesSubplot at 0x1a150872b0>"
      ]
     },
     "execution_count": 19,
     "metadata": {},
     "output_type": "execute_result"
    },
    {
     "data": {
      "image/png": "[encoded data removed]",
      "text/plain": [
       "<matplotlib.figure.Figure at 0x1a150eda20>"
      ]
     },
     "metadata": {},
     "output_type": "display_data"
    }
   ],
   "source": [
    "kmf.plot_survival_function_()"
   ]
  },
  {
   "cell_type": "code",
   "execution_count": 53,
   "metadata": {
    "ExecuteTime": {
     "end_time": "2019-07-14T21:40:13.856644Z",
     "start_time": "2019-07-14T21:40:13.838359Z"
    }
   },
   "outputs": [
    {
     "data": {
      "text/html": [
       "<div>\n",
       "<style scoped>\n",
       "    .dataframe tbody tr th:only-of-type {\n",
       "        vertical-align: middle;\n",
       "    }\n",
       "\n",
       "    .dataframe tbody tr th {\n",
       "        vertical-align: top;\n",
       "    }\n",
       "\n",
       "    .dataframe thead th {\n",
       "        text-align: right;\n",
       "    }\n",
       "</style>\n",
       "<table border=\"1\" class=\"dataframe\">\n",
       "  <thead>\n",
       "    <tr style=\"text-align: right;\">\n",
       "      <th></th>\n",
       "      <th>T</th>\n",
       "      <th>E</th>\n",
       "      <th>group</th>\n",
       "    </tr>\n",
       "  </thead>\n",
       "  <tbody>\n",
       "    <tr>\n",
       "      <th>0</th>\n",
       "      <td>6.0</td>\n",
       "      <td>1</td>\n",
       "      <td>miR-137</td>\n",
       "    </tr>\n",
       "    <tr>\n",
       "      <th>1</th>\n",
       "      <td>13.0</td>\n",
       "      <td>1</td>\n",
       "      <td>miR-137</td>\n",
       "    </tr>\n",
       "    <tr>\n",
       "      <th>2</th>\n",
       "      <td>13.0</td>\n",
       "      <td>1</td>\n",
       "      <td>miR-137</td>\n",
       "    </tr>\n",
       "    <tr>\n",
       "      <th>3</th>\n",
       "      <td>13.0</td>\n",
       "      <td>1</td>\n",
       "      <td>miR-137</td>\n",
       "    </tr>\n",
       "    <tr>\n",
       "      <th>4</th>\n",
       "      <td>19.0</td>\n",
       "      <td>1</td>\n",
       "      <td>miR-137</td>\n",
       "    </tr>\n",
       "    <tr>\n",
       "      <th>5</th>\n",
       "      <td>19.0</td>\n",
       "      <td>1</td>\n",
       "      <td>miR-137</td>\n",
       "    </tr>\n",
       "    <tr>\n",
       "      <th>6</th>\n",
       "      <td>19.0</td>\n",
       "      <td>1</td>\n",
       "      <td>miR-137</td>\n",
       "    </tr>\n",
       "    <tr>\n",
       "      <th>7</th>\n",
       "      <td>26.0</td>\n",
       "      <td>1</td>\n",
       "      <td>miR-137</td>\n",
       "    </tr>\n",
       "    <tr>\n",
       "      <th>8</th>\n",
       "      <td>26.0</td>\n",
       "      <td>1</td>\n",
       "      <td>miR-137</td>\n",
       "    </tr>\n",
       "    <tr>\n",
       "      <th>9</th>\n",
       "      <td>26.0</td>\n",
       "      <td>1</td>\n",
       "      <td>miR-137</td>\n",
       "    </tr>\n",
       "    <tr>\n",
       "      <th>10</th>\n",
       "      <td>26.0</td>\n",
       "      <td>1</td>\n",
       "      <td>miR-137</td>\n",
       "    </tr>\n",
       "    <tr>\n",
       "      <th>11</th>\n",
       "      <td>26.0</td>\n",
       "      <td>1</td>\n",
       "      <td>miR-137</td>\n",
       "    </tr>\n",
       "    <tr>\n",
       "      <th>12</th>\n",
       "      <td>33.0</td>\n",
       "      <td>1</td>\n",
       "      <td>miR-137</td>\n",
       "    </tr>\n",
       "    <tr>\n",
       "      <th>13</th>\n",
       "      <td>33.0</td>\n",
       "      <td>1</td>\n",
       "      <td>miR-137</td>\n",
       "    </tr>\n",
       "    <tr>\n",
       "      <th>14</th>\n",
       "      <td>47.0</td>\n",
       "      <td>1</td>\n",
       "      <td>miR-137</td>\n",
       "    </tr>\n",
       "    <tr>\n",
       "      <th>15</th>\n",
       "      <td>62.0</td>\n",
       "      <td>1</td>\n",
       "      <td>miR-137</td>\n",
       "    </tr>\n",
       "    <tr>\n",
       "      <th>16</th>\n",
       "      <td>62.0</td>\n",
       "      <td>1</td>\n",
       "      <td>miR-137</td>\n",
       "    </tr>\n",
       "    <tr>\n",
       "      <th>17</th>\n",
       "      <td>9.0</td>\n",
       "      <td>1</td>\n",
       "      <td>miR-137</td>\n",
       "    </tr>\n",
       "    <tr>\n",
       "      <th>18</th>\n",
       "      <td>9.0</td>\n",
       "      <td>1</td>\n",
       "      <td>miR-137</td>\n",
       "    </tr>\n",
       "    <tr>\n",
       "      <th>19</th>\n",
       "      <td>9.0</td>\n",
       "      <td>1</td>\n",
       "      <td>miR-137</td>\n",
       "    </tr>\n",
       "    <tr>\n",
       "      <th>20</th>\n",
       "      <td>15.0</td>\n",
       "      <td>1</td>\n",
       "      <td>miR-137</td>\n",
       "    </tr>\n",
       "    <tr>\n",
       "      <th>21</th>\n",
       "      <td>15.0</td>\n",
       "      <td>1</td>\n",
       "      <td>miR-137</td>\n",
       "    </tr>\n",
       "    <tr>\n",
       "      <th>22</th>\n",
       "      <td>22.0</td>\n",
       "      <td>1</td>\n",
       "      <td>miR-137</td>\n",
       "    </tr>\n",
       "    <tr>\n",
       "      <th>23</th>\n",
       "      <td>22.0</td>\n",
       "      <td>1</td>\n",
       "      <td>miR-137</td>\n",
       "    </tr>\n",
       "    <tr>\n",
       "      <th>24</th>\n",
       "      <td>22.0</td>\n",
       "      <td>1</td>\n",
       "      <td>miR-137</td>\n",
       "    </tr>\n",
       "    <tr>\n",
       "      <th>25</th>\n",
       "      <td>22.0</td>\n",
       "      <td>1</td>\n",
       "      <td>miR-137</td>\n",
       "    </tr>\n",
       "    <tr>\n",
       "      <th>26</th>\n",
       "      <td>29.0</td>\n",
       "      <td>1</td>\n",
       "      <td>miR-137</td>\n",
       "    </tr>\n",
       "    <tr>\n",
       "      <th>27</th>\n",
       "      <td>29.0</td>\n",
       "      <td>1</td>\n",
       "      <td>miR-137</td>\n",
       "    </tr>\n",
       "    <tr>\n",
       "      <th>28</th>\n",
       "      <td>29.0</td>\n",
       "      <td>1</td>\n",
       "      <td>miR-137</td>\n",
       "    </tr>\n",
       "    <tr>\n",
       "      <th>29</th>\n",
       "      <td>29.0</td>\n",
       "      <td>1</td>\n",
       "      <td>miR-137</td>\n",
       "    </tr>\n",
       "    <tr>\n",
       "      <th>...</th>\n",
       "      <td>...</td>\n",
       "      <td>...</td>\n",
       "      <td>...</td>\n",
       "    </tr>\n",
       "    <tr>\n",
       "      <th>133</th>\n",
       "      <td>69.0</td>\n",
       "      <td>1</td>\n",
       "      <td>control</td>\n",
       "    </tr>\n",
       "    <tr>\n",
       "      <th>134</th>\n",
       "      <td>38.0</td>\n",
       "      <td>1</td>\n",
       "      <td>control</td>\n",
       "    </tr>\n",
       "    <tr>\n",
       "      <th>135</th>\n",
       "      <td>38.0</td>\n",
       "      <td>1</td>\n",
       "      <td>control</td>\n",
       "    </tr>\n",
       "    <tr>\n",
       "      <th>136</th>\n",
       "      <td>45.0</td>\n",
       "      <td>1</td>\n",
       "      <td>control</td>\n",
       "    </tr>\n",
       "    <tr>\n",
       "      <th>137</th>\n",
       "      <td>45.0</td>\n",
       "      <td>1</td>\n",
       "      <td>control</td>\n",
       "    </tr>\n",
       "    <tr>\n",
       "      <th>138</th>\n",
       "      <td>45.0</td>\n",
       "      <td>1</td>\n",
       "      <td>control</td>\n",
       "    </tr>\n",
       "    <tr>\n",
       "      <th>139</th>\n",
       "      <td>45.0</td>\n",
       "      <td>1</td>\n",
       "      <td>control</td>\n",
       "    </tr>\n",
       "    <tr>\n",
       "      <th>140</th>\n",
       "      <td>45.0</td>\n",
       "      <td>1</td>\n",
       "      <td>control</td>\n",
       "    </tr>\n",
       "    <tr>\n",
       "      <th>141</th>\n",
       "      <td>45.0</td>\n",
       "      <td>1</td>\n",
       "      <td>control</td>\n",
       "    </tr>\n",
       "    <tr>\n",
       "      <th>142</th>\n",
       "      <td>45.0</td>\n",
       "      <td>1</td>\n",
       "      <td>control</td>\n",
       "    </tr>\n",
       "    <tr>\n",
       "      <th>143</th>\n",
       "      <td>45.0</td>\n",
       "      <td>1</td>\n",
       "      <td>control</td>\n",
       "    </tr>\n",
       "    <tr>\n",
       "      <th>144</th>\n",
       "      <td>45.0</td>\n",
       "      <td>0</td>\n",
       "      <td>control</td>\n",
       "    </tr>\n",
       "    <tr>\n",
       "      <th>145</th>\n",
       "      <td>45.0</td>\n",
       "      <td>1</td>\n",
       "      <td>control</td>\n",
       "    </tr>\n",
       "    <tr>\n",
       "      <th>146</th>\n",
       "      <td>53.0</td>\n",
       "      <td>1</td>\n",
       "      <td>control</td>\n",
       "    </tr>\n",
       "    <tr>\n",
       "      <th>147</th>\n",
       "      <td>53.0</td>\n",
       "      <td>1</td>\n",
       "      <td>control</td>\n",
       "    </tr>\n",
       "    <tr>\n",
       "      <th>148</th>\n",
       "      <td>53.0</td>\n",
       "      <td>1</td>\n",
       "      <td>control</td>\n",
       "    </tr>\n",
       "    <tr>\n",
       "      <th>149</th>\n",
       "      <td>53.0</td>\n",
       "      <td>1</td>\n",
       "      <td>control</td>\n",
       "    </tr>\n",
       "    <tr>\n",
       "      <th>150</th>\n",
       "      <td>53.0</td>\n",
       "      <td>1</td>\n",
       "      <td>control</td>\n",
       "    </tr>\n",
       "    <tr>\n",
       "      <th>151</th>\n",
       "      <td>60.0</td>\n",
       "      <td>1</td>\n",
       "      <td>control</td>\n",
       "    </tr>\n",
       "    <tr>\n",
       "      <th>152</th>\n",
       "      <td>60.0</td>\n",
       "      <td>0</td>\n",
       "      <td>control</td>\n",
       "    </tr>\n",
       "    <tr>\n",
       "      <th>153</th>\n",
       "      <td>60.0</td>\n",
       "      <td>1</td>\n",
       "      <td>control</td>\n",
       "    </tr>\n",
       "    <tr>\n",
       "      <th>154</th>\n",
       "      <td>60.0</td>\n",
       "      <td>1</td>\n",
       "      <td>control</td>\n",
       "    </tr>\n",
       "    <tr>\n",
       "      <th>155</th>\n",
       "      <td>60.0</td>\n",
       "      <td>1</td>\n",
       "      <td>control</td>\n",
       "    </tr>\n",
       "    <tr>\n",
       "      <th>156</th>\n",
       "      <td>60.0</td>\n",
       "      <td>1</td>\n",
       "      <td>control</td>\n",
       "    </tr>\n",
       "    <tr>\n",
       "      <th>157</th>\n",
       "      <td>60.0</td>\n",
       "      <td>1</td>\n",
       "      <td>control</td>\n",
       "    </tr>\n",
       "    <tr>\n",
       "      <th>158</th>\n",
       "      <td>60.0</td>\n",
       "      <td>1</td>\n",
       "      <td>control</td>\n",
       "    </tr>\n",
       "    <tr>\n",
       "      <th>159</th>\n",
       "      <td>60.0</td>\n",
       "      <td>1</td>\n",
       "      <td>control</td>\n",
       "    </tr>\n",
       "    <tr>\n",
       "      <th>160</th>\n",
       "      <td>60.0</td>\n",
       "      <td>1</td>\n",
       "      <td>control</td>\n",
       "    </tr>\n",
       "    <tr>\n",
       "      <th>161</th>\n",
       "      <td>60.0</td>\n",
       "      <td>1</td>\n",
       "      <td>control</td>\n",
       "    </tr>\n",
       "    <tr>\n",
       "      <th>162</th>\n",
       "      <td>66.0</td>\n",
       "      <td>1</td>\n",
       "      <td>control</td>\n",
       "    </tr>\n",
       "  </tbody>\n",
       "</table>\n",
       "<p>163 rows × 3 columns</p>\n",
       "</div>"
      ],
      "text/plain": [
       "        T  E    group\n",
       "0     6.0  1  miR-137\n",
       "1    13.0  1  miR-137\n",
       "2    13.0  1  miR-137\n",
       "3    13.0  1  miR-137\n",
       "4    19.0  1  miR-137\n",
       "5    19.0  1  miR-137\n",
       "6    19.0  1  miR-137\n",
       "7    26.0  1  miR-137\n",
       "8    26.0  1  miR-137\n",
       "9    26.0  1  miR-137\n",
       "10   26.0  1  miR-137\n",
       "11   26.0  1  miR-137\n",
       "12   33.0  1  miR-137\n",
       "13   33.0  1  miR-137\n",
       "14   47.0  1  miR-137\n",
       "15   62.0  1  miR-137\n",
       "16   62.0  1  miR-137\n",
       "17    9.0  1  miR-137\n",
       "18    9.0  1  miR-137\n",
       "19    9.0  1  miR-137\n",
       "20   15.0  1  miR-137\n",
       "21   15.0  1  miR-137\n",
       "22   22.0  1  miR-137\n",
       "23   22.0  1  miR-137\n",
       "24   22.0  1  miR-137\n",
       "25   22.0  1  miR-137\n",
       "26   29.0  1  miR-137\n",
       "27   29.0  1  miR-137\n",
       "28   29.0  1  miR-137\n",
       "29   29.0  1  miR-137\n",
       "..    ... ..      ...\n",
       "133  69.0  1  control\n",
       "134  38.0  1  control\n",
       "135  38.0  1  control\n",
       "136  45.0  1  control\n",
       "137  45.0  1  control\n",
       "138  45.0  1  control\n",
       "139  45.0  1  control\n",
       "140  45.0  1  control\n",
       "141  45.0  1  control\n",
       "142  45.0  1  control\n",
       "143  45.0  1  control\n",
       "144  45.0  0  control\n",
       "145  45.0  1  control\n",
       "146  53.0  1  control\n",
       "147  53.0  1  control\n",
       "148  53.0  1  control\n",
       "149  53.0  1  control\n",
       "150  53.0  1  control\n",
       "151  60.0  1  control\n",
       "152  60.0  0  control\n",
       "153  60.0  1  control\n",
       "154  60.0  1  control\n",
       "155  60.0  1  control\n",
       "156  60.0  1  control\n",
       "157  60.0  1  control\n",
       "158  60.0  1  control\n",
       "159  60.0  1  control\n",
       "160  60.0  1  control\n",
       "161  60.0  1  control\n",
       "162  66.0  1  control\n",
       "\n",
       "[163 rows x 3 columns]"
      ]
     },
     "execution_count": 53,
     "metadata": {},
     "output_type": "execute_result"
    }
   ],
   "source": [
    "df"
   ]
  },
  {
   "cell_type": "code",
   "execution_count": null,
   "metadata": {},
   "outputs": [],
   "source": []
  }
 ],
 "metadata": {
  "kernelspec": {
   "display_name": "Python 3",
   "language": "python",
   "name": "python3"
  },
  "language_info": {
   "codemirror_mode": {
    "name": "ipython",
    "version": 3
   },
   "file_extension": ".py",
   "mimetype": "text/x-python",
   "name": "python",
   "nbconvert_exporter": "python",
   "pygments_lexer": "ipython3",
   "version": "3.6.5"
  },
  "varInspector": {
   "cols": {
    "lenName": 16,
    "lenType": 16,
    "lenVar": 40
   },
   "kernels_config": {
    "python": {
     "delete_cmd_postfix": "",
     "delete_cmd_prefix": "del ",
     "library": "var_list.py",
     "varRefreshCmd": "print(var_dic_list())"
    },
    "r": {
     "delete_cmd_postfix": ") ",
     "delete_cmd_prefix": "rm(",
     "library": "var_list.r",
     "varRefreshCmd": "cat(var_dic_list()) "
    }
   },
   "types_to_exclude": [
    "module",
    "function",
    "builtin_function_or_method",
    "instance",
    "_Feature"
   ],
   "window_display": false
  }
 },
 "nbformat": 4,
 "nbformat_minor": 2
}
