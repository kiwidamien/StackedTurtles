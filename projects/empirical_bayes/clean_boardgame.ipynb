{
 "cells": [
  {
   "cell_type": "code",
   "execution_count": 1,
   "metadata": {
    "ExecuteTime": {
     "end_time": "2018-12-27T22:42:18.927237Z",
     "start_time": "2018-12-27T22:42:17.835671Z"
    }
   },
   "outputs": [],
   "source": [
    "import pandas as pd\n",
    "import numpy as np\n",
    "import matplotlib.pyplot as plt\n",
    "from scipy.stats import norm\n",
    "\n",
    "%matplotlib inline"
   ]
  },
  {
   "cell_type": "code",
   "execution_count": 2,
   "metadata": {
    "ExecuteTime": {
     "end_time": "2018-12-27T22:42:19.245879Z",
     "start_time": "2018-12-27T22:42:18.929598Z"
    }
   },
   "outputs": [
    {
     "name": "stderr",
     "output_type": "stream",
     "text": [
      "b'Skipping line 26487: expected 27 fields, saw 28\\nSkipping line 32475: expected 27 fields, saw 28\\n'\n",
      "b'Skipping line 33073: expected 27 fields, saw 28\\nSkipping line 35357: expected 27 fields, saw 28\\nSkipping line 45346: expected 27 fields, saw 28\\nSkipping line 47638: expected 27 fields, saw 28\\nSkipping line 47724: expected 27 fields, saw 28\\nSkipping line 50148: expected 27 fields, saw 28\\nSkipping line 53728: expected 27 fields, saw 28\\nSkipping line 56608: expected 27 fields, saw 28\\n'\n"
     ]
    },
    {
     "data": {
      "text/html": [
       "<div>\n",
       "<style scoped>\n",
       "    .dataframe tbody tr th:only-of-type {\n",
       "        vertical-align: middle;\n",
       "    }\n",
       "\n",
       "    .dataframe tbody tr th {\n",
       "        vertical-align: top;\n",
       "    }\n",
       "\n",
       "    .dataframe thead th {\n",
       "        text-align: right;\n",
       "    }\n",
       "</style>\n",
       "<table border=\"1\" class=\"dataframe\">\n",
       "  <thead>\n",
       "    <tr style=\"text-align: right;\">\n",
       "      <th></th>\n",
       "      <th>id</th>\n",
       "      <th>name</th>\n",
       "      <th>year_published</th>\n",
       "      <th>min_players</th>\n",
       "      <th>max_players</th>\n",
       "      <th>playingtime</th>\n",
       "      <th>min_age</th>\n",
       "      <th>users_rated</th>\n",
       "      <th>average_rating</th>\n",
       "      <th>rating_stddev</th>\n",
       "      <th>...</th>\n",
       "      <th>num_players_notrec</th>\n",
       "      <th>suggested_age</th>\n",
       "      <th>categories</th>\n",
       "      <th>mechanics</th>\n",
       "      <th>boardgamefamilies</th>\n",
       "      <th>implementation_of</th>\n",
       "      <th>designers</th>\n",
       "      <th>artists</th>\n",
       "      <th>publishers</th>\n",
       "      <th>Unnamed: 26</th>\n",
       "    </tr>\n",
       "  </thead>\n",
       "  <tbody>\n",
       "    <tr>\n",
       "      <th>0</th>\n",
       "      <td>1</td>\n",
       "      <td>Die Macher</td>\n",
       "      <td>1986</td>\n",
       "      <td>3</td>\n",
       "      <td>5</td>\n",
       "      <td>240</td>\n",
       "      <td>14</td>\n",
       "      <td>3973</td>\n",
       "      <td>771006</td>\n",
       "      <td>156772</td>\n",
       "      <td>...</td>\n",
       "      <td>1:71,2:71,3:62,4:10,5:2,-1:50</td>\n",
       "      <td>2:0,3:0,4:0,5:0,6:0,8:0,10:0,12:5,14:13,16:4,1...</td>\n",
       "      <td>1017,1021,1026,1001</td>\n",
       "      <td>2080,2012,2072,2040</td>\n",
       "      <td>10643,91</td>\n",
       "      <td>NaN</td>\n",
       "      <td>1</td>\n",
       "      <td>12517</td>\n",
       "      <td>133,2,5382</td>\n",
       "      <td>NaN</td>\n",
       "    </tr>\n",
       "    <tr>\n",
       "      <th>1</th>\n",
       "      <td>2</td>\n",
       "      <td>Dragonmaster</td>\n",
       "      <td>1981</td>\n",
       "      <td>3</td>\n",
       "      <td>4</td>\n",
       "      <td>30</td>\n",
       "      <td>12</td>\n",
       "      <td>405</td>\n",
       "      <td>660742</td>\n",
       "      <td>145377</td>\n",
       "      <td>...</td>\n",
       "      <td>1:2,2:2,3:1,4:0,-1:2</td>\n",
       "      <td>2:0,3:0,4:0,5:0,6:0,8:0,10:0,12:0,14:0,16:0,18...</td>\n",
       "      <td>1002,1010</td>\n",
       "      <td>2009</td>\n",
       "      <td>7005</td>\n",
       "      <td>2174</td>\n",
       "      <td>8384</td>\n",
       "      <td>12424</td>\n",
       "      <td>64,20</td>\n",
       "      <td>NaN</td>\n",
       "    </tr>\n",
       "    <tr>\n",
       "      <th>2</th>\n",
       "      <td>3</td>\n",
       "      <td>Samurai</td>\n",
       "      <td>1998</td>\n",
       "      <td>2</td>\n",
       "      <td>4</td>\n",
       "      <td>45</td>\n",
       "      <td>10</td>\n",
       "      <td>9847</td>\n",
       "      <td>74486</td>\n",
       "      <td>119943</td>\n",
       "      <td>...</td>\n",
       "      <td>1:94,2:9,3:2,4:20,-1:79</td>\n",
       "      <td>2:0,3:0,4:0,5:0,6:4,8:9,10:18,12:2,14:0,16:0,1...</td>\n",
       "      <td>1035</td>\n",
       "      <td>2080,2040,2004,2002</td>\n",
       "      <td>9470,10634,42</td>\n",
       "      <td>NaN</td>\n",
       "      <td>2</td>\n",
       "      <td>11883</td>\n",
       "      <td>267,29,7340,7335,41,133,1391,5812,3218,3,3954,...</td>\n",
       "      <td>NaN</td>\n",
       "    </tr>\n",
       "    <tr>\n",
       "      <th>3</th>\n",
       "      <td>4</td>\n",
       "      <td>Tal der Könige</td>\n",
       "      <td>1992</td>\n",
       "      <td>2</td>\n",
       "      <td>4</td>\n",
       "      <td>60</td>\n",
       "      <td>12</td>\n",
       "      <td>286</td>\n",
       "      <td>664937</td>\n",
       "      <td>119351</td>\n",
       "      <td>...</td>\n",
       "      <td>1:4,2:2,3:0,4:0,-1:3</td>\n",
       "      <td>2:0,3:0,4:0,5:0,6:0,8:0,10:0,12:0,14:1,16:0,18...</td>\n",
       "      <td>1050</td>\n",
       "      <td>2001,2080,2012,2004</td>\n",
       "      <td>6471,11505</td>\n",
       "      <td>NaN</td>\n",
       "      <td>8008</td>\n",
       "      <td>NaN</td>\n",
       "      <td>37</td>\n",
       "      <td>NaN</td>\n",
       "    </tr>\n",
       "    <tr>\n",
       "      <th>4</th>\n",
       "      <td>5</td>\n",
       "      <td>Acquire</td>\n",
       "      <td>1962</td>\n",
       "      <td>3</td>\n",
       "      <td>6</td>\n",
       "      <td>90</td>\n",
       "      <td>12</td>\n",
       "      <td>12031</td>\n",
       "      <td>739447</td>\n",
       "      <td>132372</td>\n",
       "      <td>...</td>\n",
       "      <td>1:128,2:129,3:33,4:1,5:21,6:66,-1:108</td>\n",
       "      <td>2:0,3:0,4:0,5:0,6:0,8:4,10:17,12:20,14:8,16:1,...</td>\n",
       "      <td>1021</td>\n",
       "      <td>2040,2005,2002</td>\n",
       "      <td>4891</td>\n",
       "      <td>NaN</td>\n",
       "      <td>4</td>\n",
       "      <td>12658</td>\n",
       "      <td>92,5,4871,3082,858,2962,5392,4668,38,4622,7107</td>\n",
       "      <td>NaN</td>\n",
       "    </tr>\n",
       "  </tbody>\n",
       "</table>\n",
       "<p>5 rows × 27 columns</p>\n",
       "</div>"
      ],
      "text/plain": [
       "   id            name  year_published  min_players  max_players  playingtime  \\\n",
       "0   1      Die Macher            1986            3            5          240   \n",
       "1   2    Dragonmaster            1981            3            4           30   \n",
       "2   3         Samurai            1998            2            4           45   \n",
       "3   4  Tal der Könige            1992            2            4           60   \n",
       "4   5         Acquire            1962            3            6           90   \n",
       "\n",
       "   min_age  users_rated  average_rating  rating_stddev     ...      \\\n",
       "0       14         3973          771006         156772     ...       \n",
       "1       12          405          660742         145377     ...       \n",
       "2       10         9847           74486         119943     ...       \n",
       "3       12          286          664937         119351     ...       \n",
       "4       12        12031          739447         132372     ...       \n",
       "\n",
       "                      num_players_notrec  \\\n",
       "0          1:71,2:71,3:62,4:10,5:2,-1:50   \n",
       "1                   1:2,2:2,3:1,4:0,-1:2   \n",
       "2                1:94,2:9,3:2,4:20,-1:79   \n",
       "3                   1:4,2:2,3:0,4:0,-1:3   \n",
       "4  1:128,2:129,3:33,4:1,5:21,6:66,-1:108   \n",
       "\n",
       "                                       suggested_age           categories  \\\n",
       "0  2:0,3:0,4:0,5:0,6:0,8:0,10:0,12:5,14:13,16:4,1...  1017,1021,1026,1001   \n",
       "1  2:0,3:0,4:0,5:0,6:0,8:0,10:0,12:0,14:0,16:0,18...            1002,1010   \n",
       "2  2:0,3:0,4:0,5:0,6:4,8:9,10:18,12:2,14:0,16:0,1...                 1035   \n",
       "3  2:0,3:0,4:0,5:0,6:0,8:0,10:0,12:0,14:1,16:0,18...                 1050   \n",
       "4  2:0,3:0,4:0,5:0,6:0,8:4,10:17,12:20,14:8,16:1,...                 1021   \n",
       "\n",
       "             mechanics  boardgamefamilies implementation_of designers artists  \\\n",
       "0  2080,2012,2072,2040           10643,91               NaN         1   12517   \n",
       "1                 2009               7005              2174      8384   12424   \n",
       "2  2080,2040,2004,2002      9470,10634,42               NaN         2   11883   \n",
       "3  2001,2080,2012,2004         6471,11505               NaN      8008     NaN   \n",
       "4       2040,2005,2002               4891               NaN         4   12658   \n",
       "\n",
       "                                          publishers Unnamed: 26  \n",
       "0                                         133,2,5382         NaN  \n",
       "1                                              64,20         NaN  \n",
       "2  267,29,7340,7335,41,133,1391,5812,3218,3,3954,...         NaN  \n",
       "3                                                 37         NaN  \n",
       "4     92,5,4871,3082,858,2962,5392,4668,38,4622,7107         NaN  \n",
       "\n",
       "[5 rows x 27 columns]"
      ]
     },
     "execution_count": 2,
     "metadata": {},
     "output_type": "execute_result"
    }
   ],
   "source": [
    "games = pd.read_csv('data/boardgame.csv', sep=';', error_bad_lines=False)\n",
    "games.head()"
   ]
  },
  {
   "cell_type": "code",
   "execution_count": 3,
   "metadata": {
    "ExecuteTime": {
     "end_time": "2018-12-27T22:42:19.253835Z",
     "start_time": "2018-12-27T22:42:19.248166Z"
    }
   },
   "outputs": [
    {
     "data": {
      "text/plain": [
       "Index(['id', 'name', 'year_published', 'min_players', 'max_players',\n",
       "       'playingtime', 'min_age', 'users_rated', 'average_rating',\n",
       "       'rating_stddev', 'num_owned', 'num_trading', 'num_wanting',\n",
       "       'num_wishing', 'num_comments', 'num_players_best', 'num_players_rec',\n",
       "       'num_players_notrec', 'suggested_age', 'categories', 'mechanics',\n",
       "       'boardgamefamilies', 'implementation_of', 'designers', 'artists',\n",
       "       'publishers', 'Unnamed: 26'],\n",
       "      dtype='object')"
      ]
     },
     "execution_count": 3,
     "metadata": {},
     "output_type": "execute_result"
    }
   ],
   "source": [
    "games.columns"
   ]
  },
  {
   "cell_type": "markdown",
   "metadata": {},
   "source": [
    "Eliminate some extraneous columns"
   ]
  },
  {
   "cell_type": "code",
   "execution_count": 4,
   "metadata": {
    "ExecuteTime": {
     "end_time": "2018-12-27T22:42:19.264274Z",
     "start_time": "2018-12-27T22:42:19.256295Z"
    }
   },
   "outputs": [],
   "source": [
    "to_drop = ['id', 'num_players_best', 'num_comments', 'num_players_rec', 'num_players_notrec', 'suggested_age', \n",
    "           'num_owned', 'num_wishing', 'num_wanting', 'categories', 'implementation_of', 'artists',\n",
    "           'publishers', 'mechanics', 'num_trading', 'designers', 'Unnamed: 26']\n",
    "games = games.drop(to_drop, axis=1)"
   ]
  },
  {
   "cell_type": "code",
   "execution_count": 5,
   "metadata": {
    "ExecuteTime": {
     "end_time": "2018-12-27T22:42:19.278452Z",
     "start_time": "2018-12-27T22:42:19.266518Z"
    }
   },
   "outputs": [
    {
     "data": {
      "text/html": [
       "<div>\n",
       "<style scoped>\n",
       "    .dataframe tbody tr th:only-of-type {\n",
       "        vertical-align: middle;\n",
       "    }\n",
       "\n",
       "    .dataframe tbody tr th {\n",
       "        vertical-align: top;\n",
       "    }\n",
       "\n",
       "    .dataframe thead th {\n",
       "        text-align: right;\n",
       "    }\n",
       "</style>\n",
       "<table border=\"1\" class=\"dataframe\">\n",
       "  <thead>\n",
       "    <tr style=\"text-align: right;\">\n",
       "      <th></th>\n",
       "      <th>name</th>\n",
       "      <th>year_published</th>\n",
       "      <th>min_players</th>\n",
       "      <th>max_players</th>\n",
       "      <th>playingtime</th>\n",
       "      <th>min_age</th>\n",
       "      <th>users_rated</th>\n",
       "      <th>average_rating</th>\n",
       "      <th>rating_stddev</th>\n",
       "      <th>boardgamefamilies</th>\n",
       "    </tr>\n",
       "  </thead>\n",
       "  <tbody>\n",
       "    <tr>\n",
       "      <th>0</th>\n",
       "      <td>Die Macher</td>\n",
       "      <td>1986</td>\n",
       "      <td>3</td>\n",
       "      <td>5</td>\n",
       "      <td>240</td>\n",
       "      <td>14</td>\n",
       "      <td>3973</td>\n",
       "      <td>771006</td>\n",
       "      <td>156772</td>\n",
       "      <td>10643,91</td>\n",
       "    </tr>\n",
       "    <tr>\n",
       "      <th>1</th>\n",
       "      <td>Dragonmaster</td>\n",
       "      <td>1981</td>\n",
       "      <td>3</td>\n",
       "      <td>4</td>\n",
       "      <td>30</td>\n",
       "      <td>12</td>\n",
       "      <td>405</td>\n",
       "      <td>660742</td>\n",
       "      <td>145377</td>\n",
       "      <td>7005</td>\n",
       "    </tr>\n",
       "    <tr>\n",
       "      <th>2</th>\n",
       "      <td>Samurai</td>\n",
       "      <td>1998</td>\n",
       "      <td>2</td>\n",
       "      <td>4</td>\n",
       "      <td>45</td>\n",
       "      <td>10</td>\n",
       "      <td>9847</td>\n",
       "      <td>74486</td>\n",
       "      <td>119943</td>\n",
       "      <td>9470,10634,42</td>\n",
       "    </tr>\n",
       "    <tr>\n",
       "      <th>3</th>\n",
       "      <td>Tal der Könige</td>\n",
       "      <td>1992</td>\n",
       "      <td>2</td>\n",
       "      <td>4</td>\n",
       "      <td>60</td>\n",
       "      <td>12</td>\n",
       "      <td>286</td>\n",
       "      <td>664937</td>\n",
       "      <td>119351</td>\n",
       "      <td>6471,11505</td>\n",
       "    </tr>\n",
       "    <tr>\n",
       "      <th>4</th>\n",
       "      <td>Acquire</td>\n",
       "      <td>1962</td>\n",
       "      <td>3</td>\n",
       "      <td>6</td>\n",
       "      <td>90</td>\n",
       "      <td>12</td>\n",
       "      <td>12031</td>\n",
       "      <td>739447</td>\n",
       "      <td>132372</td>\n",
       "      <td>4891</td>\n",
       "    </tr>\n",
       "    <tr>\n",
       "      <th>5</th>\n",
       "      <td>Mare Mediterraneum</td>\n",
       "      <td>1989</td>\n",
       "      <td>2</td>\n",
       "      <td>6</td>\n",
       "      <td>240</td>\n",
       "      <td>12</td>\n",
       "      <td>64</td>\n",
       "      <td>654219</td>\n",
       "      <td>169317</td>\n",
       "      <td>NaN</td>\n",
       "    </tr>\n",
       "    <tr>\n",
       "      <th>6</th>\n",
       "      <td>Cathedral</td>\n",
       "      <td>1978</td>\n",
       "      <td>2</td>\n",
       "      <td>2</td>\n",
       "      <td>20</td>\n",
       "      <td>8</td>\n",
       "      <td>2232</td>\n",
       "      <td>654924</td>\n",
       "      <td>128609</td>\n",
       "      <td>24571</td>\n",
       "    </tr>\n",
       "    <tr>\n",
       "      <th>7</th>\n",
       "      <td>Lords of Creation</td>\n",
       "      <td>1993</td>\n",
       "      <td>2</td>\n",
       "      <td>5</td>\n",
       "      <td>120</td>\n",
       "      <td>12</td>\n",
       "      <td>163</td>\n",
       "      <td>613344</td>\n",
       "      <td>123582</td>\n",
       "      <td>NaN</td>\n",
       "    </tr>\n",
       "    <tr>\n",
       "      <th>8</th>\n",
       "      <td>El Caballero</td>\n",
       "      <td>1998</td>\n",
       "      <td>2</td>\n",
       "      <td>4</td>\n",
       "      <td>90</td>\n",
       "      <td>13</td>\n",
       "      <td>1088</td>\n",
       "      <td>658139</td>\n",
       "      <td>142547</td>\n",
       "      <td>9959</td>\n",
       "    </tr>\n",
       "    <tr>\n",
       "      <th>9</th>\n",
       "      <td>Elfenland</td>\n",
       "      <td>1998</td>\n",
       "      <td>2</td>\n",
       "      <td>6</td>\n",
       "      <td>60</td>\n",
       "      <td>10</td>\n",
       "      <td>5523</td>\n",
       "      <td>677361</td>\n",
       "      <td>124621</td>\n",
       "      <td>19299</td>\n",
       "    </tr>\n",
       "  </tbody>\n",
       "</table>\n",
       "</div>"
      ],
      "text/plain": [
       "                 name  year_published  min_players  max_players  playingtime  \\\n",
       "0          Die Macher            1986            3            5          240   \n",
       "1        Dragonmaster            1981            3            4           30   \n",
       "2             Samurai            1998            2            4           45   \n",
       "3      Tal der Könige            1992            2            4           60   \n",
       "4             Acquire            1962            3            6           90   \n",
       "5  Mare Mediterraneum            1989            2            6          240   \n",
       "6           Cathedral            1978            2            2           20   \n",
       "7   Lords of Creation            1993            2            5          120   \n",
       "8        El Caballero            1998            2            4           90   \n",
       "9           Elfenland            1998            2            6           60   \n",
       "\n",
       "   min_age  users_rated  average_rating  rating_stddev boardgamefamilies  \n",
       "0       14         3973          771006         156772          10643,91  \n",
       "1       12          405          660742         145377              7005  \n",
       "2       10         9847           74486         119943     9470,10634,42  \n",
       "3       12          286          664937         119351        6471,11505  \n",
       "4       12        12031          739447         132372              4891  \n",
       "5       12           64          654219         169317               NaN  \n",
       "6        8         2232          654924         128609             24571  \n",
       "7       12          163          613344         123582               NaN  \n",
       "8       13         1088          658139         142547              9959  \n",
       "9       10         5523          677361         124621             19299  "
      ]
     },
     "execution_count": 5,
     "metadata": {},
     "output_type": "execute_result"
    }
   ],
   "source": [
    "games.head(10)"
   ]
  },
  {
   "cell_type": "code",
   "execution_count": 6,
   "metadata": {
    "ExecuteTime": {
     "end_time": "2018-12-27T22:42:19.310554Z",
     "start_time": "2018-12-27T22:42:19.281602Z"
    }
   },
   "outputs": [
    {
     "name": "stdout",
     "output_type": "stream",
     "text": [
      "<class 'pandas.core.frame.DataFrame'>\n",
      "RangeIndex: 61803 entries, 0 to 61802\n",
      "Data columns (total 10 columns):\n",
      "name                 61803 non-null object\n",
      "year_published       61803 non-null int64\n",
      "min_players          61803 non-null int64\n",
      "max_players          61803 non-null int64\n",
      "playingtime          61803 non-null int64\n",
      "min_age              61803 non-null int64\n",
      "users_rated          61803 non-null int64\n",
      "average_rating       61803 non-null int64\n",
      "rating_stddev        61803 non-null int64\n",
      "boardgamefamilies    30328 non-null object\n",
      "dtypes: int64(8), object(2)\n",
      "memory usage: 4.7+ MB\n"
     ]
    }
   ],
   "source": [
    "games.info()"
   ]
  },
  {
   "cell_type": "code",
   "execution_count": null,
   "metadata": {
    "ExecuteTime": {
     "end_time": "2018-12-27T22:19:08.238772Z",
     "start_time": "2018-12-27T22:19:08.173726Z"
    }
   },
   "outputs": [],
   "source": []
  },
  {
   "cell_type": "code",
   "execution_count": 7,
   "metadata": {
    "ExecuteTime": {
     "end_time": "2018-12-27T22:42:19.320233Z",
     "start_time": "2018-12-27T22:42:19.312755Z"
    }
   },
   "outputs": [
    {
     "data": {
      "text/plain": [
       "7.71006"
      ]
     },
     "execution_count": 7,
     "metadata": {},
     "output_type": "execute_result"
    }
   ],
   "source": [
    "def round(x):\n",
    "    scale = 10**np.floor(np.log10(x))\n",
    "    return x/scale\n",
    "\n",
    "round(771006.000000)"
   ]
  },
  {
   "cell_type": "code",
   "execution_count": 8,
   "metadata": {
    "ExecuteTime": {
     "end_time": "2018-12-27T22:42:19.758209Z",
     "start_time": "2018-12-27T22:42:19.322919Z"
    }
   },
   "outputs": [],
   "source": [
    "games['average_rating'] = games['average_rating'].apply(round)\n",
    "games['rating_stddev'] = games['rating_stddev'].apply(round)\n",
    "\n",
    "games = games.dropna(subset=['average_rating'])"
   ]
  },
  {
   "cell_type": "code",
   "execution_count": 9,
   "metadata": {
    "ExecuteTime": {
     "end_time": "2018-12-27T22:42:19.776391Z",
     "start_time": "2018-12-27T22:42:19.760611Z"
    }
   },
   "outputs": [
    {
     "name": "stdout",
     "output_type": "stream",
     "text": [
      "<class 'pandas.core.frame.DataFrame'>\n",
      "Int64Index: 40889 entries, 0 to 61802\n",
      "Data columns (total 10 columns):\n",
      "name                 40889 non-null object\n",
      "year_published       40889 non-null int64\n",
      "min_players          40889 non-null int64\n",
      "max_players          40889 non-null int64\n",
      "playingtime          40889 non-null int64\n",
      "min_age              40889 non-null int64\n",
      "users_rated          40889 non-null int64\n",
      "average_rating       40889 non-null float64\n",
      "rating_stddev        30480 non-null float64\n",
      "boardgamefamilies    21702 non-null object\n",
      "dtypes: float64(2), int64(6), object(2)\n",
      "memory usage: 3.4+ MB\n"
     ]
    }
   ],
   "source": [
    "games.info()"
   ]
  },
  {
   "cell_type": "code",
   "execution_count": 10,
   "metadata": {
    "ExecuteTime": {
     "end_time": "2018-12-27T22:42:20.237680Z",
     "start_time": "2018-12-27T22:42:19.779816Z"
    }
   },
   "outputs": [
    {
     "data": {
      "image/png": "[encoded data removed]",
      "text/plain": [
       "<matplotlib.figure.Figure at 0x1a0cfa8a20>"
      ]
     },
     "metadata": {},
     "output_type": "display_data"
    }
   ],
   "source": [
    "MIN_USERS_TO_COUNT = 30\n",
    "mask_enough_ratings = (games['users_rated'] > MIN_USERS_TO_COUNT)\n",
    "\n",
    "plt.figure(dpi=120)\n",
    "plt.hist(games.loc[mask_enough_ratings, 'average_rating'], bins=100)\n",
    "plt.xlabel('rating')\n",
    "plt.ylabel('# games');"
   ]
  },
  {
   "cell_type": "code",
   "execution_count": 11,
   "metadata": {
    "ExecuteTime": {
     "end_time": "2018-12-27T22:42:20.247074Z",
     "start_time": "2018-12-27T22:42:20.239921Z"
    }
   },
   "outputs": [
    {
     "data": {
      "text/plain": [
       "(6.243212717004798, 0.8095482920570869)"
      ]
     },
     "execution_count": 11,
     "metadata": {},
     "output_type": "execute_result"
    }
   ],
   "source": [
    "moment_subset = games.loc[mask_enough_ratings, 'average_rating']\n",
    "pop_mean = moment_subset.mean()\n",
    "pop_var = moment_subset.var()\n",
    "\n",
    "pop_mean, pop_var"
   ]
  },
  {
   "cell_type": "code",
   "execution_count": 12,
   "metadata": {
    "ExecuteTime": {
     "end_time": "2018-12-27T22:42:20.522460Z",
     "start_time": "2018-12-27T22:42:20.248933Z"
    }
   },
   "outputs": [
    {
     "data": {
      "image/png": "[encoded data removed]",
      "text/plain": [
       "<matplotlib.figure.Figure at 0x1a0d862780>"
      ]
     },
     "metadata": {},
     "output_type": "display_data"
    }
   ],
   "source": [
    "MIN_USERS_TO_COUNT = 30\n",
    "mask_enough_ratings = (games['users_rated'] > MIN_USERS_TO_COUNT)\n",
    "\n",
    "X = np.linspace(0, 10, 200)\n",
    "\n",
    "plt.figure(dpi=120)\n",
    "plt.hist(games.loc[mask_enough_ratings, 'average_rating'], bins=100, normed=True)\n",
    "plt.plot(X, norm.pdf(X, pop_mean, pop_var))\n",
    "plt.xlabel('rating')\n",
    "plt.ylabel('# games');"
   ]
  },
  {
   "cell_type": "code",
   "execution_count": 13,
   "metadata": {
    "ExecuteTime": {
     "end_time": "2018-12-27T22:42:20.547713Z",
     "start_time": "2018-12-27T22:42:20.525979Z"
    }
   },
   "outputs": [],
   "source": [
    "pd.to_pickle(games, 'data/boardgame_clean.pkl')"
   ]
  }
 ],
 "metadata": {
  "kernelspec": {
   "display_name": "Python 3",
   "language": "python",
   "name": "python3"
  },
  "language_info": {
   "codemirror_mode": {
    "name": "ipython",
    "version": 3
   },
   "file_extension": ".py",
   "mimetype": "text/x-python",
   "name": "python",
   "nbconvert_exporter": "python",
   "pygments_lexer": "ipython3",
   "version": "3.6.5"
  },
  "varInspector": {
   "cols": {
    "lenName": 16,
    "lenType": 16,
    "lenVar": 40
   },
   "kernels_config": {
    "python": {
     "delete_cmd_postfix": "",
     "delete_cmd_prefix": "del ",
     "library": "var_list.py",
     "varRefreshCmd": "print(var_dic_list())"
    },
    "r": {
     "delete_cmd_postfix": ") ",
     "delete_cmd_prefix": "rm(",
     "library": "var_list.r",
     "varRefreshCmd": "cat(var_dic_list()) "
    }
   },
   "types_to_exclude": [
    "module",
    "function",
    "builtin_function_or_method",
    "instance",
    "_Feature"
   ],
   "window_display": false
  }
 },
 "nbformat": 4,
 "nbformat_minor": 2
}
